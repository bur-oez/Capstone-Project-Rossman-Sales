{
 "cells": [
  {
   "cell_type": "code",
   "execution_count": 1,
   "id": "b75ae131",
   "metadata": {},
   "outputs": [],
   "source": [
    "# Ignore warnings\n",
    "\n",
    "import warnings\n",
    "warnings.filterwarnings('ignore')\n",
    "\n",
    "# Data handling\n",
    "\n",
    "import pandas as pd\n",
    "import numpy as np\n",
    "import calendar\n",
    "import datetime"
   ]
  },
  {
   "cell_type": "markdown",
   "id": "b47b76ce",
   "metadata": {},
   "source": [
    "# Data Cleaning"
   ]
  },
  {
   "cell_type": "code",
   "execution_count": 2,
   "id": "874bfdc7",
   "metadata": {},
   "outputs": [],
   "source": [
    "# Load the data\n",
    "\n",
    "df_train = pd.read_csv('data/train.csv')\n",
    "df_test = pd.read_csv('data/test.csv')\n",
    "df_store = pd.read_csv('data/store.csv')"
   ]
  },
  {
   "cell_type": "code",
   "execution_count": 3,
   "id": "d278fb47",
   "metadata": {},
   "outputs": [
    {
     "data": {
      "text/html": [
       "<div>\n",
       "<style scoped>\n",
       "    .dataframe tbody tr th:only-of-type {\n",
       "        vertical-align: middle;\n",
       "    }\n",
       "\n",
       "    .dataframe tbody tr th {\n",
       "        vertical-align: top;\n",
       "    }\n",
       "\n",
       "    .dataframe thead th {\n",
       "        text-align: right;\n",
       "    }\n",
       "</style>\n",
       "<table border=\"1\" class=\"dataframe\">\n",
       "  <thead>\n",
       "    <tr style=\"text-align: right;\">\n",
       "      <th></th>\n",
       "      <th>Store</th>\n",
       "      <th>DayOfWeek</th>\n",
       "      <th>Date</th>\n",
       "      <th>Sales</th>\n",
       "      <th>Customers</th>\n",
       "      <th>Open</th>\n",
       "      <th>Promo</th>\n",
       "      <th>StateHoliday</th>\n",
       "      <th>SchoolHoliday</th>\n",
       "    </tr>\n",
       "  </thead>\n",
       "  <tbody>\n",
       "    <tr>\n",
       "      <th>0</th>\n",
       "      <td>1</td>\n",
       "      <td>5</td>\n",
       "      <td>2015-07-31</td>\n",
       "      <td>5263</td>\n",
       "      <td>555</td>\n",
       "      <td>1</td>\n",
       "      <td>1</td>\n",
       "      <td>0</td>\n",
       "      <td>1</td>\n",
       "    </tr>\n",
       "    <tr>\n",
       "      <th>1</th>\n",
       "      <td>2</td>\n",
       "      <td>5</td>\n",
       "      <td>2015-07-31</td>\n",
       "      <td>6064</td>\n",
       "      <td>625</td>\n",
       "      <td>1</td>\n",
       "      <td>1</td>\n",
       "      <td>0</td>\n",
       "      <td>1</td>\n",
       "    </tr>\n",
       "    <tr>\n",
       "      <th>2</th>\n",
       "      <td>3</td>\n",
       "      <td>5</td>\n",
       "      <td>2015-07-31</td>\n",
       "      <td>8314</td>\n",
       "      <td>821</td>\n",
       "      <td>1</td>\n",
       "      <td>1</td>\n",
       "      <td>0</td>\n",
       "      <td>1</td>\n",
       "    </tr>\n",
       "    <tr>\n",
       "      <th>3</th>\n",
       "      <td>4</td>\n",
       "      <td>5</td>\n",
       "      <td>2015-07-31</td>\n",
       "      <td>13995</td>\n",
       "      <td>1498</td>\n",
       "      <td>1</td>\n",
       "      <td>1</td>\n",
       "      <td>0</td>\n",
       "      <td>1</td>\n",
       "    </tr>\n",
       "    <tr>\n",
       "      <th>4</th>\n",
       "      <td>5</td>\n",
       "      <td>5</td>\n",
       "      <td>2015-07-31</td>\n",
       "      <td>4822</td>\n",
       "      <td>559</td>\n",
       "      <td>1</td>\n",
       "      <td>1</td>\n",
       "      <td>0</td>\n",
       "      <td>1</td>\n",
       "    </tr>\n",
       "  </tbody>\n",
       "</table>\n",
       "</div>"
      ],
      "text/plain": [
       "   Store  DayOfWeek        Date  Sales  Customers  Open  Promo StateHoliday  \\\n",
       "0      1          5  2015-07-31   5263        555     1      1            0   \n",
       "1      2          5  2015-07-31   6064        625     1      1            0   \n",
       "2      3          5  2015-07-31   8314        821     1      1            0   \n",
       "3      4          5  2015-07-31  13995       1498     1      1            0   \n",
       "4      5          5  2015-07-31   4822        559     1      1            0   \n",
       "\n",
       "   SchoolHoliday  \n",
       "0              1  \n",
       "1              1  \n",
       "2              1  \n",
       "3              1  \n",
       "4              1  "
      ]
     },
     "execution_count": 3,
     "metadata": {},
     "output_type": "execute_result"
    }
   ],
   "source": [
    "df_train.head()"
   ]
  },
  {
   "cell_type": "code",
   "execution_count": 4,
   "id": "2528bdbf",
   "metadata": {},
   "outputs": [],
   "source": [
    "# Function to rename columns in lower case\n",
    "\n",
    "def lower_case(dataframe):\n",
    "    cols = dataframe.columns.tolist()\n",
    "    cols = [col.lower() for col in cols]\n",
    "    dataframe.columns = cols\n",
    "    return dataframe"
   ]
  },
  {
   "cell_type": "code",
   "execution_count": 5,
   "id": "ebf3c860",
   "metadata": {},
   "outputs": [],
   "source": [
    "lower_case(df_train);\n",
    "lower_case(df_store);\n",
    "lower_case(df_test);"
   ]
  },
  {
   "cell_type": "code",
   "execution_count": 6,
   "id": "cfa85471",
   "metadata": {},
   "outputs": [],
   "source": [
    "# Function to change date into datetime\n",
    "\n",
    "def datetime(dataframe):\n",
    "    dataframe = dataframe.assign(\n",
    "        timestamp = lambda x: pd.to_datetime(x['date']),\n",
    "        year = lambda x: x['timestamp'].dt.year,\n",
    "        month = lambda x: x['timestamp'].dt.month,\n",
    "        day = lambda x: x['timestamp'].dt.day,\n",
    "        dayofyear = lambda x: x['timestamp'].dt.dayofyear)\n",
    "    return dataframe"
   ]
  },
  {
   "cell_type": "code",
   "execution_count": 7,
   "id": "09b21706",
   "metadata": {},
   "outputs": [],
   "source": [
    "df_train = datetime(df_train)\n",
    "df_train.drop(\"date\", inplace=True, axis=1)\n",
    "\n",
    "\n",
    "df_test = datetime(df_test)\n",
    "df_test.drop(\"date\", inplace=True, axis=1)"
   ]
  },
  {
   "cell_type": "code",
   "execution_count": 8,
   "id": "cb484fa1",
   "metadata": {},
   "outputs": [
    {
     "data": {
      "text/plain": [
       "Index(['store', 'dayofweek', 'sales', 'customers', 'open', 'promo',\n",
       "       'stateholiday', 'schoolholiday', 'timestamp', 'year', 'month', 'day',\n",
       "       'dayofyear'],\n",
       "      dtype='object')"
      ]
     },
     "execution_count": 8,
     "metadata": {},
     "output_type": "execute_result"
    }
   ],
   "source": [
    "df_train.columns"
   ]
  },
  {
   "cell_type": "markdown",
   "id": "7baae2e3",
   "metadata": {},
   "source": [
    "### Handling NaN's"
   ]
  },
  {
   "cell_type": "code",
   "execution_count": 9,
   "id": "e6793c02",
   "metadata": {},
   "outputs": [
    {
     "data": {
      "text/plain": [
       "store                          0\n",
       "storetype                      0\n",
       "assortment                     0\n",
       "competitiondistance            3\n",
       "competitionopensincemonth    354\n",
       "competitionopensinceyear     354\n",
       "promo2                         0\n",
       "promo2sinceweek              544\n",
       "promo2sinceyear              544\n",
       "promointerval                544\n",
       "dtype: int64"
      ]
     },
     "execution_count": 9,
     "metadata": {},
     "output_type": "execute_result"
    }
   ],
   "source": [
    "df_store.isnull().sum()"
   ]
  },
  {
   "cell_type": "code",
   "execution_count": 10,
   "id": "028054ec",
   "metadata": {},
   "outputs": [
    {
     "data": {
      "text/html": [
       "<div>\n",
       "<style scoped>\n",
       "    .dataframe tbody tr th:only-of-type {\n",
       "        vertical-align: middle;\n",
       "    }\n",
       "\n",
       "    .dataframe tbody tr th {\n",
       "        vertical-align: top;\n",
       "    }\n",
       "\n",
       "    .dataframe thead th {\n",
       "        text-align: right;\n",
       "    }\n",
       "</style>\n",
       "<table border=\"1\" class=\"dataframe\">\n",
       "  <thead>\n",
       "    <tr style=\"text-align: right;\">\n",
       "      <th></th>\n",
       "      <th>store</th>\n",
       "      <th>storetype</th>\n",
       "      <th>assortment</th>\n",
       "      <th>competitiondistance</th>\n",
       "      <th>competitionopensincemonth</th>\n",
       "      <th>competitionopensinceyear</th>\n",
       "      <th>promo2</th>\n",
       "      <th>promo2sinceweek</th>\n",
       "      <th>promo2sinceyear</th>\n",
       "      <th>promointerval</th>\n",
       "    </tr>\n",
       "  </thead>\n",
       "  <tbody>\n",
       "    <tr>\n",
       "      <th>290</th>\n",
       "      <td>291</td>\n",
       "      <td>d</td>\n",
       "      <td>a</td>\n",
       "      <td>NaN</td>\n",
       "      <td>NaN</td>\n",
       "      <td>NaN</td>\n",
       "      <td>0</td>\n",
       "      <td>NaN</td>\n",
       "      <td>NaN</td>\n",
       "      <td>NaN</td>\n",
       "    </tr>\n",
       "    <tr>\n",
       "      <th>621</th>\n",
       "      <td>622</td>\n",
       "      <td>a</td>\n",
       "      <td>c</td>\n",
       "      <td>NaN</td>\n",
       "      <td>NaN</td>\n",
       "      <td>NaN</td>\n",
       "      <td>0</td>\n",
       "      <td>NaN</td>\n",
       "      <td>NaN</td>\n",
       "      <td>NaN</td>\n",
       "    </tr>\n",
       "    <tr>\n",
       "      <th>878</th>\n",
       "      <td>879</td>\n",
       "      <td>d</td>\n",
       "      <td>a</td>\n",
       "      <td>NaN</td>\n",
       "      <td>NaN</td>\n",
       "      <td>NaN</td>\n",
       "      <td>1</td>\n",
       "      <td>5.0</td>\n",
       "      <td>2013.0</td>\n",
       "      <td>Feb,May,Aug,Nov</td>\n",
       "    </tr>\n",
       "  </tbody>\n",
       "</table>\n",
       "</div>"
      ],
      "text/plain": [
       "     store storetype assortment  competitiondistance  \\\n",
       "290    291         d          a                  NaN   \n",
       "621    622         a          c                  NaN   \n",
       "878    879         d          a                  NaN   \n",
       "\n",
       "     competitionopensincemonth  competitionopensinceyear  promo2  \\\n",
       "290                        NaN                       NaN       0   \n",
       "621                        NaN                       NaN       0   \n",
       "878                        NaN                       NaN       1   \n",
       "\n",
       "     promo2sinceweek  promo2sinceyear    promointerval  \n",
       "290              NaN              NaN              NaN  \n",
       "621              NaN              NaN              NaN  \n",
       "878              5.0           2013.0  Feb,May,Aug,Nov  "
      ]
     },
     "execution_count": 10,
     "metadata": {},
     "output_type": "execute_result"
    }
   ],
   "source": [
    "df_store[pd.isnull(df_store.competitiondistance)]"
   ]
  },
  {
   "cell_type": "code",
   "execution_count": 11,
   "id": "79d1a36f",
   "metadata": {},
   "outputs": [
    {
     "data": {
      "text/plain": [
       "0"
      ]
     },
     "execution_count": 11,
     "metadata": {},
     "output_type": "execute_result"
    }
   ],
   "source": [
    "# fill NaN with a median value\n",
    "df_store['competitiondistance'].fillna(df_store['competitiondistance'].median(), inplace = True)\n",
    "df_store['competitiondistance'].isnull().sum()"
   ]
  },
  {
   "cell_type": "code",
   "execution_count": 12,
   "id": "23d56b44",
   "metadata": {},
   "outputs": [],
   "source": [
    "# fill NaN with a mean value\n",
    "#df_store['competitiondistance'].fillna(df_store['competitiondistance'].mean(), inplace = True)\n",
    "#f_store['competitiondistance'].isnull().sum()"
   ]
  },
  {
   "cell_type": "code",
   "execution_count": 13,
   "id": "e1cc4b42",
   "metadata": {},
   "outputs": [],
   "source": [
    "# fill NaN with a modus value\n",
    "#df_store['competitiondistance'].fillna(df_store['competitiondistance'].modus(), inplace = True)\n",
    "#df_store['competitiondistance'].isnull().sum()"
   ]
  },
  {
   "cell_type": "code",
   "execution_count": 14,
   "id": "9dca4997",
   "metadata": {},
   "outputs": [
    {
     "data": {
      "text/plain": [
       "(354, 10)"
      ]
     },
     "execution_count": 14,
     "metadata": {},
     "output_type": "execute_result"
    }
   ],
   "source": [
    "tmp = df_store[pd.isnull(df_store.competitionopensinceyear)]\n",
    "tmp[tmp.competitiondistance != 0].shape"
   ]
  },
  {
   "cell_type": "markdown",
   "id": "842f282f",
   "metadata": {},
   "source": [
    "Here these stores have a competition in their vicinity ('competitiondistance' =/= 0), but there is no information about the year this competition has been open. This value needs to be imputed in a meaningful way. Or just filled with '0'."
   ]
  },
  {
   "cell_type": "code",
   "execution_count": 15,
   "id": "41972db4",
   "metadata": {},
   "outputs": [
    {
     "data": {
      "text/plain": [
       "(0, 10)"
      ]
     },
     "execution_count": 15,
     "metadata": {},
     "output_type": "execute_result"
    }
   ],
   "source": [
    "tmp = df_store[pd.isnull(df_store.promo2sinceweek)]\n",
    "tmp[tmp.promo2 != 0].shape"
   ]
  },
  {
   "cell_type": "markdown",
   "id": "dfed399c",
   "metadata": {},
   "source": [
    "There are no stores with information about 'promo2sinceweek' which have 'NaN' in promo2."
   ]
  },
  {
   "cell_type": "code",
   "execution_count": 16,
   "id": "44656452",
   "metadata": {},
   "outputs": [],
   "source": [
    "# replace NA's by 0\n",
    "\n",
    "df_store.fillna(0, inplace = True)"
   ]
  },
  {
   "cell_type": "code",
   "execution_count": 17,
   "id": "4624781d",
   "metadata": {},
   "outputs": [
    {
     "name": "stdout",
     "output_type": "stream",
     "text": [
      "store                        0\n",
      "storetype                    0\n",
      "assortment                   0\n",
      "competitiondistance          0\n",
      "competitionopensincemonth    0\n",
      "competitionopensinceyear     0\n",
      "promo2                       0\n",
      "promo2sinceweek              0\n",
      "promo2sinceyear              0\n",
      "promointerval                0\n",
      "dtype: int64\n",
      "------------------------\n",
      "store            0\n",
      "dayofweek        0\n",
      "sales            0\n",
      "customers        0\n",
      "open             0\n",
      "promo            0\n",
      "stateholiday     0\n",
      "schoolholiday    0\n",
      "timestamp        0\n",
      "year             0\n",
      "month            0\n",
      "day              0\n",
      "dayofyear        0\n",
      "dtype: int64\n"
     ]
    }
   ],
   "source": [
    "print(df_store.isnull().sum())\n",
    "print('------------------------')\n",
    "print(df_train.isnull().sum())"
   ]
  },
  {
   "cell_type": "markdown",
   "id": "85e4e0a5",
   "metadata": {},
   "source": [
    "#### Closed Stores and zero Store Sales"
   ]
  },
  {
   "cell_type": "code",
   "execution_count": 18,
   "id": "9cd28230",
   "metadata": {},
   "outputs": [
    {
     "data": {
      "text/plain": [
       "(172817, 13)"
      ]
     },
     "execution_count": 18,
     "metadata": {},
     "output_type": "execute_result"
    }
   ],
   "source": [
    "# Closed stores\n",
    "\n",
    "df_train[(df_train['open'] == 0) & (df_train['sales'] == 0)].shape"
   ]
  },
  {
   "cell_type": "code",
   "execution_count": 19,
   "id": "e9d162e3",
   "metadata": {},
   "outputs": [
    {
     "data": {
      "text/plain": [
       "(54, 13)"
      ]
     },
     "execution_count": 19,
     "metadata": {},
     "output_type": "execute_result"
    }
   ],
   "source": [
    "df_train[(df_train['open'] != 0) & (df_train['sales'] == 0)].shape"
   ]
  },
  {
   "cell_type": "markdown",
   "id": "195d4bc9",
   "metadata": {},
   "source": [
    "- There are 172817 observations, which were closed and had no sales. In addition to 54 open stores, which had no sales at that day.\n",
    "- It is not possible to make any predictions for stores, which were closed. Also, stores which were open but had no sales might have had external influences, such as remodeling.\n",
    "- To avoid any bias, these datapoints with zero sales should be dropped."
   ]
  },
  {
   "cell_type": "code",
   "execution_count": 20,
   "id": "d36c9bb6",
   "metadata": {},
   "outputs": [
    {
     "data": {
      "text/plain": [
       "(844338, 13)"
      ]
     },
     "execution_count": 20,
     "metadata": {},
     "output_type": "execute_result"
    }
   ],
   "source": [
    "df_train = df_train[(df_train[\"open\"] != 0) & (df_train['sales'] != 0)]\n",
    "df_train.shape"
   ]
  },
  {
   "cell_type": "code",
   "execution_count": 21,
   "id": "2c37e603",
   "metadata": {},
   "outputs": [
    {
     "data": {
      "text/html": [
       "<div>\n",
       "<style scoped>\n",
       "    .dataframe tbody tr th:only-of-type {\n",
       "        vertical-align: middle;\n",
       "    }\n",
       "\n",
       "    .dataframe tbody tr th {\n",
       "        vertical-align: top;\n",
       "    }\n",
       "\n",
       "    .dataframe thead th {\n",
       "        text-align: right;\n",
       "    }\n",
       "</style>\n",
       "<table border=\"1\" class=\"dataframe\">\n",
       "  <thead>\n",
       "    <tr style=\"text-align: right;\">\n",
       "      <th></th>\n",
       "      <th>id</th>\n",
       "      <th>store</th>\n",
       "      <th>dayofweek</th>\n",
       "      <th>open</th>\n",
       "      <th>promo</th>\n",
       "      <th>stateholiday</th>\n",
       "      <th>schoolholiday</th>\n",
       "      <th>timestamp</th>\n",
       "      <th>year</th>\n",
       "      <th>month</th>\n",
       "      <th>day</th>\n",
       "      <th>dayofyear</th>\n",
       "    </tr>\n",
       "  </thead>\n",
       "  <tbody>\n",
       "    <tr>\n",
       "      <th>479</th>\n",
       "      <td>480</td>\n",
       "      <td>622</td>\n",
       "      <td>4</td>\n",
       "      <td>NaN</td>\n",
       "      <td>1</td>\n",
       "      <td>0</td>\n",
       "      <td>0</td>\n",
       "      <td>2015-09-17</td>\n",
       "      <td>2015</td>\n",
       "      <td>9</td>\n",
       "      <td>17</td>\n",
       "      <td>260</td>\n",
       "    </tr>\n",
       "    <tr>\n",
       "      <th>1335</th>\n",
       "      <td>1336</td>\n",
       "      <td>622</td>\n",
       "      <td>3</td>\n",
       "      <td>NaN</td>\n",
       "      <td>1</td>\n",
       "      <td>0</td>\n",
       "      <td>0</td>\n",
       "      <td>2015-09-16</td>\n",
       "      <td>2015</td>\n",
       "      <td>9</td>\n",
       "      <td>16</td>\n",
       "      <td>259</td>\n",
       "    </tr>\n",
       "    <tr>\n",
       "      <th>2191</th>\n",
       "      <td>2192</td>\n",
       "      <td>622</td>\n",
       "      <td>2</td>\n",
       "      <td>NaN</td>\n",
       "      <td>1</td>\n",
       "      <td>0</td>\n",
       "      <td>0</td>\n",
       "      <td>2015-09-15</td>\n",
       "      <td>2015</td>\n",
       "      <td>9</td>\n",
       "      <td>15</td>\n",
       "      <td>258</td>\n",
       "    </tr>\n",
       "    <tr>\n",
       "      <th>3047</th>\n",
       "      <td>3048</td>\n",
       "      <td>622</td>\n",
       "      <td>1</td>\n",
       "      <td>NaN</td>\n",
       "      <td>1</td>\n",
       "      <td>0</td>\n",
       "      <td>0</td>\n",
       "      <td>2015-09-14</td>\n",
       "      <td>2015</td>\n",
       "      <td>9</td>\n",
       "      <td>14</td>\n",
       "      <td>257</td>\n",
       "    </tr>\n",
       "    <tr>\n",
       "      <th>4759</th>\n",
       "      <td>4760</td>\n",
       "      <td>622</td>\n",
       "      <td>6</td>\n",
       "      <td>NaN</td>\n",
       "      <td>0</td>\n",
       "      <td>0</td>\n",
       "      <td>0</td>\n",
       "      <td>2015-09-12</td>\n",
       "      <td>2015</td>\n",
       "      <td>9</td>\n",
       "      <td>12</td>\n",
       "      <td>255</td>\n",
       "    </tr>\n",
       "    <tr>\n",
       "      <th>5615</th>\n",
       "      <td>5616</td>\n",
       "      <td>622</td>\n",
       "      <td>5</td>\n",
       "      <td>NaN</td>\n",
       "      <td>0</td>\n",
       "      <td>0</td>\n",
       "      <td>0</td>\n",
       "      <td>2015-09-11</td>\n",
       "      <td>2015</td>\n",
       "      <td>9</td>\n",
       "      <td>11</td>\n",
       "      <td>254</td>\n",
       "    </tr>\n",
       "    <tr>\n",
       "      <th>6471</th>\n",
       "      <td>6472</td>\n",
       "      <td>622</td>\n",
       "      <td>4</td>\n",
       "      <td>NaN</td>\n",
       "      <td>0</td>\n",
       "      <td>0</td>\n",
       "      <td>0</td>\n",
       "      <td>2015-09-10</td>\n",
       "      <td>2015</td>\n",
       "      <td>9</td>\n",
       "      <td>10</td>\n",
       "      <td>253</td>\n",
       "    </tr>\n",
       "    <tr>\n",
       "      <th>7327</th>\n",
       "      <td>7328</td>\n",
       "      <td>622</td>\n",
       "      <td>3</td>\n",
       "      <td>NaN</td>\n",
       "      <td>0</td>\n",
       "      <td>0</td>\n",
       "      <td>0</td>\n",
       "      <td>2015-09-09</td>\n",
       "      <td>2015</td>\n",
       "      <td>9</td>\n",
       "      <td>9</td>\n",
       "      <td>252</td>\n",
       "    </tr>\n",
       "    <tr>\n",
       "      <th>8183</th>\n",
       "      <td>8184</td>\n",
       "      <td>622</td>\n",
       "      <td>2</td>\n",
       "      <td>NaN</td>\n",
       "      <td>0</td>\n",
       "      <td>0</td>\n",
       "      <td>0</td>\n",
       "      <td>2015-09-08</td>\n",
       "      <td>2015</td>\n",
       "      <td>9</td>\n",
       "      <td>8</td>\n",
       "      <td>251</td>\n",
       "    </tr>\n",
       "    <tr>\n",
       "      <th>9039</th>\n",
       "      <td>9040</td>\n",
       "      <td>622</td>\n",
       "      <td>1</td>\n",
       "      <td>NaN</td>\n",
       "      <td>0</td>\n",
       "      <td>0</td>\n",
       "      <td>0</td>\n",
       "      <td>2015-09-07</td>\n",
       "      <td>2015</td>\n",
       "      <td>9</td>\n",
       "      <td>7</td>\n",
       "      <td>250</td>\n",
       "    </tr>\n",
       "    <tr>\n",
       "      <th>10751</th>\n",
       "      <td>10752</td>\n",
       "      <td>622</td>\n",
       "      <td>6</td>\n",
       "      <td>NaN</td>\n",
       "      <td>0</td>\n",
       "      <td>0</td>\n",
       "      <td>0</td>\n",
       "      <td>2015-09-05</td>\n",
       "      <td>2015</td>\n",
       "      <td>9</td>\n",
       "      <td>5</td>\n",
       "      <td>248</td>\n",
       "    </tr>\n",
       "  </tbody>\n",
       "</table>\n",
       "</div>"
      ],
      "text/plain": [
       "          id  store  dayofweek  open  promo stateholiday  schoolholiday  \\\n",
       "479      480    622          4   NaN      1            0              0   \n",
       "1335    1336    622          3   NaN      1            0              0   \n",
       "2191    2192    622          2   NaN      1            0              0   \n",
       "3047    3048    622          1   NaN      1            0              0   \n",
       "4759    4760    622          6   NaN      0            0              0   \n",
       "5615    5616    622          5   NaN      0            0              0   \n",
       "6471    6472    622          4   NaN      0            0              0   \n",
       "7327    7328    622          3   NaN      0            0              0   \n",
       "8183    8184    622          2   NaN      0            0              0   \n",
       "9039    9040    622          1   NaN      0            0              0   \n",
       "10751  10752    622          6   NaN      0            0              0   \n",
       "\n",
       "       timestamp  year  month  day  dayofyear  \n",
       "479   2015-09-17  2015      9   17        260  \n",
       "1335  2015-09-16  2015      9   16        259  \n",
       "2191  2015-09-15  2015      9   15        258  \n",
       "3047  2015-09-14  2015      9   14        257  \n",
       "4759  2015-09-12  2015      9   12        255  \n",
       "5615  2015-09-11  2015      9   11        254  \n",
       "6471  2015-09-10  2015      9   10        253  \n",
       "7327  2015-09-09  2015      9    9        252  \n",
       "8183  2015-09-08  2015      9    8        251  \n",
       "9039  2015-09-07  2015      9    7        250  \n",
       "10751 2015-09-05  2015      9    5        248  "
      ]
     },
     "execution_count": 21,
     "metadata": {},
     "output_type": "execute_result"
    }
   ],
   "source": [
    "# Check for closed stores\n",
    "\n",
    "df_test[df_test[\"open\"].isnull()]"
   ]
  },
  {
   "cell_type": "markdown",
   "id": "1491c44c",
   "metadata": {},
   "source": [
    "All of these store have no information for 'open', although those days are not holidays ('stateholiday' =/= 1) and are not affected by the closure of schools. They should be open. \n",
    "\n",
    "In addition, the 'dtype' needs to be changed into integer."
   ]
  },
  {
   "cell_type": "code",
   "execution_count": 22,
   "id": "adb7f7c7",
   "metadata": {},
   "outputs": [],
   "source": [
    "df_test['open'].fillna(1, inplace=True)\n",
    "df_test['open']= df_test['open'].astype(int)"
   ]
  },
  {
   "cell_type": "markdown",
   "id": "1149bc7f",
   "metadata": {},
   "source": [
    "#### Stateholiday requires it's input to be uniformly strings or numbers. In this case strings."
   ]
  },
  {
   "cell_type": "code",
   "execution_count": 23,
   "id": "67223d88",
   "metadata": {},
   "outputs": [
    {
     "data": {
      "text/plain": [
       "array(['0', 'a', 'b', 'c', 0], dtype=object)"
      ]
     },
     "execution_count": 23,
     "metadata": {},
     "output_type": "execute_result"
    }
   ],
   "source": [
    "df_train['stateholiday'].unique()"
   ]
  },
  {
   "cell_type": "code",
   "execution_count": 24,
   "id": "e319fa87",
   "metadata": {},
   "outputs": [
    {
     "data": {
      "text/plain": [
       "0    731308\n",
       "0    112120\n",
       "a       694\n",
       "b       145\n",
       "c        71\n",
       "Name: stateholiday, dtype: int64"
      ]
     },
     "execution_count": 24,
     "metadata": {},
     "output_type": "execute_result"
    }
   ],
   "source": [
    "df_train.stateholiday.value_counts()"
   ]
  },
  {
   "cell_type": "code",
   "execution_count": 25,
   "id": "efcf7da0",
   "metadata": {},
   "outputs": [
    {
     "data": {
      "text/plain": [
       "0    843428\n",
       "a       694\n",
       "b       145\n",
       "c        71\n",
       "Name: stateholiday, dtype: int64"
      ]
     },
     "execution_count": 25,
     "metadata": {},
     "output_type": "execute_result"
    }
   ],
   "source": [
    "df_train['stateholiday'].replace({0:'0'}, inplace=True)\n",
    "df_train.stateholiday.value_counts()"
   ]
  },
  {
   "cell_type": "markdown",
   "id": "35400f71",
   "metadata": {},
   "source": [
    "#### Concatenate Train and Test"
   ]
  },
  {
   "cell_type": "code",
   "execution_count": 26,
   "id": "fef32b05",
   "metadata": {},
   "outputs": [],
   "source": [
    "df_train['is_train'] = 1\n",
    "df_test['is_train'] = 0"
   ]
  },
  {
   "cell_type": "code",
   "execution_count": 27,
   "id": "41b4af09",
   "metadata": {},
   "outputs": [],
   "source": [
    "df = pd.concat([df_train, df_test])"
   ]
  },
  {
   "cell_type": "markdown",
   "id": "85b00437",
   "metadata": {},
   "source": [
    "#### Store cleaned Dataframes"
   ]
  },
  {
   "cell_type": "code",
   "execution_count": 28,
   "id": "f0c7e371",
   "metadata": {},
   "outputs": [
    {
     "name": "stdout",
     "output_type": "stream",
     "text": [
      "Stored 'df' (DataFrame)\n",
      "Stored 'df_store' (DataFrame)\n"
     ]
    }
   ],
   "source": [
    "%store df df_store"
   ]
  }
 ],
 "metadata": {
  "kernelspec": {
   "display_name": "Python 3 (ipykernel)",
   "language": "python",
   "name": "python3"
  },
  "language_info": {
   "codemirror_mode": {
    "name": "ipython",
    "version": 3
   },
   "file_extension": ".py",
   "mimetype": "text/x-python",
   "name": "python",
   "nbconvert_exporter": "python",
   "pygments_lexer": "ipython3",
   "version": "3.8.5"
  }
 },
 "nbformat": 4,
 "nbformat_minor": 5
}
