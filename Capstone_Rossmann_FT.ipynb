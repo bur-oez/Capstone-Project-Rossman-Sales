{
 "cells": [
  {
   "cell_type": "code",
   "execution_count": null,
   "id": "3fd23fee",
   "metadata": {},
   "outputs": [],
   "source": [
    "pip install plotly"
   ]
  },
  {
   "cell_type": "code",
   "execution_count": null,
   "id": "f9105ddc",
   "metadata": {},
   "outputs": [],
   "source": [
    "import warnings\n",
    "warnings.filterwarnings('ignore')\n",
    "\n",
    "import pandas as pd\n",
    "import numpy as np\n",
    "import seaborn as sns\n",
    "from sklearn.preprocessing import LabelEncoder\n",
    "import matplotlib.pyplot as plt\n",
    "import plotly.graph_objects as go\n",
    "import plotly.express as px"
   ]
  },
  {
   "cell_type": "markdown",
   "id": "2214bcef",
   "metadata": {},
   "source": [
    "# Data Cleaning"
   ]
  },
  {
   "cell_type": "code",
   "execution_count": null,
   "id": "cb3d8915",
   "metadata": {},
   "outputs": [],
   "source": [
    "df_train = pd.read_csv('data/train.csv')\n",
    "df_test = pd.read_csv('data/test.csv')\n",
    "df_store = pd.read_csv('data/store.csv')"
   ]
  },
  {
   "cell_type": "code",
   "execution_count": null,
   "id": "5007f3e4",
   "metadata": {},
   "outputs": [],
   "source": [
    "df_train.head()"
   ]
  },
  {
   "cell_type": "code",
   "execution_count": null,
   "id": "30624a55",
   "metadata": {},
   "outputs": [],
   "source": [
    "# Merge df_store and df_train\n",
    "df = df_train.merge(df_store, how='left', left_on=df_train.Store, right_on=df_store.Store)\n",
    "df.drop(['key_0', 'Store_y'], axis=1, inplace=True)\n",
    "df = df.rename(columns={'Store_x':'Store'})\n",
    "df.shape"
   ]
  },
  {
   "cell_type": "code",
   "execution_count": null,
   "id": "6a08ed4f",
   "metadata": {},
   "outputs": [],
   "source": [
    "df.head()"
   ]
  },
  {
   "cell_type": "code",
   "execution_count": null,
   "id": "fed0eb30",
   "metadata": {},
   "outputs": [],
   "source": [
    "cols = df.columns.tolist()\n",
    "cols = [col.lower() for col in cols]\n",
    "df.columns = cols"
   ]
  },
  {
   "cell_type": "code",
   "execution_count": null,
   "id": "1674498e",
   "metadata": {},
   "outputs": [],
   "source": [
    "df.info()"
   ]
  },
  {
   "cell_type": "code",
   "execution_count": null,
   "id": "04db8a11",
   "metadata": {},
   "outputs": [],
   "source": [
    "df = df.assign(\n",
    "    timestamp = lambda x: pd.to_datetime(x['date']),\n",
    "    year = lambda x: x['timestamp'].dt.year,\n",
    "    month = lambda x: x['timestamp'].dt.month,\n",
    "    day = lambda x: x['timestamp'].dt.day,\n",
    "    dayofyear = lambda x: x['timestamp'].dt.dayofyear\n",
    ")"
   ]
  },
  {
   "cell_type": "code",
   "execution_count": null,
   "id": "241af2ac",
   "metadata": {},
   "outputs": [],
   "source": [
    "df.head()"
   ]
  },
  {
   "cell_type": "code",
   "execution_count": null,
   "id": "e9ad2dea",
   "metadata": {},
   "outputs": [],
   "source": [
    "df['stateholiday'].unique()"
   ]
  },
  {
   "cell_type": "code",
   "execution_count": null,
   "id": "00069e58",
   "metadata": {},
   "outputs": [],
   "source": [
    "df.stateholiday.value_counts()"
   ]
  },
  {
   "cell_type": "code",
   "execution_count": null,
   "id": "e8e63632",
   "metadata": {},
   "outputs": [],
   "source": [
    "df['stateholiday'].replace({0:'0'}, inplace=True)"
   ]
  },
  {
   "cell_type": "code",
   "execution_count": null,
   "id": "4f11fbc9",
   "metadata": {},
   "outputs": [],
   "source": [
    "df.stateholiday.value_counts()"
   ]
  },
  {
   "cell_type": "code",
   "execution_count": null,
   "id": "79bf36c0",
   "metadata": {},
   "outputs": [],
   "source": [
    "round(df.describe().T,2)"
   ]
  },
  {
   "cell_type": "markdown",
   "id": "1c9852c5",
   "metadata": {},
   "source": [
    "### Handling NaN's"
   ]
  },
  {
   "cell_type": "code",
   "execution_count": null,
   "id": "a8ef8eb5",
   "metadata": {},
   "outputs": [],
   "source": [
    "df.isnull().sum()"
   ]
  },
  {
   "cell_type": "code",
   "execution_count": null,
   "id": "90ed4407",
   "metadata": {},
   "outputs": [],
   "source": [
    "df_store[pd.isnull(df_store.CompetitionDistance)]"
   ]
  },
  {
   "cell_type": "code",
   "execution_count": null,
   "id": "6c970e6a",
   "metadata": {},
   "outputs": [],
   "source": [
    "# fill NaN with a median value\n",
    "df['competitiondistance'].fillna(df['competitiondistance'].median(), inplace = True)\n",
    "df['competitiondistance'].isnull().sum()"
   ]
  },
  {
   "cell_type": "code",
   "execution_count": null,
   "id": "445f43e3",
   "metadata": {},
   "outputs": [],
   "source": [
    "tmp = df_store[pd.isnull(df_store.CompetitionOpenSinceYear  )]\n",
    "tmp[tmp.CompetitionDistance != 0].shape"
   ]
  },
  {
   "cell_type": "code",
   "execution_count": null,
   "id": "3f5c6243",
   "metadata": {},
   "outputs": [],
   "source": [
    "tmp = df[pd.isnull(df.promo2sinceweek)]\n",
    "tmp[tmp.promo2 != 0].shape"
   ]
  },
  {
   "cell_type": "code",
   "execution_count": null,
   "id": "549dd231",
   "metadata": {},
   "outputs": [],
   "source": [
    "# replace NA's by 0\n",
    "df.fillna(0, inplace = True)"
   ]
  },
  {
   "cell_type": "code",
   "execution_count": null,
   "id": "8a7358b3",
   "metadata": {},
   "outputs": [],
   "source": [
    "df.isnull().sum()"
   ]
  },
  {
   "cell_type": "code",
   "execution_count": null,
   "id": "adebd0e4",
   "metadata": {},
   "outputs": [],
   "source": [
    "df.info()"
   ]
  },
  {
   "cell_type": "code",
   "execution_count": null,
   "id": "7c113f48",
   "metadata": {},
   "outputs": [],
   "source": [
    "df_test.isnull().sum()"
   ]
  },
  {
   "cell_type": "code",
   "execution_count": null,
   "id": "6ac3e0bd",
   "metadata": {},
   "outputs": [],
   "source": [
    "df_test[df_test[\"Open\"].isnull()]"
   ]
  },
  {
   "cell_type": "code",
   "execution_count": null,
   "id": "3966d2c4",
   "metadata": {},
   "outputs": [],
   "source": [
    "df_test.fillna(1, inplace=True)"
   ]
  },
  {
   "cell_type": "code",
   "execution_count": null,
   "id": "43efd98f",
   "metadata": {},
   "outputs": [],
   "source": [
    "df_test.isnull().sum()"
   ]
  },
  {
   "cell_type": "markdown",
   "id": "90982e65",
   "metadata": {},
   "source": [
    "### Handling Datatyp"
   ]
  },
  {
   "cell_type": "code",
   "execution_count": null,
   "id": "908959dd",
   "metadata": {},
   "outputs": [],
   "source": [
    "df_test[\"Open\"]= df_test[\"Open\"].astype(int)"
   ]
  },
  {
   "cell_type": "code",
   "execution_count": null,
   "id": "0c968b48",
   "metadata": {},
   "outputs": [],
   "source": [
    "df_test.info()"
   ]
  },
  {
   "cell_type": "markdown",
   "id": "38df43d1",
   "metadata": {},
   "source": [
    "### Handling Categorical Data"
   ]
  },
  {
   "cell_type": "code",
   "execution_count": null,
   "id": "3677bf69",
   "metadata": {},
   "outputs": [],
   "source": [
    "le = LabelEncoder()"
   ]
  },
  {
   "cell_type": "code",
   "execution_count": null,
   "id": "12cdfaa3",
   "metadata": {},
   "outputs": [],
   "source": [
    "ass_typ = pd.get_dummies(df[\"assortment\"], drop_first=True)\n",
    "df = pd.concat([df,ass_typ], axis=1)\n"
   ]
  },
  {
   "cell_type": "code",
   "execution_count": null,
   "id": "b12993cf",
   "metadata": {},
   "outputs": [],
   "source": [
    "df[\"storetype_cat\"] = le.fit_transform(df[\"storetype\"])"
   ]
  },
  {
   "cell_type": "code",
   "execution_count": null,
   "id": "62eed425",
   "metadata": {},
   "outputs": [],
   "source": [
    "df[\"stateholiday_cat\"] = le.fit_transform(df[\"stateholiday\"])"
   ]
  },
  {
   "cell_type": "code",
   "execution_count": null,
   "id": "c00e145e",
   "metadata": {},
   "outputs": [],
   "source": [
    "df =df.rename(columns={\"b\" : \"ass_extra\"})"
   ]
  },
  {
   "cell_type": "code",
   "execution_count": null,
   "id": "61308f14",
   "metadata": {},
   "outputs": [],
   "source": [
    "df =df.rename(columns={\"c\" : \"ass_extended\"})"
   ]
  },
  {
   "cell_type": "code",
   "execution_count": null,
   "id": "7a2657ad",
   "metadata": {},
   "outputs": [],
   "source": [
    "df[\"stateholiday_cat\"].unique()"
   ]
  },
  {
   "cell_type": "code",
   "execution_count": null,
   "id": "84172cb2",
   "metadata": {},
   "outputs": [],
   "source": [
    "df.info()"
   ]
  },
  {
   "cell_type": "code",
   "execution_count": null,
   "id": "8fa6d00e",
   "metadata": {},
   "outputs": [],
   "source": [
    "df.stateholiday.value_counts()"
   ]
  },
  {
   "cell_type": "code",
   "execution_count": null,
   "id": "2b24ace4",
   "metadata": {},
   "outputs": [],
   "source": [
    "df.stateholiday_cat.value_counts()"
   ]
  },
  {
   "cell_type": "markdown",
   "id": "c01ba5a9",
   "metadata": {},
   "source": [
    "# Eda"
   ]
  },
  {
   "cell_type": "markdown",
   "id": "1621b8e6",
   "metadata": {},
   "source": [
    "## Question: Are the Promos effective?"
   ]
  },
  {
   "cell_type": "code",
   "execution_count": null,
   "id": "aee7ebfa",
   "metadata": {},
   "outputs": [],
   "source": [
    "df.groupby('storetype')['sales'].describe()"
   ]
  },
  {
   "cell_type": "code",
   "execution_count": null,
   "id": "d91c1c45",
   "metadata": {},
   "outputs": [],
   "source": [
    "df.groupby('storetype')['customers', 'sales'].sum()"
   ]
  },
  {
   "cell_type": "code",
   "execution_count": null,
   "id": "a70cabe5",
   "metadata": {},
   "outputs": [],
   "source": [
    "# sales trends\n",
    "sns.factorplot(data = df, x = 'month', y = \"sales\", \n",
    "               col = 'storetype',\n",
    "               palette = 'plasma',\n",
    "               hue = 'storetype',\n",
    "               row = 'promo', \n",
    "               ) "
   ]
  },
  {
   "cell_type": "markdown",
   "id": "863acc1c",
   "metadata": {},
   "source": [
    "## Finding"
   ]
  },
  {
   "cell_type": "markdown",
   "id": "41101d82",
   "metadata": {},
   "source": [
    "Storetype B has the highest sales numbers, with the largest variance. All storetypes show increased sales numbers towards christmas. \n",
    "\n",
    "Stores which have run a promo, show higher sales. But storetypes a,c and d show a dip towards easter, if they have run a promo, which is not the case for stores without a promo."
   ]
  },
  {
   "cell_type": "code",
   "execution_count": null,
   "id": "e1f1ce36",
   "metadata": {},
   "outputs": [],
   "source": [
    "# customers trends\n",
    "sns.factorplot(data = df, x = 'month', y = \"customers\", \n",
    "               col = 'storetype',\n",
    "               palette = 'plasma',\n",
    "               hue = 'storetype',\n",
    "               row = 'promo',\n",
    "               ) "
   ]
  },
  {
   "cell_type": "markdown",
   "id": "db4222ca",
   "metadata": {},
   "source": [
    "## Finding"
   ]
  },
  {
   "cell_type": "markdown",
   "id": "b59c90df",
   "metadata": {},
   "source": [
    "Storetype B has the highest number of customers, with the largest variance. All storetypes show an increase of customers towards christmas. This trend is higher, if they have run a promo.\n",
    "\n",
    "Same effect of a dip for storetypes a,c and d in customers towards easter can be also be seen here."
   ]
  },
  {
   "cell_type": "code",
   "execution_count": null,
   "id": "44278c35",
   "metadata": {},
   "outputs": [],
   "source": [
    "# sale per customer trends\n",
    "df['salepercustomer'] = df['sales']/df['customers']\n",
    "sns.factorplot(data = df, x = 'month', y = \"salepercustomer\", \n",
    "               col = 'storetype',\n",
    "               palette = 'plasma',\n",
    "               hue = 'storetype',\n",
    "               row = 'promo', \n",
    "               ) "
   ]
  },
  {
   "cell_type": "markdown",
   "id": "46bda6f2",
   "metadata": {},
   "source": [
    "## Finding"
   ]
  },
  {
   "cell_type": "markdown",
   "id": "1a218fef",
   "metadata": {},
   "source": [
    "Sales per customer:\n",
    "storetype b seems to be where customers only buy small items in low numbers (possible trainstation location?)\n",
    "storetype d customers buy the largest quantity\n",
    "a und c are very similar"
   ]
  },
  {
   "cell_type": "code",
   "execution_count": null,
   "id": "526ddd8c",
   "metadata": {
    "tags": []
   },
   "outputs": [],
   "source": [
    "# weekday trends\n",
    "sns.factorplot(data = df, x = 'dayofweek', y = \"customers\", \n",
    "               col = 'storetype',\n",
    "               palette = 'plasma',\n",
    "               hue = 'storetype',\n",
    "               row = 'promo',\n",
    "               ) "
   ]
  },
  {
   "cell_type": "markdown",
   "id": "6b86ab86",
   "metadata": {},
   "source": [
    "## Finding"
   ]
  },
  {
   "cell_type": "markdown",
   "id": "8fe5a8d3",
   "metadata": {},
   "source": [
    "Promos are run only during the work-week, no promo on saturday/sunday.\n",
    "\n",
    "Storetype b also open on sundays -> trainstation, fo sho\n",
    "storetyp a lower number of customers on saturday, c and d increased"
   ]
  },
  {
   "cell_type": "code",
   "execution_count": null,
   "id": "f5c6660b",
   "metadata": {},
   "outputs": [],
   "source": [
    "# weekday trends\n",
    "sns.factorplot(data = df, x = 'dayofweek', y = \"sales\", \n",
    "               col = 'storetype',\n",
    "               palette = 'plasma',\n",
    "               hue = 'storetype',\n",
    "               row = 'promo',\n",
    "               ) "
   ]
  },
  {
   "cell_type": "markdown",
   "id": "2d570795",
   "metadata": {},
   "source": [
    "Similar trends regarding sales numbers and customers.\n",
    "Highest number of sales and customers on mondays, if a promo was run"
   ]
  },
  {
   "cell_type": "markdown",
   "id": "447c4885",
   "metadata": {},
   "source": [
    "## Conclusion : Question: Are the Promos effective?\"\n",
    "- Promos are run only during the work-week, no promo on saturday/sunday\\n\",\n",
    "- Storetype B has the highest number of customers, with the largest variance\\n\",\n",
    "- Storetype B has the highest sales numbers, with the largest variance\\n\",\n",
    "- All storetypes show increased sales numbers towards christmas\\n\",\n",
    "- Stores which have run a promo, show higher sales. But storetypes a, c and d show a dip towards easter, if they have run a promo, which is not the case for stores without a promo.\""
   ]
  },
  {
   "cell_type": "code",
   "execution_count": null,
   "id": "0bf34b2d",
   "metadata": {},
   "outputs": [],
   "source": [
    "## beachte: date, (assortment, storetype und stateholiday,assortment) müssen noch raus. die in der klammer sind schon durch kategorische Variablen ersetzt"
   ]
  },
  {
   "cell_type": "code",
   "execution_count": null,
   "id": "f4c9c2e0",
   "metadata": {},
   "outputs": [],
   "source": [
    "sns.factorplot(data = df, x = 'month', y = \"sales\", \n",
    "               col = 'dayofweek', \n",
    "               palette = 'plasma',\n",
    "               hue = 'storetype',\n",
    "               row = 'storetype',\n",
    "               ) "
   ]
  },
  {
   "cell_type": "markdown",
   "id": "09b272e1",
   "metadata": {},
   "source": [
    "This shows the sales per storetyp across all months for each weekday."
   ]
  },
  {
   "cell_type": "code",
   "execution_count": null,
   "id": "e0aaa72f",
   "metadata": {},
   "outputs": [],
   "source": [
    "# stores which are opened on Sundays\n",
    "df[(df.open == 1) & (df.dayofweek == 7)]['store'].unique()"
   ]
  },
  {
   "cell_type": "markdown",
   "id": "26ef8160",
   "metadata": {},
   "source": [
    "These are the stores, which are open on sundays."
   ]
  },
  {
   "cell_type": "code",
   "execution_count": null,
   "id": "565bbc54",
   "metadata": {},
   "outputs": [],
   "source": [
    "fig, axes = plt.subplots(nrows=2, ncols=1, figsize=(18,8))\n",
    "sns.lineplot(x = \"date\", y = df.groupby(df.index).mean()[\"competitiondistance\"] , data=df, ax=axes[0])\n",
    "sns.lineplot(x = \"date\", y = df.groupby(df.index).mean()[\"competitionopensincemonth\"]  , data=df, ax=axes[1])\n",
    "\n",
    "axes[0].set_title(\"Date vs Competiton Distance (on average)\")\n",
    "axes[1].set_title(\"Date vs Competiton Open Since Month (on average)\")\n",
    "plt.show()"
   ]
  },
  {
   "cell_type": "code",
   "execution_count": null,
   "id": "a04e661d",
   "metadata": {},
   "outputs": [],
   "source": [
    "temp_df = df.copy()\n",
    "temp_df.index = temp_df.date\n",
    "temp_df = temp_df.groupby(temp_df.index).mean()\n",
    "\n",
    "fig, axes = plt.subplots(nrows=1, ncols=2, figsize=(18,8))\n",
    "sns.lineplot(x = \"date\", y = \"competitiondistance\" , data=temp_df, ax=axes[0])\n",
    "sns.lineplot(x = \"date\", y = \"competitionopensincemonth\"  , data=df, ax=axes[1])\n",
    "\n",
    "axes[0].set_title(\"Date vs Competiton Distance (on average)\")\n",
    "axes[1].set_title(\"Date vs Competiton Open Since Month (on average)\")\n",
    "plt.show()\n",
    "\n"
   ]
  },
  {
   "cell_type": "code",
   "execution_count": null,
   "id": "07ae3891",
   "metadata": {},
   "outputs": [],
   "source": [
    "df_store.describe().T"
   ]
  },
  {
   "cell_type": "code",
   "execution_count": null,
   "id": "7231322e",
   "metadata": {},
   "outputs": [],
   "source": [
    "fig, axes = plt.subplots(nrows=2, ncols=1, figsize=(18,8))\n",
    "sns.lineplot(x = \"Store\", y = \"CompetitionDistance\" , data=df_store, ax=axes[0])\n",
    "sns.lineplot(x = \"Store\", y = \"CompetitionOpenSinceMonth\"  , data=df_store, ax=axes[1])"
   ]
  },
  {
   "cell_type": "code",
   "execution_count": null,
   "id": "7837586f",
   "metadata": {},
   "outputs": [],
   "source": [
    "sns.set_style(\"dark\")\n",
    "sns.histplot(data=df_store, x=\"CompetitionDistance\")\n"
   ]
  },
  {
   "cell_type": "code",
   "execution_count": null,
   "id": "0ef53b27",
   "metadata": {},
   "outputs": [],
   "source": [
    "sns.countplot(x=\"StoreType\",hue=\"Assortment\",order=[\"a\",\"b\",\"c\",\"d\"], \n",
    "                                     data=df_store,palette=\"rocket_r\").set_title(\"Number of Different Assortments per Store Type\")"
   ]
  },
  {
   "cell_type": "code",
   "execution_count": null,
   "id": "dea71d55",
   "metadata": {},
   "outputs": [],
   "source": [
    "df.columns"
   ]
  },
  {
   "cell_type": "code",
   "execution_count": null,
   "id": "8ffc256b",
   "metadata": {},
   "outputs": [],
   "source": [
    "df['assperstoretype'] = df['assortment'] + df['storetype']"
   ]
  },
  {
   "cell_type": "code",
   "execution_count": null,
   "id": "a1786b9f",
   "metadata": {},
   "outputs": [],
   "source": [
    "temp = df.groupby('assperstoretype')['sales'].agg(['mean'])\n",
    "temp"
   ]
  },
  {
   "cell_type": "code",
   "execution_count": null,
   "id": "d51199b6",
   "metadata": {},
   "outputs": [],
   "source": [
    "#fig2 = px.scatter(df, x='store', y='sales', color='assperstoretype')\n",
    "#fig2.show()"
   ]
  },
  {
   "cell_type": "code",
   "execution_count": null,
   "id": "f40fbabe",
   "metadata": {},
   "outputs": [],
   "source": [
    "#fig3 = px.scatter(df, x='store', y='sales', color='extraperstoretype')\n",
    "#fig3.show()"
   ]
  },
  {
   "cell_type": "code",
   "execution_count": null,
   "id": "a9cd1411",
   "metadata": {},
   "outputs": [],
   "source": [
    "df['extendedperstoretype'] = (df['ass_extended']==1).astype(str) + '_' + df['storetype']"
   ]
  },
  {
   "cell_type": "code",
   "execution_count": null,
   "id": "94359e13",
   "metadata": {},
   "outputs": [],
   "source": [
    "#fig4 = px.scatter(df, x='store', y='sales', color='extendedperstoretype')\n",
    "#fig4.show()"
   ]
  },
  {
   "cell_type": "code",
   "execution_count": null,
   "id": "67e61195",
   "metadata": {},
   "outputs": [],
   "source": [
    "#fig2.write_html(\"images/sales_store.html\")\n",
    "#fig3.write_html(\"images/sales_extraperstoretype.html\")\n",
    "#fig4.write_html(\"images/sales_extendedperstoretype.html\")"
   ]
  },
  {
   "cell_type": "code",
   "execution_count": null,
   "id": "1baf48ee",
   "metadata": {},
   "outputs": [],
   "source": []
  }
 ],
 "metadata": {
  "kernelspec": {
   "display_name": "Python 3",
   "language": "python",
   "name": "python3"
  },
  "language_info": {
   "codemirror_mode": {
    "name": "ipython",
    "version": 3
   },
   "file_extension": ".py",
   "mimetype": "text/x-python",
   "name": "python",
   "nbconvert_exporter": "python",
   "pygments_lexer": "ipython3",
   "version": "3.8.5"
  }
 },
 "nbformat": 4,
 "nbformat_minor": 5
}
