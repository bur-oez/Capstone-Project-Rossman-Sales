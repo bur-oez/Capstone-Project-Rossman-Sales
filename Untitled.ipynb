{
 "cells": [
  {
   "cell_type": "code",
   "execution_count": 1,
   "id": "6908938d",
   "metadata": {},
   "outputs": [],
   "source": [
    "import warnings\n",
    "warnings.filterwarnings('ignore')\n",
    "\n",
    "import statsmodels.api as sm\n",
    "from statsmodels.tsa.api import VAR\n",
    "import pandas as pd\n",
    "import numpy as np\n",
    "import seaborn as sns\n",
    "from sklearn.preprocessing import LabelEncoder\n",
    "import matplotlib.pyplot as plt\n",
    "import plotly.graph_objects as go\n",
    "import plotly.express as px\n",
    "from scipy.ndimage import gaussian_filter\n",
    "import statsmodels.formula.api as smf\n",
    "from pmdarima.arima import ADFTest\n",
    "from statsmodels.tsa.stattools import adfuller,kpss\n",
    "from statsmodels.tsa.holtwinters import Holt, ExponentialSmoothing, SimpleExpSmoothing\n",
    "from math import sqrt\n",
    "from sklearn.metrics import mean_squared_error\n",
    "from statsmodels.tsa.arima_model import ARIMA\n",
    "from pmdarima.arima import auto_arima\n",
    "import statsmodels.graphics.tsaplots as tsaplot"
   ]
  },
  {
   "cell_type": "code",
   "execution_count": 2,
   "id": "c17419a7",
   "metadata": {},
   "outputs": [],
   "source": [
    "df_train = pd.read_csv('data/train.csv')\n",
    "df_test = pd.read_csv('data/test.csv')\n",
    "df_store = pd.read_csv('data/store.csv')"
   ]
  },
  {
   "cell_type": "code",
   "execution_count": 3,
   "id": "84ae44cb",
   "metadata": {},
   "outputs": [],
   "source": [
    "cols = df_train.columns.tolist()\n",
    "cols = [col.lower() for col in cols]\n",
    "df_train.columns = cols"
   ]
  },
  {
   "cell_type": "code",
   "execution_count": 4,
   "id": "ea6f40e5",
   "metadata": {},
   "outputs": [
    {
     "data": {
      "text/html": [
       "<div>\n",
       "<style scoped>\n",
       "    .dataframe tbody tr th:only-of-type {\n",
       "        vertical-align: middle;\n",
       "    }\n",
       "\n",
       "    .dataframe tbody tr th {\n",
       "        vertical-align: top;\n",
       "    }\n",
       "\n",
       "    .dataframe thead th {\n",
       "        text-align: right;\n",
       "    }\n",
       "</style>\n",
       "<table border=\"1\" class=\"dataframe\">\n",
       "  <thead>\n",
       "    <tr style=\"text-align: right;\">\n",
       "      <th></th>\n",
       "      <th>store</th>\n",
       "      <th>dayofweek</th>\n",
       "      <th>date</th>\n",
       "      <th>sales</th>\n",
       "      <th>customers</th>\n",
       "      <th>open</th>\n",
       "      <th>promo</th>\n",
       "      <th>stateholiday</th>\n",
       "      <th>schoolholiday</th>\n",
       "    </tr>\n",
       "  </thead>\n",
       "  <tbody>\n",
       "    <tr>\n",
       "      <th>0</th>\n",
       "      <td>1</td>\n",
       "      <td>5</td>\n",
       "      <td>2015-07-31</td>\n",
       "      <td>5263</td>\n",
       "      <td>555</td>\n",
       "      <td>1</td>\n",
       "      <td>1</td>\n",
       "      <td>0</td>\n",
       "      <td>1</td>\n",
       "    </tr>\n",
       "    <tr>\n",
       "      <th>1</th>\n",
       "      <td>2</td>\n",
       "      <td>5</td>\n",
       "      <td>2015-07-31</td>\n",
       "      <td>6064</td>\n",
       "      <td>625</td>\n",
       "      <td>1</td>\n",
       "      <td>1</td>\n",
       "      <td>0</td>\n",
       "      <td>1</td>\n",
       "    </tr>\n",
       "    <tr>\n",
       "      <th>2</th>\n",
       "      <td>3</td>\n",
       "      <td>5</td>\n",
       "      <td>2015-07-31</td>\n",
       "      <td>8314</td>\n",
       "      <td>821</td>\n",
       "      <td>1</td>\n",
       "      <td>1</td>\n",
       "      <td>0</td>\n",
       "      <td>1</td>\n",
       "    </tr>\n",
       "    <tr>\n",
       "      <th>3</th>\n",
       "      <td>4</td>\n",
       "      <td>5</td>\n",
       "      <td>2015-07-31</td>\n",
       "      <td>13995</td>\n",
       "      <td>1498</td>\n",
       "      <td>1</td>\n",
       "      <td>1</td>\n",
       "      <td>0</td>\n",
       "      <td>1</td>\n",
       "    </tr>\n",
       "    <tr>\n",
       "      <th>4</th>\n",
       "      <td>5</td>\n",
       "      <td>5</td>\n",
       "      <td>2015-07-31</td>\n",
       "      <td>4822</td>\n",
       "      <td>559</td>\n",
       "      <td>1</td>\n",
       "      <td>1</td>\n",
       "      <td>0</td>\n",
       "      <td>1</td>\n",
       "    </tr>\n",
       "  </tbody>\n",
       "</table>\n",
       "</div>"
      ],
      "text/plain": [
       "   store  dayofweek        date  sales  customers  open  promo stateholiday  \\\n",
       "0      1          5  2015-07-31   5263        555     1      1            0   \n",
       "1      2          5  2015-07-31   6064        625     1      1            0   \n",
       "2      3          5  2015-07-31   8314        821     1      1            0   \n",
       "3      4          5  2015-07-31  13995       1498     1      1            0   \n",
       "4      5          5  2015-07-31   4822        559     1      1            0   \n",
       "\n",
       "   schoolholiday  \n",
       "0              1  \n",
       "1              1  \n",
       "2              1  \n",
       "3              1  \n",
       "4              1  "
      ]
     },
     "execution_count": 4,
     "metadata": {},
     "output_type": "execute_result"
    }
   ],
   "source": [
    "df_train.head()"
   ]
  },
  {
   "cell_type": "code",
   "execution_count": 5,
   "id": "e6ccfc60",
   "metadata": {},
   "outputs": [],
   "source": [
    "df_train = df_train.assign(\n",
    "    timestamp = lambda x: pd.to_datetime(x['date']),\n",
    "    year = lambda x: x['timestamp'].dt.year,\n",
    "    month = lambda x: x['timestamp'].dt.month,\n",
    "    day = lambda x: x['timestamp'].dt.day,\n",
    "    dayofyear = lambda x: x['timestamp'].dt.dayofyear\n",
    ")"
   ]
  },
  {
   "cell_type": "code",
   "execution_count": 6,
   "id": "b547d367",
   "metadata": {},
   "outputs": [],
   "source": [
    "monthly_sales = df_train.groupby('month').mean()['sales']\n",
    "monthly_sales = monthly_sales.to_frame()\n",
    "monthly_sales = monthly_sales.reset_index(level=['month'])"
   ]
  },
  {
   "cell_type": "code",
   "execution_count": 7,
   "id": "541c2778",
   "metadata": {},
   "outputs": [
    {
     "data": {
      "text/html": [
       "<div>\n",
       "<style scoped>\n",
       "    .dataframe tbody tr th:only-of-type {\n",
       "        vertical-align: middle;\n",
       "    }\n",
       "\n",
       "    .dataframe tbody tr th {\n",
       "        vertical-align: top;\n",
       "    }\n",
       "\n",
       "    .dataframe thead th {\n",
       "        text-align: right;\n",
       "    }\n",
       "</style>\n",
       "<table border=\"1\" class=\"dataframe\">\n",
       "  <thead>\n",
       "    <tr style=\"text-align: right;\">\n",
       "      <th></th>\n",
       "      <th>month</th>\n",
       "      <th>sales</th>\n",
       "    </tr>\n",
       "  </thead>\n",
       "  <tbody>\n",
       "    <tr>\n",
       "      <th>1</th>\n",
       "      <td>2</td>\n",
       "      <td>0.032379</td>\n",
       "    </tr>\n",
       "    <tr>\n",
       "      <th>2</th>\n",
       "      <td>3</td>\n",
       "      <td>0.024381</td>\n",
       "    </tr>\n",
       "    <tr>\n",
       "      <th>3</th>\n",
       "      <td>4</td>\n",
       "      <td>-0.007934</td>\n",
       "    </tr>\n",
       "    <tr>\n",
       "      <th>4</th>\n",
       "      <td>5</td>\n",
       "      <td>-0.044399</td>\n",
       "    </tr>\n",
       "    <tr>\n",
       "      <th>5</th>\n",
       "      <td>6</td>\n",
       "      <td>0.048242</td>\n",
       "    </tr>\n",
       "  </tbody>\n",
       "</table>\n",
       "</div>"
      ],
      "text/plain": [
       "   month     sales\n",
       "1      2  0.032379\n",
       "2      3  0.024381\n",
       "3      4 -0.007934\n",
       "4      5 -0.044399\n",
       "5      6  0.048242"
      ]
     },
     "execution_count": 7,
     "metadata": {},
     "output_type": "execute_result"
    }
   ],
   "source": [
    "monthly_sales['sales'] = np.log(monthly_sales['sales'])\n",
    "monthly_sales['sales'] = monthly_sales['sales'].diff()\n",
    "monthly_sales = monthly_sales.drop(monthly_sales.index[0])\n",
    "monthly_sales.head()"
   ]
  },
  {
   "cell_type": "code",
   "execution_count": 8,
   "id": "18f8ace7",
   "metadata": {},
   "outputs": [],
   "source": [
    "#df_train.drop(['Date', 'Store', 'DayOfWeek', 'Customers', 'Open', 'Promo', 'StateHoliday', 'SchoolHoliday'], axis=1, inplace=True)"
   ]
  },
  {
   "cell_type": "code",
   "execution_count": 9,
   "id": "227e6860",
   "metadata": {},
   "outputs": [],
   "source": [
    "monthly_sales['sales_detrend'] = (monthly_sales['sales'] - monthly_sales['sales'].shift(30))"
   ]
  },
  {
   "cell_type": "code",
   "execution_count": 10,
   "id": "92191c24",
   "metadata": {},
   "outputs": [],
   "source": [
    "monthly_sales_arima = monthly_sales['sales']\n",
    "train_test_split_ratio = int(len(monthly_sales_arima)*0.8)\n",
    "train_data, test_data = monthly_sales_arima[:train_test_split_ratio], monthly_sales_arima[train_test_split_ratio:]"
   ]
  },
  {
   "cell_type": "markdown",
   "id": "a400cdc8",
   "metadata": {},
   "source": [
    "## Simple Smoothing"
   ]
  },
  {
   "cell_type": "code",
   "execution_count": 11,
   "id": "c70786d7",
   "metadata": {},
   "outputs": [
    {
     "data": {
      "image/png": "[encoded data removed]",
      "text/plain": [
       "<Figure size 1152x576 with 1 Axes>"
      ]
     },
     "metadata": {
      "needs_background": "light"
     },
     "output_type": "display_data"
    },
    {
     "name": "stdout",
     "output_type": "stream",
     "text": [
      "Simple Exponential Smoothing RMS :- 0.086 & Smoothing Level :- 0.05\n"
     ]
    }
   ],
   "source": [
    "pred_values = test_data.copy()\n",
    "pred_values = pd.DataFrame(pred_values)\n",
    "\n",
    "simple_exponential_df = pd.DataFrame(columns = ['RMS','Smoothing Level'])\n",
    "\n",
    "from itertools import permutations\n",
    "perm = permutations(list(np.linspace(0.05,1,num=20)), 1)\n",
    "for i in list(perm):\n",
    "    fit_sim_exp = SimpleExpSmoothing(np.asarray(train_data)).fit(smoothing_level = i[0])\n",
    "    pred_values['Simple_Exponential'] = fit_sim_exp.forecast(len(test_data))\n",
    "\n",
    "    rms = round(sqrt(mean_squared_error(test_data.values, pred_values.Simple_Exponential)),3)\n",
    "    simple_exponential_df = simple_exponential_df.append(other = {'RMS' : rms , 'Smoothing Level' : i[0]} , ignore_index=True)\n",
    "\n",
    "opt_values = simple_exponential_df.loc[simple_exponential_df['RMS'] == min(simple_exponential_df['RMS']),['Smoothing Level']].values\n",
    "\n",
    "\n",
    "# Use optimised values from the lists\n",
    "fit_sim_exp = SimpleExpSmoothing(np.asarray(train_data)).fit(smoothing_level = opt_values[0][0])\n",
    "pred_values['Simple_Exponential'] = fit_sim_exp.forecast(len(test_data))\n",
    "\n",
    "plt.figure(figsize=(16,8))\n",
    "plt.plot(train_data, label='Train')\n",
    "plt.plot(test_data, label='Test')\n",
    "plt.plot(pred_values['Simple_Exponential'], label='Simple_Exponential')\n",
    "plt.xticks([])\n",
    "plt.legend(loc='best')\n",
    "plt.show()\n",
    "\n",
    "rms_sim_exp = sqrt(mean_squared_error(test_data.values, pred_values.Simple_Exponential))\n",
    "print(\"Simple Exponential Smoothing RMS :- \" + str(round(rms_sim_exp,3)) + \" & Smoothing Level :- \"+str(round(opt_values[0][0],3)))"
   ]
  },
  {
   "cell_type": "markdown",
   "id": "701e7d75",
   "metadata": {},
   "source": [
    "## Holt's Smoothing"
   ]
  },
  {
   "cell_type": "code",
   "execution_count": 12,
   "id": "f012613d",
   "metadata": {},
   "outputs": [
    {
     "data": {
      "image/png": "[encoded data removed]",
      "text/plain": [
       "<Figure size 1152x576 with 1 Axes>"
      ]
     },
     "metadata": {
      "needs_background": "light"
     },
     "output_type": "display_data"
    },
    {
     "name": "stdout",
     "output_type": "stream",
     "text": [
      "Holt’s Exponential Smoothing RMS :- 0.036 & Smoothing Level :- 1.0 & Smoothing Slope :- 0.95\n"
     ]
    }
   ],
   "source": [
    "holt_linear_df = pd.DataFrame(columns = ['RMS','Smoothing Level','Smoothing Slope'])\n",
    "\n",
    "perm = permutations(list(np.linspace(0.05,1,num=20)), 2)\n",
    "for i in list(perm):\n",
    "    fit_holt = Holt(np.asarray(train_data)).fit(smoothing_level = i[0],smoothing_slope=i[1])\n",
    "    pred_values['Holt_linear'] = fit_holt.forecast(len(test_data))\n",
    "\n",
    "    rms = round(sqrt(mean_squared_error(test_data.values, pred_values.Holt_linear)),3)\n",
    "    holt_linear_df = holt_linear_df.append(other = {'RMS' : rms , 'Smoothing Level' : i[0], 'Smoothing Slope':i[1]} , ignore_index=True)\n",
    "\n",
    "opt_values = holt_linear_df.loc[holt_linear_df['RMS'] == min(holt_linear_df['RMS']),['Smoothing Level','Smoothing Slope']].values\n",
    "\n",
    "\n",
    "# Using optimised values from the lists.\n",
    "fit_holt = Holt(np.asarray(train_data)).fit(smoothing_level = opt_values[0][0],smoothing_slope=opt_values[0][1])\n",
    "pred_values['Holt_linear'] = fit_holt.forecast(len(test_data))\n",
    "\n",
    "plt.figure(figsize=(16,8))\n",
    "plt.plot(train_data, label='Train')\n",
    "plt.plot(test_data, label='Test')\n",
    "plt.plot(pred_values['Holt_linear'], label='Holt_linear')\n",
    "plt.xticks([])\n",
    "plt.legend(loc='best')\n",
    "plt.title('Holt Exponential Smoothing')\n",
    "plt.show()\n",
    "\n",
    "rms_holt_exp = sqrt(mean_squared_error(test_data.values, pred_values.Holt_linear))\n",
    "print(\"Holt’s Exponential Smoothing RMS :- \" + str(round(rms_holt_exp,3)) + \" & Smoothing Level :- \"+str(round(opt_values[0][0],3)) + \" & Smoothing Slope :- \"+str(round(opt_values[0][1],3)))"
   ]
  },
  {
   "cell_type": "markdown",
   "id": "d185a59b",
   "metadata": {},
   "source": [
    "## Auto-Regressive Integrated Moving Average (ARIMA)"
   ]
  },
  {
   "cell_type": "code",
   "execution_count": 13,
   "id": "52eec75e",
   "metadata": {},
   "outputs": [
    {
     "name": "stdout",
     "output_type": "stream",
     "text": [
      "Performing stepwise search to minimize aic\n",
      " ARIMA(1,0,1)(0,0,0)[0]             : AIC=inf, Time=0.10 sec\n",
      " ARIMA(0,0,0)(0,0,0)[0]             : AIC=-26.597, Time=0.01 sec\n",
      " ARIMA(1,0,0)(0,0,0)[0]             : AIC=-24.613, Time=0.02 sec\n",
      " ARIMA(0,0,1)(0,0,0)[0]             : AIC=-26.342, Time=0.03 sec\n",
      " ARIMA(0,0,0)(0,0,0)[0] intercept   : AIC=-24.624, Time=0.02 sec\n",
      "\n",
      "Best model:  ARIMA(0,0,0)(0,0,0)[0]          \n",
      "Total fit time: 0.191 seconds\n",
      "                               SARIMAX Results                                \n",
      "==============================================================================\n",
      "Dep. Variable:                      y   No. Observations:                    8\n",
      "Model:                        SARIMAX   Log Likelihood                  14.298\n",
      "Date:                Mon, 26 Jul 2021   AIC                            -26.597\n",
      "Time:                        10:10:03   BIC                            -26.517\n",
      "Sample:                             0   HQIC                           -27.133\n",
      "                                  - 8                                         \n",
      "Covariance Type:                  opg                                         \n",
      "==============================================================================\n",
      "                 coef    std err          z      P>|z|      [0.025      0.975]\n",
      "------------------------------------------------------------------------------\n",
      "sigma2         0.0016      0.002      1.076      0.282      -0.001       0.005\n",
      "===================================================================================\n",
      "Ljung-Box (L1) (Q):                   0.03   Jarque-Bera (JB):                 0.73\n",
      "Prob(Q):                              0.87   Prob(JB):                         0.70\n",
      "Heteroskedasticity (H):               4.18   Skew:                            -0.28\n",
      "Prob(H) (two-sided):                  0.27   Kurtosis:                         1.63\n",
      "===================================================================================\n",
      "\n",
      "Warnings:\n",
      "[1] Covariance matrix calculated using the outer product of gradients (complex-step).\n"
     ]
    },
    {
     "ename": "TypeError",
     "evalue": "n_periods must be an int",
     "output_type": "error",
     "traceback": [
      "\u001b[0;31m---------------------------------------------------------------------------\u001b[0m",
      "\u001b[0;31mTypeError\u001b[0m                                 Traceback (most recent call last)",
      "\u001b[0;32m<ipython-input-13-785821cdb5b3>\u001b[0m in \u001b[0;36m<module>\u001b[0;34m\u001b[0m\n\u001b[1;32m     15\u001b[0m \u001b[0;34m\u001b[0m\u001b[0m\n\u001b[1;32m     16\u001b[0m \u001b[0;31m# Forecasting values\u001b[0m\u001b[0;34m\u001b[0m\u001b[0;34m\u001b[0m\u001b[0;34m\u001b[0m\u001b[0m\n\u001b[0;32m---> 17\u001b[0;31m \u001b[0mforecast_values\u001b[0m \u001b[0;34m=\u001b[0m \u001b[0mfitted_model\u001b[0m\u001b[0;34m.\u001b[0m\u001b[0mpredict\u001b[0m\u001b[0;34m(\u001b[0m\u001b[0mtest_data\u001b[0m\u001b[0;34m,\u001b[0m \u001b[0malpha\u001b[0m\u001b[0;34m=\u001b[0m\u001b[0;36m0.05\u001b[0m\u001b[0;34m)\u001b[0m\u001b[0;34m\u001b[0m\u001b[0;34m\u001b[0m\u001b[0m\n\u001b[0m\u001b[1;32m     18\u001b[0m \u001b[0mfcv_series\u001b[0m \u001b[0;34m=\u001b[0m \u001b[0mpd\u001b[0m\u001b[0;34m.\u001b[0m\u001b[0mSeries\u001b[0m\u001b[0;34m(\u001b[0m\u001b[0mforecast_values\u001b[0m\u001b[0;34m[\u001b[0m\u001b[0;36m0\u001b[0m\u001b[0;34m]\u001b[0m\u001b[0;34m,\u001b[0m \u001b[0mindex\u001b[0m\u001b[0;34m=\u001b[0m\u001b[0mtest_data\u001b[0m\u001b[0;34m.\u001b[0m\u001b[0mindex\u001b[0m\u001b[0;34m)\u001b[0m\u001b[0;34m\u001b[0m\u001b[0;34m\u001b[0m\u001b[0m\n\u001b[1;32m     19\u001b[0m \u001b[0;34m\u001b[0m\u001b[0m\n",
      "\u001b[0;32m~/.pyenv/versions/3.8.5/lib/python3.8/site-packages/pmdarima/arima/arima.py\u001b[0m in \u001b[0;36mpredict\u001b[0;34m(self, n_periods, X, return_conf_int, alpha, **kwargs)\u001b[0m\n\u001b[1;32m    660\u001b[0m         \u001b[0mcheck_is_fitted\u001b[0m\u001b[0;34m(\u001b[0m\u001b[0mself\u001b[0m\u001b[0;34m,\u001b[0m \u001b[0;34m'arima_res_'\u001b[0m\u001b[0;34m)\u001b[0m\u001b[0;34m\u001b[0m\u001b[0;34m\u001b[0m\u001b[0m\n\u001b[1;32m    661\u001b[0m         \u001b[0;32mif\u001b[0m \u001b[0;32mnot\u001b[0m \u001b[0misinstance\u001b[0m\u001b[0;34m(\u001b[0m\u001b[0mn_periods\u001b[0m\u001b[0;34m,\u001b[0m \u001b[0mint\u001b[0m\u001b[0;34m)\u001b[0m\u001b[0;34m:\u001b[0m\u001b[0;34m\u001b[0m\u001b[0;34m\u001b[0m\u001b[0m\n\u001b[0;32m--> 662\u001b[0;31m             \u001b[0;32mraise\u001b[0m \u001b[0mTypeError\u001b[0m\u001b[0;34m(\u001b[0m\u001b[0;34m\"n_periods must be an int\"\u001b[0m\u001b[0;34m)\u001b[0m\u001b[0;34m\u001b[0m\u001b[0;34m\u001b[0m\u001b[0m\n\u001b[0m\u001b[1;32m    663\u001b[0m \u001b[0;34m\u001b[0m\u001b[0m\n\u001b[1;32m    664\u001b[0m         \u001b[0;31m# Temporary shim until we remove `exogenous` support completely\u001b[0m\u001b[0;34m\u001b[0m\u001b[0;34m\u001b[0m\u001b[0;34m\u001b[0m\u001b[0m\n",
      "\u001b[0;31mTypeError\u001b[0m: n_periods must be an int"
     ]
    }
   ],
   "source": [
    "arima_model = auto_arima(train_data,\n",
    "                      start_p=1, start_q=1,\n",
    "                      max_p=5, max_q=5,\n",
    "                      test='adf',        \n",
    "                      trace=True,\n",
    "                      alpha=0.05,\n",
    "                      scoring='mse',\n",
    "                      suppress_warnings=True,\n",
    "                      seasonal = False\n",
    "                      )\n",
    "\n",
    "# Fit the final model with the order\n",
    "fitted_model = arima_model.fit(train_data) \n",
    "print(fitted_model.summary())\n",
    "\n",
    "# Forecasting values\n",
    "forecast_values = fitted_model.predict(test_data.index[0], test_data.index[-1], alpha=0.05) \n",
    "fcv_series = pd.Series(forecast_values[0], index=test_data.index)\n",
    "\n",
    "# Plot the predicted stock price and original price\n",
    "plt.figure(figsize=(12,5), dpi=100)\n",
    "plt.plot(train_data, label='training')\n",
    "plt.plot(test_data, label='Actual Stock Price')\n",
    "plt.plot(fcv_series,label='Predicted Stock Price')\n",
    "plt.title('Stock Price Prediction')\n",
    "plt.xlabel('Time')\n",
    "plt.ylabel('Close Price')\n",
    "plt.xticks([])\n",
    "plt.legend(loc='upper left', fontsize=8)\n",
    "plt.show()\n",
    "\n",
    "# Evaluate the model by calculating RMSE\n",
    "rms_auto_arima = sqrt(mean_squared_error(test_data.values, fcv_series))\n",
    "print(\"Auto-Arima RMSE :- \" + str(round(rms_auto_arima,3)))"
   ]
  },
  {
   "cell_type": "code",
   "execution_count": 18,
   "id": "a9ec816a",
   "metadata": {},
   "outputs": [
    {
     "name": "stdout",
     "output_type": "stream",
     "text": [
      "RMSE of all the methods\n",
      "Auto-Arima:  0.088\n",
      "Simple Exponential Smoothing:  0.086\n",
      "Holt’s Exponential Smoothing:  0.036\n"
     ]
    }
   ],
   "source": [
    "print(\"RMSE of all the methods\")\n",
    "print(\"Auto-Arima: \", round(rms_auto_arima,3))\n",
    "print(\"Simple Exponential Smoothing: \", round(rms_sim_exp,3))\n",
    "print(\"Holt’s Exponential Smoothing: \", round(rms_holt_exp,3))"
   ]
  },
  {
   "cell_type": "code",
   "execution_count": null,
   "id": "9ef00bdf",
   "metadata": {},
   "outputs": [],
   "source": []
  }
 ],
 "metadata": {
  "kernelspec": {
   "display_name": "Python 3",
   "language": "python",
   "name": "python3"
  },
  "language_info": {
   "codemirror_mode": {
    "name": "ipython",
    "version": 3
   },
   "file_extension": ".py",
   "mimetype": "text/x-python",
   "name": "python",
   "nbconvert_exporter": "python",
   "pygments_lexer": "ipython3",
   "version": "3.8.5"
  }
 },
 "nbformat": 4,
 "nbformat_minor": 5
}
