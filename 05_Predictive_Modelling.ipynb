{
 "cells": [
  {
   "cell_type": "markdown",
   "id": "f5902c82",
   "metadata": {},
   "source": [
    "# Predictive Modelling"
   ]
  },
  {
   "cell_type": "code",
   "execution_count": 1,
   "id": "f8ab0b9e",
   "metadata": {},
   "outputs": [],
   "source": [
    "%store -r  df_model features_x features_y"
   ]
  },
  {
   "cell_type": "code",
   "execution_count": 3,
   "id": "53ee7a45",
   "metadata": {},
   "outputs": [],
   "source": [
    "# Data handling\n",
    "\n",
    "import pandas as pd\n",
    "import numpy as np\n",
    "\n",
    "\n",
    "from sklearn.model_selection import train_test_split\n",
    "import xgboost as xgb\n",
    "from xgboost import plot_importance\n",
    "\n",
    "\n",
    "from sklearn.ensemble import RandomForestRegressor\n",
    "#from fbprophet import Prophet"
   ]
  },
  {
   "cell_type": "code",
   "execution_count": 4,
   "id": "5ce05ded",
   "metadata": {},
   "outputs": [],
   "source": [
    "df_model.sales = df_model.sales.apply(lambda x: np.nan if x == 0 else x)\n",
    "df_model.loc[df_model['is_train'] == 1, 'saleslog'] = np.log(1+df_model.loc[df_model['is_train'] == 1]['sales'])"
   ]
  },
  {
   "cell_type": "code",
   "execution_count": 5,
   "id": "48d84bfd",
   "metadata": {},
   "outputs": [],
   "source": [
    "# Train Test Split\n",
    "\n",
    "data = df_model.loc[(df_model['is_train'] == 1)]\n",
    "x_train, x_test, y_train, y_test = train_test_split(data[features_x], \n",
    "                                                    data[features_y], \n",
    "                                                    test_size=0.2, \n",
    "                                                    random_state=3)"
   ]
  },
  {
   "cell_type": "code",
   "execution_count": 6,
   "id": "274e68ab",
   "metadata": {},
   "outputs": [
    {
     "name": "stdout",
     "output_type": "stream",
     "text": [
      "(675470, 21) (675470, 1) (168868, 21) (168868, 1)\n"
     ]
    }
   ],
   "source": [
    "print(x_train.shape, y_train.shape, x_test.shape, y_test.shape)"
   ]
  },
  {
   "cell_type": "markdown",
   "id": "aca4eef9",
   "metadata": {},
   "source": [
    "## XGBoost"
   ]
  },
  {
   "cell_type": "code",
   "execution_count": 6,
   "id": "5dae44ce",
   "metadata": {},
   "outputs": [],
   "source": [
    "dtrain = xgb.DMatrix(x_train, y_train)\n",
    "dtest = xgb.DMatrix(x_test, y_test)\n",
    "\n",
    "num_round = 1000\n",
    "evallist = [(dtrain, 'train'), (dtest, 'test')]\n",
    "\n",
    "param = {'max_depth': 9,\n",
    "         'eta': 0.01,\n",
    "         'subsample': 0.75,\n",
    "         'colsample_bytree': 0.6, \n",
    "         'objective': 'reg:squarederror',}\n",
    "\n",
    "plst = list(param.items())"
   ]
  },
  {
   "cell_type": "code",
   "execution_count": 13,
   "id": "0b0ff45f",
   "metadata": {},
   "outputs": [],
   "source": [
    "def ToWeight(y):\n",
    "    w = np.zeros(y.shape, dtype=float)\n",
    "    ind = y != 0\n",
    "    w[ind] = 1./(y[ind]**2)\n",
    "    return w\n",
    "\n",
    "def rmspe(yhat, y):\n",
    "    w = ToWeight(y)\n",
    "    rmspe = np.sqrt(np.mean( w * (y - yhat)**2 ))\n",
    "    return rmspe\n",
    "\n",
    "def rmspe_xg(yhat, y):\n",
    "    y = y.get_label()\n",
    "    y = np.exp(y) - 1\n",
    "    yhat = np.exp(yhat) - 1\n",
    "    w = ToWeight(y)\n",
    "    rmspe = np.sqrt(np.mean(w * (y - yhat)**2))\n",
    "    return \"rmspe\", rmspe"
   ]
  },
  {
   "cell_type": "code",
   "execution_count": 20,
   "id": "4fd8240f",
   "metadata": {},
   "outputs": [
    {
     "name": "stdout",
     "output_type": "stream",
     "text": [
      "[0]\ttrain-rmse:8.18570\ttrain-rmspe:0.99986\ttest-rmse:8.18796\ttest-rmspe:0.99986\n"
     ]
    },
    {
     "ename": "KeyboardInterrupt",
     "evalue": "",
     "output_type": "error",
     "traceback": [
      "\u001b[0;31m---------------------------------------------------------------------------\u001b[0m",
      "\u001b[0;31mKeyboardInterrupt\u001b[0m                         Traceback (most recent call last)",
      "\u001b[0;32m/tmp/ipykernel_808/2129531105.py\u001b[0m in \u001b[0;36m<module>\u001b[0;34m\u001b[0m\n\u001b[0;32m----> 1\u001b[0;31m model = xgb.train(plst, dtrain, num_round, evallist,\n\u001b[0m\u001b[1;32m      2\u001b[0m                   feval=rmspe_xg, verbose_eval=250, early_stopping_rounds=100)\n",
      "\u001b[0;32m~/.pyenv/versions/3.8.5/lib/python3.8/site-packages/xgboost/training.py\u001b[0m in \u001b[0;36mtrain\u001b[0;34m(params, dtrain, num_boost_round, evals, obj, feval, maximize, early_stopping_rounds, evals_result, verbose_eval, xgb_model, callbacks)\u001b[0m\n\u001b[1;32m    187\u001b[0m     \u001b[0mBooster\u001b[0m \u001b[0;34m:\u001b[0m \u001b[0ma\u001b[0m \u001b[0mtrained\u001b[0m \u001b[0mbooster\u001b[0m \u001b[0mmodel\u001b[0m\u001b[0;34m\u001b[0m\u001b[0;34m\u001b[0m\u001b[0m\n\u001b[1;32m    188\u001b[0m     \"\"\"\n\u001b[0;32m--> 189\u001b[0;31m     bst = _train_internal(params, dtrain,\n\u001b[0m\u001b[1;32m    190\u001b[0m                           \u001b[0mnum_boost_round\u001b[0m\u001b[0;34m=\u001b[0m\u001b[0mnum_boost_round\u001b[0m\u001b[0;34m,\u001b[0m\u001b[0;34m\u001b[0m\u001b[0;34m\u001b[0m\u001b[0m\n\u001b[1;32m    191\u001b[0m                           \u001b[0mevals\u001b[0m\u001b[0;34m=\u001b[0m\u001b[0mevals\u001b[0m\u001b[0;34m,\u001b[0m\u001b[0;34m\u001b[0m\u001b[0;34m\u001b[0m\u001b[0m\n",
      "\u001b[0;32m~/.pyenv/versions/3.8.5/lib/python3.8/site-packages/xgboost/training.py\u001b[0m in \u001b[0;36m_train_internal\u001b[0;34m(params, dtrain, num_boost_round, evals, obj, feval, xgb_model, callbacks, evals_result, maximize, verbose_eval, early_stopping_rounds)\u001b[0m\n\u001b[1;32m     79\u001b[0m         \u001b[0;32mif\u001b[0m \u001b[0mcallbacks\u001b[0m\u001b[0;34m.\u001b[0m\u001b[0mbefore_iteration\u001b[0m\u001b[0;34m(\u001b[0m\u001b[0mbst\u001b[0m\u001b[0;34m,\u001b[0m \u001b[0mi\u001b[0m\u001b[0;34m,\u001b[0m \u001b[0mdtrain\u001b[0m\u001b[0;34m,\u001b[0m \u001b[0mevals\u001b[0m\u001b[0;34m)\u001b[0m\u001b[0;34m:\u001b[0m\u001b[0;34m\u001b[0m\u001b[0;34m\u001b[0m\u001b[0m\n\u001b[1;32m     80\u001b[0m             \u001b[0;32mbreak\u001b[0m\u001b[0;34m\u001b[0m\u001b[0;34m\u001b[0m\u001b[0m\n\u001b[0;32m---> 81\u001b[0;31m         \u001b[0mbst\u001b[0m\u001b[0;34m.\u001b[0m\u001b[0mupdate\u001b[0m\u001b[0;34m(\u001b[0m\u001b[0mdtrain\u001b[0m\u001b[0;34m,\u001b[0m \u001b[0mi\u001b[0m\u001b[0;34m,\u001b[0m \u001b[0mobj\u001b[0m\u001b[0;34m)\u001b[0m\u001b[0;34m\u001b[0m\u001b[0;34m\u001b[0m\u001b[0m\n\u001b[0m\u001b[1;32m     82\u001b[0m         \u001b[0;32mif\u001b[0m \u001b[0mcallbacks\u001b[0m\u001b[0;34m.\u001b[0m\u001b[0mafter_iteration\u001b[0m\u001b[0;34m(\u001b[0m\u001b[0mbst\u001b[0m\u001b[0;34m,\u001b[0m \u001b[0mi\u001b[0m\u001b[0;34m,\u001b[0m \u001b[0mdtrain\u001b[0m\u001b[0;34m,\u001b[0m \u001b[0mevals\u001b[0m\u001b[0;34m)\u001b[0m\u001b[0;34m:\u001b[0m\u001b[0;34m\u001b[0m\u001b[0;34m\u001b[0m\u001b[0m\n\u001b[1;32m     83\u001b[0m             \u001b[0;32mbreak\u001b[0m\u001b[0;34m\u001b[0m\u001b[0;34m\u001b[0m\u001b[0m\n",
      "\u001b[0;32m~/.pyenv/versions/3.8.5/lib/python3.8/site-packages/xgboost/core.py\u001b[0m in \u001b[0;36mupdate\u001b[0;34m(self, dtrain, iteration, fobj)\u001b[0m\n\u001b[1;32m   1497\u001b[0m \u001b[0;34m\u001b[0m\u001b[0m\n\u001b[1;32m   1498\u001b[0m         \u001b[0;32mif\u001b[0m \u001b[0mfobj\u001b[0m \u001b[0;32mis\u001b[0m \u001b[0;32mNone\u001b[0m\u001b[0;34m:\u001b[0m\u001b[0;34m\u001b[0m\u001b[0;34m\u001b[0m\u001b[0m\n\u001b[0;32m-> 1499\u001b[0;31m             _check_call(_LIB.XGBoosterUpdateOneIter(self.handle,\n\u001b[0m\u001b[1;32m   1500\u001b[0m                                                     \u001b[0mctypes\u001b[0m\u001b[0;34m.\u001b[0m\u001b[0mc_int\u001b[0m\u001b[0;34m(\u001b[0m\u001b[0miteration\u001b[0m\u001b[0;34m)\u001b[0m\u001b[0;34m,\u001b[0m\u001b[0;34m\u001b[0m\u001b[0;34m\u001b[0m\u001b[0m\n\u001b[1;32m   1501\u001b[0m                                                     dtrain.handle))\n",
      "\u001b[0;31mKeyboardInterrupt\u001b[0m: "
     ]
    }
   ],
   "source": [
    "model_xgb = xgb.train(plst, dtrain, num_round, evallist,\n",
    "                  feval=rmspe_xg, verbose_eval=250, early_stopping_rounds=100)"
   ]
  },
  {
   "cell_type": "code",
   "execution_count": 8,
   "id": "64154880",
   "metadata": {},
   "outputs": [
    {
     "ename": "NameError",
     "evalue": "name 'model_xgb' is not defined",
     "output_type": "error",
     "traceback": [
      "\u001b[0;31m---------------------------------------------------------------------------\u001b[0m",
      "\u001b[0;31mNameError\u001b[0m                                 Traceback (most recent call last)",
      "\u001b[0;32m<ipython-input-8-51ddcef356c6>\u001b[0m in \u001b[0;36m<module>\u001b[0;34m\u001b[0m\n\u001b[1;32m      2\u001b[0m \u001b[0msubmit\u001b[0m \u001b[0;34m=\u001b[0m \u001b[0mdf_model\u001b[0m\u001b[0;34m.\u001b[0m\u001b[0mloc\u001b[0m\u001b[0;34m[\u001b[0m\u001b[0mdf_model\u001b[0m\u001b[0;34m[\u001b[0m\u001b[0;34m'is_train'\u001b[0m\u001b[0;34m]\u001b[0m \u001b[0;34m==\u001b[0m \u001b[0;36m0\u001b[0m\u001b[0;34m]\u001b[0m\u001b[0;34m\u001b[0m\u001b[0;34m\u001b[0m\u001b[0m\n\u001b[1;32m      3\u001b[0m \u001b[0mdsubmit\u001b[0m \u001b[0;34m=\u001b[0m \u001b[0mxgb\u001b[0m\u001b[0;34m.\u001b[0m\u001b[0mDMatrix\u001b[0m\u001b[0;34m(\u001b[0m\u001b[0msubmit\u001b[0m\u001b[0;34m[\u001b[0m\u001b[0mfeatures_x\u001b[0m\u001b[0;34m]\u001b[0m\u001b[0;34m)\u001b[0m\u001b[0;34m\u001b[0m\u001b[0;34m\u001b[0m\u001b[0m\n\u001b[0;32m----> 4\u001b[0;31m \u001b[0mpredictions\u001b[0m \u001b[0;34m=\u001b[0m \u001b[0mmodel_xgb\u001b[0m\u001b[0;34m.\u001b[0m\u001b[0mpredict\u001b[0m\u001b[0;34m(\u001b[0m\u001b[0mdsubmit\u001b[0m\u001b[0;34m)\u001b[0m\u001b[0;34m\u001b[0m\u001b[0;34m\u001b[0m\u001b[0m\n\u001b[0m\u001b[1;32m      5\u001b[0m \u001b[0;34m\u001b[0m\u001b[0m\n\u001b[1;32m      6\u001b[0m \u001b[0mdf_predictions\u001b[0m \u001b[0;34m=\u001b[0m \u001b[0msubmit\u001b[0m\u001b[0;34m[\u001b[0m\u001b[0;34m'id'\u001b[0m\u001b[0;34m]\u001b[0m\u001b[0;34m.\u001b[0m\u001b[0mreset_index\u001b[0m\u001b[0;34m(\u001b[0m\u001b[0;34m)\u001b[0m\u001b[0;34m\u001b[0m\u001b[0;34m\u001b[0m\u001b[0m\n",
      "\u001b[0;31mNameError\u001b[0m: name 'model_xgb' is not defined"
     ]
    }
   ],
   "source": [
    "#make a submission dataframe to test RMSPE for unseen test-data (test.csv)\n",
    "submit = df_model.loc[df_model['is_train'] == 0]\n",
    "dsubmit = xgb.DMatrix(submit[features_x])\n",
    "predictions = model_xgb.predict(dsubmit)\n",
    "\n",
    "df_predictions = submit['id'].reset_index()\n",
    "df_predictions['Id'] = df_predictions['id'].astype('int')\n",
    "df_predictions['Sales'] = (np.exp(predictions) - 1) * 0.985 #Scale Back\n",
    "\n",
    "df_predictions.sort_values('Id', inplace=True)\n",
    "df_predictions[['Id', 'Sales']].to_csv('submit_xgboost_03.csv', index=False)"
   ]
  },
  {
   "cell_type": "code",
   "execution_count": null,
   "id": "2ea2bcdb",
   "metadata": {},
   "outputs": [],
   "source": [
    "#Print Feature Importance\n",
    "plt.figure(figsize=(18,8))\n",
    "\n",
    "plot_importance(model)\n",
    "plt.show()\n",
    "plt.savefig('xgboost_03_feature_importance.png')"
   ]
  },
  {
   "cell_type": "code",
   "execution_count": null,
   "id": "62a21084",
   "metadata": {},
   "outputs": [],
   "source": [
    "# save dataframes on disk\n",
    "df.to_csv('dataframe_raw', index=False)\n",
    "df_model.to_csv('dataframe_raw_model3', index=False)\n",
    "data.to_csv('dataframe_modeldata3', index=False)"
   ]
  },
  {
   "cell_type": "code",
   "execution_count": null,
   "id": "bfe06cbd",
   "metadata": {},
   "outputs": [],
   "source": [
    "# save model using pickle\n",
    "import pickle\n",
    "filename = 'model_xgboost_03.sav'\n",
    "pickle.dump(model, open(filename, 'wb'))\n"
   ]
  },
  {
   "cell_type": "code",
   "execution_count": null,
   "id": "6dfc8e10",
   "metadata": {},
   "outputs": [],
   "source": [
    "# load pickled model\n",
    "import pickle\n",
    "#loaded_model = pickle.load(open(\"/Users/bur.oez/Desktop/Capstone-Project-Rossman-Sales Kopie/model_xgboost_01.sav\", 'rb'))"
   ]
  },
  {
   "cell_type": "markdown",
   "id": "789de397",
   "metadata": {},
   "source": [
    "## Support Vector Machine"
   ]
  },
  {
   "cell_type": "code",
   "execution_count": null,
   "id": "394ff93a",
   "metadata": {},
   "outputs": [],
   "source": []
  },
  {
   "cell_type": "code",
   "execution_count": null,
   "id": "12efb593",
   "metadata": {},
   "outputs": [],
   "source": []
  },
  {
   "cell_type": "code",
   "execution_count": null,
   "id": "2a3748ac",
   "metadata": {},
   "outputs": [],
   "source": []
  },
  {
   "cell_type": "markdown",
   "id": "ceb2924a",
   "metadata": {},
   "source": [
    "## Random Forest Regressor"
   ]
  },
  {
   "cell_type": "code",
   "execution_count": 7,
   "id": "a0f63b65",
   "metadata": {},
   "outputs": [],
   "source": [
    "rfr= RandomForestRegressor(n_estimators=100,\n",
    "                          criterion=\"mse\",\n",
    "                          max_depth=5,\n",
    "                          min_samples_split=2,\n",
    "                          min_samples_leaf=1,\n",
    "                          min_weight_fraction_leaf=0.0,\n",
    "                          max_features=\"auto\",\n",
    "                          max_leaf_nodes=None,\n",
    "                          min_impurity_decrease=0.0,\n",
    "                          min_impurity_split=None,\n",
    "                          bootstrap=True,\n",
    "                          oob_score=False,\n",
    "                          random_state=70,\n",
    "                \n",
    "                          )"
   ]
  },
  {
   "cell_type": "code",
   "execution_count": 8,
   "id": "aec9e770",
   "metadata": {},
   "outputs": [
    {
     "name": "stderr",
     "output_type": "stream",
     "text": [
      "/tmp/ipykernel_5040/436671445.py:1: DataConversionWarning: A column-vector y was passed when a 1d array was expected. Please change the shape of y to (n_samples,), for example using ravel().\n",
      "  model_rfr= rfr.fit(x_train,y_train)\n"
     ]
    }
   ],
   "source": [
    "model_rfr= rfr.fit(x_train,y_train)"
   ]
  },
  {
   "cell_type": "code",
   "execution_count": 9,
   "id": "c1ab5a95",
   "metadata": {},
   "outputs": [
    {
     "data": {
      "text/plain": [
       "holidaysthisweek           0\n",
       "salespercustomersperday    0\n",
       "promoyesterday             1\n",
       "store                      0\n",
       "stateholiday               0\n",
       "holidayslastweek           0\n",
       "competitiondistance        0\n",
       "dateint                    0\n",
       "0_prominterval             0\n",
       "schoolholiday              0\n",
       "promo                      0\n",
       "dayofweek                  0\n",
       "salesperday                0\n",
       "competitionopen            0\n",
       "customersperday            0\n",
       "storetype                  0\n",
       "promosince                 0\n",
       "holidaysnextweek           0\n",
       "open                       0\n",
       "promotomorrow              0\n",
       "assortment                 0\n",
       "dtype: int64"
      ]
     },
     "execution_count": 9,
     "metadata": {},
     "output_type": "execute_result"
    }
   ],
   "source": [
    "x_test.isnull().sum()"
   ]
  },
  {
   "cell_type": "code",
   "execution_count": 10,
   "id": "dada18a1",
   "metadata": {},
   "outputs": [],
   "source": [
    "x_test.fillna(-999, inplace=True)\n",
    "y_hat_rfr=model_rfr.predict(x_test)"
   ]
  },
  {
   "cell_type": "code",
   "execution_count": 47,
   "id": "9a3043bc",
   "metadata": {},
   "outputs": [],
   "source": [
    "y_hat_rfr = y_hat_rfr.astype(np.float64)\n",
    "y_test_values = y_test.values.astype(np.float64).reshape(-1,)"
   ]
  },
  {
   "cell_type": "code",
   "execution_count": 48,
   "id": "d00f6d40",
   "metadata": {},
   "outputs": [
    {
     "data": {
      "text/plain": [
       "0.025131548128583227"
      ]
     },
     "execution_count": 48,
     "metadata": {},
     "output_type": "execute_result"
    }
   ],
   "source": [
    "rmspe(y_hat_rfr,y_test_values)"
   ]
  },
  {
   "cell_type": "code",
   "execution_count": 55,
   "id": "6212e033",
   "metadata": {
    "scrolled": false
   },
   "outputs": [
    {
     "name": "stderr",
     "output_type": "stream",
     "text": [
      "/home/buroez/.pyenv/versions/3.8.5/lib/python3.8/site-packages/pandas/core/frame.py:4462: SettingWithCopyWarning: \n",
      "A value is trying to be set on a copy of a slice from a DataFrame\n",
      "\n",
      "See the caveats in the documentation: https://pandas.pydata.org/pandas-docs/stable/user_guide/indexing.html#returning-a-view-versus-a-copy\n",
      "  return super().fillna(\n"
     ]
    }
   ],
   "source": [
    "submit.fillna(-999, inplace=True)"
   ]
  },
  {
   "cell_type": "code",
   "execution_count": 56,
   "id": "7808cbbf",
   "metadata": {},
   "outputs": [],
   "source": [
    "#make a submission dataframe to test RMSPE for unseen test-data (test.csv)\n",
    "#submit = df_model.loc[df_model['is_train'] == 0]\n",
    "predictions = model_rfr.predict(submit[features_x])\n",
    "\n"
   ]
  },
  {
   "cell_type": "code",
   "execution_count": 57,
   "id": "bae654ea",
   "metadata": {},
   "outputs": [],
   "source": [
    "df_predictions = submit['id'].reset_index()\n",
    "df_predictions['Id'] = df_predictions['id'].astype('int')\n",
    "df_predictions['Sales'] = (np.exp(predictions) - 1) * 0.985 #Scale Back\n",
    "\n",
    "df_predictions.sort_values('Id', inplace=True)\n",
    "df_predictions[['Id', 'Sales']].to_csv('submit_rfr_03.csv', index=False)"
   ]
  },
  {
   "cell_type": "code",
   "execution_count": null,
   "id": "d9958e3d",
   "metadata": {},
   "outputs": [],
   "source": []
  },
  {
   "cell_type": "code",
   "execution_count": null,
   "id": "76e4d392",
   "metadata": {},
   "outputs": [],
   "source": []
  },
  {
   "cell_type": "markdown",
   "id": "b306f156",
   "metadata": {},
   "source": [
    "## Prophet"
   ]
  },
  {
   "cell_type": "code",
   "execution_count": 38,
   "id": "d2d960e1",
   "metadata": {},
   "outputs": [],
   "source": [
    "df_prophet = df_model.drop([\"saleslog\",\"id\",\"is_train\",\"assortment\", \"competitiondistance\",\"competitionopen\",\"salespercustomersperday\",\"stateholiday\",\"storetype\", \\\n",
    "                         \"dayofyear\",\"day\",\"month\",\"year\",\"promosince\", \"0_prominterval\",\"dateint\",\"promotomorrow\",\"promoyesterday\", \\\n",
    "                         \"schoolholiday\",\"promo\",\"open\",\"customers\",\"dayofweek\",\"store\",\"salesperday\",\"customersperday\",\"holidaysnextweek\",\"holidaysthisweek\",\"holidayslastweek\"],axis=1)"
   ]
  },
  {
   "cell_type": "code",
   "execution_count": 39,
   "id": "e29adc99",
   "metadata": {},
   "outputs": [],
   "source": [
    "df_prophet_log = df_model.drop([\"sales\",\"id\",\"is_train\",\"assortment\", \"competitiondistance\",\"competitionopen\",\"salespercustomersperday\",\"stateholiday\",\"storetype\", \\\n",
    "                         \"dayofyear\",\"day\",\"month\",\"year\",\"promosince\", \"0_prominterval\",\"dateint\",\"promotomorrow\",\"promoyesterday\", \\\n",
    "                         \"schoolholiday\",\"promo\",\"open\",\"customers\",\"dayofweek\",\"store\",\"salesperday\",\"customersperday\",\"holidaysnextweek\",\"holidaysthisweek\",\"holidayslastweek\"],axis=1)"
   ]
  },
  {
   "cell_type": "code",
   "execution_count": 50,
   "id": "32458f5b",
   "metadata": {},
   "outputs": [],
   "source": [
    "df_prophet.columns = [\"y\",\"ds\"]\n",
    "df_prophet = df_prophet[[\"ds\",\"y\"]]\n",
    "df_prophet = df_prophet.sort_index(ascending = False)"
   ]
  },
  {
   "cell_type": "code",
   "execution_count": 51,
   "id": "a8db9f1b",
   "metadata": {},
   "outputs": [],
   "source": [
    "df_prophet_log.columns = [\"y\",\"ds\"]\n",
    "df_prophet_log = df_prophet_log[[\"ds\",\"y\"]]\n",
    "df_prophet_log = df_prophet_log.sort_index(ascending = False)"
   ]
  },
  {
   "cell_type": "code",
   "execution_count": 52,
   "id": "20efdfff",
   "metadata": {},
   "outputs": [
    {
     "data": {
      "text/html": [
       "<div>\n",
       "<style scoped>\n",
       "    .dataframe tbody tr th:only-of-type {\n",
       "        vertical-align: middle;\n",
       "    }\n",
       "\n",
       "    .dataframe tbody tr th {\n",
       "        vertical-align: top;\n",
       "    }\n",
       "\n",
       "    .dataframe thead th {\n",
       "        text-align: right;\n",
       "    }\n",
       "</style>\n",
       "<table border=\"1\" class=\"dataframe\">\n",
       "  <thead>\n",
       "    <tr style=\"text-align: right;\">\n",
       "      <th></th>\n",
       "      <th>ds</th>\n",
       "      <th>y</th>\n",
       "    </tr>\n",
       "  </thead>\n",
       "  <tbody>\n",
       "    <tr>\n",
       "      <th>885425</th>\n",
       "      <td>2015-08-01</td>\n",
       "      <td>NaN</td>\n",
       "    </tr>\n",
       "    <tr>\n",
       "      <th>885424</th>\n",
       "      <td>2015-08-01</td>\n",
       "      <td>NaN</td>\n",
       "    </tr>\n",
       "    <tr>\n",
       "      <th>885423</th>\n",
       "      <td>2015-08-01</td>\n",
       "      <td>NaN</td>\n",
       "    </tr>\n",
       "    <tr>\n",
       "      <th>885422</th>\n",
       "      <td>2015-08-01</td>\n",
       "      <td>NaN</td>\n",
       "    </tr>\n",
       "    <tr>\n",
       "      <th>885421</th>\n",
       "      <td>2015-08-01</td>\n",
       "      <td>NaN</td>\n",
       "    </tr>\n",
       "    <tr>\n",
       "      <th>...</th>\n",
       "      <td>...</td>\n",
       "      <td>...</td>\n",
       "    </tr>\n",
       "    <tr>\n",
       "      <th>4</th>\n",
       "      <td>2015-07-31</td>\n",
       "      <td>4822.0</td>\n",
       "    </tr>\n",
       "    <tr>\n",
       "      <th>3</th>\n",
       "      <td>2015-07-31</td>\n",
       "      <td>13995.0</td>\n",
       "    </tr>\n",
       "    <tr>\n",
       "      <th>2</th>\n",
       "      <td>2015-07-31</td>\n",
       "      <td>8314.0</td>\n",
       "    </tr>\n",
       "    <tr>\n",
       "      <th>1</th>\n",
       "      <td>2015-07-31</td>\n",
       "      <td>6064.0</td>\n",
       "    </tr>\n",
       "    <tr>\n",
       "      <th>0</th>\n",
       "      <td>2015-07-31</td>\n",
       "      <td>5263.0</td>\n",
       "    </tr>\n",
       "  </tbody>\n",
       "</table>\n",
       "<p>885426 rows × 2 columns</p>\n",
       "</div>"
      ],
      "text/plain": [
       "               ds        y\n",
       "885425 2015-08-01      NaN\n",
       "885424 2015-08-01      NaN\n",
       "885423 2015-08-01      NaN\n",
       "885422 2015-08-01      NaN\n",
       "885421 2015-08-01      NaN\n",
       "...           ...      ...\n",
       "4      2015-07-31   4822.0\n",
       "3      2015-07-31  13995.0\n",
       "2      2015-07-31   8314.0\n",
       "1      2015-07-31   6064.0\n",
       "0      2015-07-31   5263.0\n",
       "\n",
       "[885426 rows x 2 columns]"
      ]
     },
     "execution_count": 52,
     "metadata": {},
     "output_type": "execute_result"
    }
   ],
   "source": [
    "df_prophet"
   ]
  },
  {
   "cell_type": "code",
   "execution_count": 53,
   "id": "237b9e87",
   "metadata": {},
   "outputs": [],
   "source": [
    "m =Prophet()"
   ]
  },
  {
   "cell_type": "code",
   "execution_count": 54,
   "id": "18ba449b",
   "metadata": {},
   "outputs": [
    {
     "name": "stderr",
     "output_type": "stream",
     "text": [
      "INFO:fbprophet:Disabling daily seasonality. Run prophet with daily_seasonality=True to override this.\n"
     ]
    }
   ],
   "source": [
    "model_prophet= m.fit(df_prophet)"
   ]
  },
  {
   "cell_type": "code",
   "execution_count": 55,
   "id": "8a9ba210",
   "metadata": {},
   "outputs": [
    {
     "data": {
      "text/html": [
       "<div>\n",
       "<style scoped>\n",
       "    .dataframe tbody tr th:only-of-type {\n",
       "        vertical-align: middle;\n",
       "    }\n",
       "\n",
       "    .dataframe tbody tr th {\n",
       "        vertical-align: top;\n",
       "    }\n",
       "\n",
       "    .dataframe thead th {\n",
       "        text-align: right;\n",
       "    }\n",
       "</style>\n",
       "<table border=\"1\" class=\"dataframe\">\n",
       "  <thead>\n",
       "    <tr style=\"text-align: right;\">\n",
       "      <th></th>\n",
       "      <th>ds</th>\n",
       "      <th>trend</th>\n",
       "      <th>yhat_lower</th>\n",
       "      <th>yhat_upper</th>\n",
       "      <th>trend_lower</th>\n",
       "      <th>trend_upper</th>\n",
       "      <th>additive_terms</th>\n",
       "      <th>additive_terms_lower</th>\n",
       "      <th>additive_terms_upper</th>\n",
       "      <th>weekly</th>\n",
       "      <th>weekly_lower</th>\n",
       "      <th>weekly_upper</th>\n",
       "      <th>yearly</th>\n",
       "      <th>yearly_lower</th>\n",
       "      <th>yearly_upper</th>\n",
       "      <th>multiplicative_terms</th>\n",
       "      <th>multiplicative_terms_lower</th>\n",
       "      <th>multiplicative_terms_upper</th>\n",
       "      <th>yhat</th>\n",
       "    </tr>\n",
       "  </thead>\n",
       "  <tbody>\n",
       "    <tr>\n",
       "      <th>0</th>\n",
       "      <td>2013-01-01</td>\n",
       "      <td>7170.719691</td>\n",
       "      <td>3708.827432</td>\n",
       "      <td>11291.456175</td>\n",
       "      <td>7170.719691</td>\n",
       "      <td>7170.719691</td>\n",
       "      <td>212.628801</td>\n",
       "      <td>212.628801</td>\n",
       "      <td>212.628801</td>\n",
       "      <td>-62.850830</td>\n",
       "      <td>-62.850830</td>\n",
       "      <td>-62.850830</td>\n",
       "      <td>275.479631</td>\n",
       "      <td>275.479631</td>\n",
       "      <td>275.479631</td>\n",
       "      <td>0.0</td>\n",
       "      <td>0.0</td>\n",
       "      <td>0.0</td>\n",
       "      <td>7383.348492</td>\n",
       "    </tr>\n",
       "    <tr>\n",
       "      <th>1</th>\n",
       "      <td>2013-01-02</td>\n",
       "      <td>7170.272284</td>\n",
       "      <td>3139.964336</td>\n",
       "      <td>10784.904364</td>\n",
       "      <td>7170.272284</td>\n",
       "      <td>7170.272284</td>\n",
       "      <td>-271.638170</td>\n",
       "      <td>-271.638170</td>\n",
       "      <td>-271.638170</td>\n",
       "      <td>-409.446365</td>\n",
       "      <td>-409.446365</td>\n",
       "      <td>-409.446365</td>\n",
       "      <td>137.808194</td>\n",
       "      <td>137.808194</td>\n",
       "      <td>137.808194</td>\n",
       "      <td>0.0</td>\n",
       "      <td>0.0</td>\n",
       "      <td>0.0</td>\n",
       "      <td>6898.634114</td>\n",
       "    </tr>\n",
       "    <tr>\n",
       "      <th>2</th>\n",
       "      <td>2013-01-03</td>\n",
       "      <td>7169.824876</td>\n",
       "      <td>3295.621102</td>\n",
       "      <td>10630.271758</td>\n",
       "      <td>7169.824876</td>\n",
       "      <td>7169.824876</td>\n",
       "      <td>-343.824145</td>\n",
       "      <td>-343.824145</td>\n",
       "      <td>-343.824145</td>\n",
       "      <td>-349.805028</td>\n",
       "      <td>-349.805028</td>\n",
       "      <td>-349.805028</td>\n",
       "      <td>5.980883</td>\n",
       "      <td>5.980883</td>\n",
       "      <td>5.980883</td>\n",
       "      <td>0.0</td>\n",
       "      <td>0.0</td>\n",
       "      <td>0.0</td>\n",
       "      <td>6826.000731</td>\n",
       "    </tr>\n",
       "    <tr>\n",
       "      <th>3</th>\n",
       "      <td>2013-01-04</td>\n",
       "      <td>7169.377469</td>\n",
       "      <td>3257.579025</td>\n",
       "      <td>10792.886813</td>\n",
       "      <td>7169.377469</td>\n",
       "      <td>7169.377469</td>\n",
       "      <td>-178.117668</td>\n",
       "      <td>-178.117668</td>\n",
       "      <td>-178.117668</td>\n",
       "      <td>-59.362344</td>\n",
       "      <td>-59.362344</td>\n",
       "      <td>-59.362344</td>\n",
       "      <td>-118.755325</td>\n",
       "      <td>-118.755325</td>\n",
       "      <td>-118.755325</td>\n",
       "      <td>0.0</td>\n",
       "      <td>0.0</td>\n",
       "      <td>0.0</td>\n",
       "      <td>6991.259801</td>\n",
       "    </tr>\n",
       "    <tr>\n",
       "      <th>4</th>\n",
       "      <td>2013-01-05</td>\n",
       "      <td>7168.930062</td>\n",
       "      <td>1782.272238</td>\n",
       "      <td>9434.350865</td>\n",
       "      <td>7168.930062</td>\n",
       "      <td>7168.930062</td>\n",
       "      <td>-1509.939051</td>\n",
       "      <td>-1509.939051</td>\n",
       "      <td>-1509.939051</td>\n",
       "      <td>-1274.613300</td>\n",
       "      <td>-1274.613300</td>\n",
       "      <td>-1274.613300</td>\n",
       "      <td>-235.325751</td>\n",
       "      <td>-235.325751</td>\n",
       "      <td>-235.325751</td>\n",
       "      <td>0.0</td>\n",
       "      <td>0.0</td>\n",
       "      <td>0.0</td>\n",
       "      <td>5658.991011</td>\n",
       "    </tr>\n",
       "  </tbody>\n",
       "</table>\n",
       "</div>"
      ],
      "text/plain": [
       "          ds        trend   yhat_lower    yhat_upper  trend_lower  \\\n",
       "0 2013-01-01  7170.719691  3708.827432  11291.456175  7170.719691   \n",
       "1 2013-01-02  7170.272284  3139.964336  10784.904364  7170.272284   \n",
       "2 2013-01-03  7169.824876  3295.621102  10630.271758  7169.824876   \n",
       "3 2013-01-04  7169.377469  3257.579025  10792.886813  7169.377469   \n",
       "4 2013-01-05  7168.930062  1782.272238   9434.350865  7168.930062   \n",
       "\n",
       "   trend_upper  additive_terms  additive_terms_lower  additive_terms_upper  \\\n",
       "0  7170.719691      212.628801            212.628801            212.628801   \n",
       "1  7170.272284     -271.638170           -271.638170           -271.638170   \n",
       "2  7169.824876     -343.824145           -343.824145           -343.824145   \n",
       "3  7169.377469     -178.117668           -178.117668           -178.117668   \n",
       "4  7168.930062    -1509.939051          -1509.939051          -1509.939051   \n",
       "\n",
       "        weekly  weekly_lower  weekly_upper      yearly  yearly_lower  \\\n",
       "0   -62.850830    -62.850830    -62.850830  275.479631    275.479631   \n",
       "1  -409.446365   -409.446365   -409.446365  137.808194    137.808194   \n",
       "2  -349.805028   -349.805028   -349.805028    5.980883      5.980883   \n",
       "3   -59.362344    -59.362344    -59.362344 -118.755325   -118.755325   \n",
       "4 -1274.613300  -1274.613300  -1274.613300 -235.325751   -235.325751   \n",
       "\n",
       "   yearly_upper  multiplicative_terms  multiplicative_terms_lower  \\\n",
       "0    275.479631                   0.0                         0.0   \n",
       "1    137.808194                   0.0                         0.0   \n",
       "2      5.980883                   0.0                         0.0   \n",
       "3   -118.755325                   0.0                         0.0   \n",
       "4   -235.325751                   0.0                         0.0   \n",
       "\n",
       "   multiplicative_terms_upper         yhat  \n",
       "0                         0.0  7383.348492  \n",
       "1                         0.0  6898.634114  \n",
       "2                         0.0  6826.000731  \n",
       "3                         0.0  6991.259801  \n",
       "4                         0.0  5658.991011  "
      ]
     },
     "execution_count": 55,
     "metadata": {},
     "output_type": "execute_result"
    }
   ],
   "source": [
    "future_sales= m.make_future_dataframe(periods=48, freq=\"D\",include_history =True)\n",
    "forecast_sales= m.predict(future_sales)\n",
    "forecast_sales.head()"
   ]
  },
  {
   "cell_type": "code",
   "execution_count": 56,
   "id": "3a0747db",
   "metadata": {},
   "outputs": [
    {
     "data": {
      "text/plain": [
       "(1038, 19)"
      ]
     },
     "execution_count": 56,
     "metadata": {},
     "output_type": "execute_result"
    }
   ],
   "source": [
    "forecast_sales.shape"
   ]
  },
  {
   "cell_type": "code",
   "execution_count": null,
   "id": "02f0cb8b",
   "metadata": {},
   "outputs": [],
   "source": []
  }
 ],
 "metadata": {
  "kernelspec": {
   "display_name": "Python 3 (ipykernel)",
   "language": "python",
   "name": "python3"
  },
  "language_info": {
   "codemirror_mode": {
    "name": "ipython",
    "version": 3
   },
   "file_extension": ".py",
   "mimetype": "text/x-python",
   "name": "python",
   "nbconvert_exporter": "python",
   "pygments_lexer": "ipython3",
   "version": "3.8.5"
  }
 },
 "nbformat": 4,
 "nbformat_minor": 5
}
