{
 "cells": [
  {
   "cell_type": "code",
   "execution_count": 1,
   "id": "1e24dfb1",
   "metadata": {},
   "outputs": [],
   "source": [
    "%store -r df_model df_store"
   ]
  },
  {
   "cell_type": "code",
   "execution_count": null,
   "id": "6f8c4484",
   "metadata": {},
   "outputs": [],
   "source": []
  }
 ],
 "metadata": {
  "kernelspec": {
   "display_name": "Python 3",
   "language": "python",
   "name": "python3"
  },
  "language_info": {
   "codemirror_mode": {
    "name": "ipython",
    "version": 3
   },
   "file_extension": ".py",
   "mimetype": "text/x-python",
   "name": "python",
   "nbconvert_exporter": "python",
   "pygments_lexer": "ipython3",
   "version": "3.8.5"
  }
 },
 "nbformat": 4,
 "nbformat_minor": 5
}
