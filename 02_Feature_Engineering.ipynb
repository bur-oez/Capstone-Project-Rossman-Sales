{
 "cells": [
  {
   "cell_type": "markdown",
   "id": "b068ba33",
   "metadata": {},
   "source": [
    "# Feature Engineering"
   ]
  },
  {
   "cell_type": "code",
   "execution_count": 26,
   "id": "7c3557eb",
   "metadata": {},
   "outputs": [],
   "source": [
    "# Load the Dataframe from Nootbook 01\n",
    "\n",
    "%store -r df_model df_store"
   ]
  },
  {
   "cell_type": "code",
   "execution_count": 27,
   "id": "d271a874",
   "metadata": {},
   "outputs": [],
   "source": [
    "#Data handling\n",
    "\n",
    "import pandas as pd\n",
    "import numpy as np\n",
    "import calendar\n",
    "import datetime"
   ]
  },
  {
   "cell_type": "markdown",
   "id": "b468b403",
   "metadata": {},
   "source": [
    "### Feature Engineering with \"df_store\" Dataframe"
   ]
  },
  {
   "cell_type": "markdown",
   "id": "25eb410d",
   "metadata": {},
   "source": [
    "Feature Engineering with \"promointerval\""
   ]
  },
  {
   "cell_type": "code",
   "execution_count": 28,
   "id": "f41d3621",
   "metadata": {},
   "outputs": [],
   "source": [
    "# splitting 'Promointerval' string into individual strings and get the month\n",
    "\n",
    "prom_interval = df_store['promointerval'].str.split(',').apply(pd.Series)"
   ]
  },
  {
   "cell_type": "code",
   "execution_count": 29,
   "id": "1d51ab6f",
   "metadata": {},
   "outputs": [],
   "source": [
    "prom_interval.columns = prom_interval.columns.map(lambda x: str(x) + '_prominterval')\n",
    "df_store = df_store.join(prom_interval)"
   ]
  },
  {
   "cell_type": "code",
   "execution_count": 30,
   "id": "bbfe34d5",
   "metadata": {},
   "outputs": [],
   "source": [
    "def monthToNum(value):\n",
    "    if(value=='Sept'):\n",
    "        value='Sep'\n",
    "    return list(calendar.month_abbr).index(value)\n",
    "\n",
    "#mapping month abbr to month number\n",
    "\n",
    "df_store['0_prominterval'] = df_store['0_prominterval'].map(lambda x: monthToNum(x) if str(x) != 'nan' else np.nan)\n",
    "df_store['1_prominterval'] = df_store['1_prominterval'].map(lambda x: monthToNum(x) if str(x) != 'nan' else np.nan)\n",
    "df_store['2_prominterval'] = df_store['2_prominterval'].map(lambda x: monthToNum(x) if str(x) != 'nan' else np.nan)\n",
    "df_store['3_prominterval'] = df_store['3_prominterval'].map(lambda x: monthToNum(x) if str(x) != 'nan' else np.nan)"
   ]
  },
  {
   "cell_type": "markdown",
   "id": "583e6b15",
   "metadata": {},
   "source": [
    "Feature Engineering with \"promo\" "
   ]
  },
  {
   "cell_type": "code",
   "execution_count": 31,
   "id": "3c42a1da",
   "metadata": {},
   "outputs": [
    {
     "data": {
      "text/plain": [
       "(1115,)"
      ]
     },
     "execution_count": 31,
     "metadata": {},
     "output_type": "execute_result"
    }
   ],
   "source": [
    "promo = []\n",
    "for index, value in df_store[['promo2sinceweek', 'promo2sinceyear']].iterrows():\n",
    "    try:\n",
    "        year, week = int(value['promo2sinceyear']), int(value['promo2sinceweek'])\n",
    "        date = pd.to_datetime(\"{}-{}-01\".format(year, week), format='%Y%W')\n",
    "        promo.append(date)\n",
    "    except:\n",
    "        promo.append(np.nan)\n",
    "promo = pd.to_datetime(pd.Series(promo))\n",
    "promo.shape"
   ]
  },
  {
   "cell_type": "code",
   "execution_count": 32,
   "id": "3759fbbe",
   "metadata": {},
   "outputs": [],
   "source": [
    "df_store['promosince'] = promo #converted int to datetime\n",
    "df_store['promosince'] = df_store.promosince.dt.strftime('%Y%m%d')"
   ]
  },
  {
   "cell_type": "markdown",
   "id": "a2b2967b",
   "metadata": {},
   "source": [
    "Feature Engineering with \"competition\" "
   ]
  },
  {
   "cell_type": "code",
   "execution_count": 33,
   "id": "fee64b6c",
   "metadata": {},
   "outputs": [
    {
     "data": {
      "text/plain": [
       "(1115,)"
      ]
     },
     "execution_count": 33,
     "metadata": {},
     "output_type": "execute_result"
    }
   ],
   "source": [
    "competition_open = []\n",
    "for index, value in df_store[['competitionopensincemonth', 'competitionopensinceyear']].iterrows():\n",
    "    try:\n",
    "        year, month = int(value['competitionopensinceyear']), int(value['competitionopensincemonth'])\n",
    "        date = pd.to_datetime(\"{}-{}-01\".format(year, month), format='%Y-%m')\n",
    "        competition_open.append(date)\n",
    "    except:\n",
    "        competition_open.append(np.nan)\n",
    "competition_open = pd.Series(competition_open)\n",
    "competition_open.shape"
   ]
  },
  {
   "cell_type": "code",
   "execution_count": 34,
   "id": "0cd6dff2",
   "metadata": {},
   "outputs": [],
   "source": [
    "df_store['competitionopen'] = competition_open #converted int to datetime\n",
    "df_store['competitionopen'] = df_store['competitionopen'].dt.strftime('%Y%m%d')"
   ]
  },
  {
   "cell_type": "markdown",
   "id": "858d881f",
   "metadata": {},
   "source": [
    "This concludes the Feature Engineering from df_store.\n",
    "The newly created features are put into store_features."
   ]
  },
  {
   "cell_type": "code",
   "execution_count": 35,
   "id": "4a86bd9f",
   "metadata": {},
   "outputs": [],
   "source": [
    "store_features = ['store', 'storetype', 'assortment', 'competitiondistance', 'competitionopen', \n",
    "                  'promosince', '0_prominterval']"
   ]
  },
  {
   "cell_type": "code",
   "execution_count": 36,
   "id": "e3706fb6",
   "metadata": {},
   "outputs": [],
   "source": [
    "features_x = ['store', 'timestamp', 'dayofweek', 'open', 'promo', 'schoolholiday', 'stateholiday']\n",
    "features_y = ['saleslog']"
   ]
  },
  {
   "cell_type": "code",
   "execution_count": 37,
   "id": "ebbd3e29",
   "metadata": {},
   "outputs": [],
   "source": [
    "df_model = pd.merge(df_model, df_store[store_features], how='left', on=['store'])"
   ]
  },
  {
   "cell_type": "code",
   "execution_count": 38,
   "id": "86da0ddd",
   "metadata": {},
   "outputs": [],
   "source": [
    "# put new features into feature-list\n",
    "features_x = list(set(features_x + store_features))\n",
    "\n",
    "for feature in features_x:\n",
    "    df_model[feature] = df_model[feature].fillna(-999) #out of range value for model"
   ]
  },
  {
   "cell_type": "code",
   "execution_count": 39,
   "id": "96475ec9",
   "metadata": {},
   "outputs": [],
   "source": [
    "df_model['dateint'] = df_model.timestamp.dt.strftime('%Y%m%d').map(int) #mapping to Int\n",
    "df_model['competitionopen'] = df_model.competitionopen.map(int)\n",
    "df_model['promosince'] = df_model.promosince.map(int)"
   ]
  },
  {
   "cell_type": "markdown",
   "id": "668a6cd0",
   "metadata": {},
   "source": [
    "### Feature Engineering from \"df_train\" Dataframe"
   ]
  },
  {
   "cell_type": "markdown",
   "id": "56899b87",
   "metadata": {},
   "source": [
    "Feature Engineering with \"holiday\""
   ]
  },
  {
   "cell_type": "code",
   "execution_count": 40,
   "id": "47af3ce8",
   "metadata": {},
   "outputs": [
    {
     "data": {
      "text/plain": [
       "(990,)"
      ]
     },
     "execution_count": 40,
     "metadata": {},
     "output_type": "execute_result"
    }
   ],
   "source": [
    "holidays_next_week=[]\n",
    "holidays_next_week_index=[]\n",
    "for index, value in df_model.groupby(df_model['timestamp']).sum().iterrows():\n",
    "    start_range = index + datetime.timedelta(days=7)\n",
    "    end_range = index + datetime.timedelta(days=15)\n",
    "    school_holidays = sum((df_model.groupby(df_model['timestamp']).sum()[start_range:end_range]).schoolholiday)\n",
    "    state_holidays = sum((df_model.groupby(df_model['timestamp']).sum()[start_range:end_range]).stateholiday)\n",
    "    holidays_next_week.append(school_holidays+state_holidays)\n",
    "    holidays_next_week_index.append(index)\n",
    "    \n",
    "holidays_next_week = pd.Series(holidays_next_week)\n",
    "holidays_next_week.shape"
   ]
  },
  {
   "cell_type": "code",
   "execution_count": 41,
   "id": "f8afac65",
   "metadata": {},
   "outputs": [
    {
     "data": {
      "text/plain": [
       "(990,)"
      ]
     },
     "execution_count": 41,
     "metadata": {},
     "output_type": "execute_result"
    }
   ],
   "source": [
    "holidays_this_week=[]\n",
    "index_list = []\n",
    "for index, value in df_model.groupby(df_model['timestamp']).sum().iterrows():\n",
    "    start_range = index \n",
    "    end_range = index + datetime.timedelta(days=7)\n",
    "    school_holidays = sum((df_model.groupby(df_model['timestamp']).sum()[start_range:end_range]).schoolholiday)\n",
    "    state_holidays = sum((df_model.groupby(df_model['timestamp']).sum()[start_range:end_range]).stateholiday)\n",
    "    holidays_this_week.append(school_holidays+state_holidays)\n",
    "    index_list.append(index)\n",
    "    \n",
    "holidays_this_week = pd.Series(holidays_this_week)\n",
    "holidays_this_week.shape"
   ]
  },
  {
   "cell_type": "code",
   "execution_count": 42,
   "id": "7c11aad3",
   "metadata": {},
   "outputs": [
    {
     "data": {
      "text/plain": [
       "(990,)"
      ]
     },
     "execution_count": 42,
     "metadata": {},
     "output_type": "execute_result"
    }
   ],
   "source": [
    "holidays_last_week=[]\n",
    "holidays_last_week_index=[]\n",
    "for index, value in df_model.groupby(df_model['timestamp']).sum().iterrows():\n",
    "    start_range = index - datetime.timedelta(days=7)\n",
    "    end_range = index + datetime.timedelta(days=1)\n",
    "    school_holidays = sum((df_model.groupby(df_model['timestamp']).sum()[start_range:end_range]).schoolholiday)\n",
    "    state_holidays = sum((df_model.groupby(df_model['timestamp']).sum()[start_range:end_range]).stateholiday)\n",
    "    holidays_last_week.append(school_holidays+state_holidays)\n",
    "    holidays_last_week_index.append(index)\n",
    "    \n",
    "holidays_last_week = pd.Series(holidays_next_week)\n",
    "holidays_last_week.shape"
   ]
  },
  {
   "cell_type": "code",
   "execution_count": 43,
   "id": "2ec9280e",
   "metadata": {},
   "outputs": [],
   "source": [
    "temp_df = pd.DataFrame({'holidaysnextweek':holidays_next_week, 'timestamp': holidays_next_week_index})\n",
    "df_model = pd.merge(df_model, temp_df, on=['timestamp'])"
   ]
  },
  {
   "cell_type": "code",
   "execution_count": 44,
   "id": "00b86aea",
   "metadata": {},
   "outputs": [],
   "source": [
    "temp_df = pd.DataFrame({'holidaysthisweek':holidays_this_week, 'timestamp': index_list})\n",
    "df_model = pd.merge(df_model, temp_df, on=['timestamp'])"
   ]
  },
  {
   "cell_type": "code",
   "execution_count": 45,
   "id": "b8ed1170",
   "metadata": {},
   "outputs": [],
   "source": [
    "temp_df = pd.DataFrame({'holidayslastweek':holidays_last_week, 'timestamp': holidays_last_week_index})\n",
    "df_model_afe = pd.merge(df_model, temp_df, on=['timestamp'])"
   ]
  },
  {
   "cell_type": "code",
   "execution_count": 46,
   "id": "810a0986",
   "metadata": {},
   "outputs": [],
   "source": [
    "holidays_features = ['holidaysnextweek', 'holidaysthisweek', 'holidayslastweek']\n",
    "\n",
    "features_x = list(set(features_x + holidays_features))"
   ]
  },
  {
   "cell_type": "code",
   "execution_count": 47,
   "id": "6737a292",
   "metadata": {},
   "outputs": [
    {
     "name": "stdout",
     "output_type": "stream",
     "text": [
      "(885426, 25)\n"
     ]
    },
    {
     "data": {
      "text/html": [
       "<div>\n",
       "<style scoped>\n",
       "    .dataframe tbody tr th:only-of-type {\n",
       "        vertical-align: middle;\n",
       "    }\n",
       "\n",
       "    .dataframe tbody tr th {\n",
       "        vertical-align: top;\n",
       "    }\n",
       "\n",
       "    .dataframe thead th {\n",
       "        text-align: right;\n",
       "    }\n",
       "</style>\n",
       "<table border=\"1\" class=\"dataframe\">\n",
       "  <thead>\n",
       "    <tr style=\"text-align: right;\">\n",
       "      <th></th>\n",
       "      <th>store</th>\n",
       "      <th>dayofweek</th>\n",
       "      <th>sales</th>\n",
       "      <th>customers</th>\n",
       "      <th>open</th>\n",
       "      <th>promo</th>\n",
       "      <th>stateholiday</th>\n",
       "      <th>schoolholiday</th>\n",
       "      <th>timestamp</th>\n",
       "      <th>year</th>\n",
       "      <th>...</th>\n",
       "      <th>id</th>\n",
       "      <th>storetype</th>\n",
       "      <th>assortment</th>\n",
       "      <th>competitiondistance</th>\n",
       "      <th>competitionopen</th>\n",
       "      <th>promosince</th>\n",
       "      <th>0_prominterval</th>\n",
       "      <th>dateint</th>\n",
       "      <th>holidaysnextweek</th>\n",
       "      <th>holidaysthisweek</th>\n",
       "    </tr>\n",
       "  </thead>\n",
       "  <tbody>\n",
       "    <tr>\n",
       "      <th>0</th>\n",
       "      <td>1</td>\n",
       "      <td>5</td>\n",
       "      <td>5263.0</td>\n",
       "      <td>555.0</td>\n",
       "      <td>1</td>\n",
       "      <td>1</td>\n",
       "      <td>0</td>\n",
       "      <td>1</td>\n",
       "      <td>2015-07-31</td>\n",
       "      <td>2015</td>\n",
       "      <td>...</td>\n",
       "      <td>NaN</td>\n",
       "      <td>2</td>\n",
       "      <td>0</td>\n",
       "      <td>1270.0</td>\n",
       "      <td>20080901</td>\n",
       "      <td>-999</td>\n",
       "      <td>-999.0</td>\n",
       "      <td>20150731</td>\n",
       "      <td>4860</td>\n",
       "      <td>5481</td>\n",
       "    </tr>\n",
       "    <tr>\n",
       "      <th>1</th>\n",
       "      <td>2</td>\n",
       "      <td>5</td>\n",
       "      <td>6064.0</td>\n",
       "      <td>625.0</td>\n",
       "      <td>1</td>\n",
       "      <td>1</td>\n",
       "      <td>0</td>\n",
       "      <td>1</td>\n",
       "      <td>2015-07-31</td>\n",
       "      <td>2015</td>\n",
       "      <td>...</td>\n",
       "      <td>NaN</td>\n",
       "      <td>0</td>\n",
       "      <td>0</td>\n",
       "      <td>570.0</td>\n",
       "      <td>20071101</td>\n",
       "      <td>-999</td>\n",
       "      <td>1.0</td>\n",
       "      <td>20150731</td>\n",
       "      <td>4860</td>\n",
       "      <td>5481</td>\n",
       "    </tr>\n",
       "    <tr>\n",
       "      <th>2</th>\n",
       "      <td>3</td>\n",
       "      <td>5</td>\n",
       "      <td>8314.0</td>\n",
       "      <td>821.0</td>\n",
       "      <td>1</td>\n",
       "      <td>1</td>\n",
       "      <td>0</td>\n",
       "      <td>1</td>\n",
       "      <td>2015-07-31</td>\n",
       "      <td>2015</td>\n",
       "      <td>...</td>\n",
       "      <td>NaN</td>\n",
       "      <td>0</td>\n",
       "      <td>0</td>\n",
       "      <td>14130.0</td>\n",
       "      <td>20061201</td>\n",
       "      <td>-999</td>\n",
       "      <td>1.0</td>\n",
       "      <td>20150731</td>\n",
       "      <td>4860</td>\n",
       "      <td>5481</td>\n",
       "    </tr>\n",
       "    <tr>\n",
       "      <th>3</th>\n",
       "      <td>4</td>\n",
       "      <td>5</td>\n",
       "      <td>13995.0</td>\n",
       "      <td>1498.0</td>\n",
       "      <td>1</td>\n",
       "      <td>1</td>\n",
       "      <td>0</td>\n",
       "      <td>1</td>\n",
       "      <td>2015-07-31</td>\n",
       "      <td>2015</td>\n",
       "      <td>...</td>\n",
       "      <td>NaN</td>\n",
       "      <td>2</td>\n",
       "      <td>2</td>\n",
       "      <td>620.0</td>\n",
       "      <td>20090901</td>\n",
       "      <td>-999</td>\n",
       "      <td>-999.0</td>\n",
       "      <td>20150731</td>\n",
       "      <td>4860</td>\n",
       "      <td>5481</td>\n",
       "    </tr>\n",
       "    <tr>\n",
       "      <th>4</th>\n",
       "      <td>5</td>\n",
       "      <td>5</td>\n",
       "      <td>4822.0</td>\n",
       "      <td>559.0</td>\n",
       "      <td>1</td>\n",
       "      <td>1</td>\n",
       "      <td>0</td>\n",
       "      <td>1</td>\n",
       "      <td>2015-07-31</td>\n",
       "      <td>2015</td>\n",
       "      <td>...</td>\n",
       "      <td>NaN</td>\n",
       "      <td>0</td>\n",
       "      <td>0</td>\n",
       "      <td>29910.0</td>\n",
       "      <td>20150401</td>\n",
       "      <td>-999</td>\n",
       "      <td>-999.0</td>\n",
       "      <td>20150731</td>\n",
       "      <td>4860</td>\n",
       "      <td>5481</td>\n",
       "    </tr>\n",
       "  </tbody>\n",
       "</table>\n",
       "<p>5 rows × 24 columns</p>\n",
       "</div>"
      ],
      "text/plain": [
       "   store  dayofweek    sales  customers  open  promo  stateholiday  \\\n",
       "0      1          5   5263.0      555.0     1      1             0   \n",
       "1      2          5   6064.0      625.0     1      1             0   \n",
       "2      3          5   8314.0      821.0     1      1             0   \n",
       "3      4          5  13995.0     1498.0     1      1             0   \n",
       "4      5          5   4822.0      559.0     1      1             0   \n",
       "\n",
       "   schoolholiday  timestamp  year  ...  id  storetype  assortment  \\\n",
       "0              1 2015-07-31  2015  ... NaN          2           0   \n",
       "1              1 2015-07-31  2015  ... NaN          0           0   \n",
       "2              1 2015-07-31  2015  ... NaN          0           0   \n",
       "3              1 2015-07-31  2015  ... NaN          2           2   \n",
       "4              1 2015-07-31  2015  ... NaN          0           0   \n",
       "\n",
       "   competitiondistance  competitionopen  promosince  0_prominterval   dateint  \\\n",
       "0               1270.0         20080901        -999          -999.0  20150731   \n",
       "1                570.0         20071101        -999             1.0  20150731   \n",
       "2              14130.0         20061201        -999             1.0  20150731   \n",
       "3                620.0         20090901        -999          -999.0  20150731   \n",
       "4              29910.0         20150401        -999          -999.0  20150731   \n",
       "\n",
       "   holidaysnextweek  holidaysthisweek  \n",
       "0              4860              5481  \n",
       "1              4860              5481  \n",
       "2              4860              5481  \n",
       "3              4860              5481  \n",
       "4              4860              5481  \n",
       "\n",
       "[5 rows x 24 columns]"
      ]
     },
     "execution_count": 47,
     "metadata": {},
     "output_type": "execute_result"
    }
   ],
   "source": [
    "print(df_model_afe.shape)\n",
    "df_model.head()"
   ]
  },
  {
   "cell_type": "code",
   "execution_count": 48,
   "id": "6e47a1fc",
   "metadata": {},
   "outputs": [
    {
     "name": "stdout",
     "output_type": "stream",
     "text": [
      "Index(['store', 'dayofweek', 'sales', 'customers', 'open', 'promo',\n",
      "       'stateholiday', 'schoolholiday', 'timestamp', 'year', 'month', 'day',\n",
      "       'dayofyear', 'is_train', 'id', 'storetype', 'assortment',\n",
      "       'competitiondistance', 'competitionopen', 'promosince',\n",
      "       '0_prominterval', 'dateint', 'holidaysnextweek', 'holidaysthisweek',\n",
      "       'holidayslastweek'],\n",
      "      dtype='object')\n",
      "['stateholiday', 'competitionopen', 'holidaysnextweek', 'holidaysthisweek', '0_prominterval', 'timestamp', 'storetype', 'dayofweek', 'assortment', 'open', 'store', 'schoolholiday', 'promo', 'promosince', 'competitiondistance', 'holidayslastweek']\n"
     ]
    }
   ],
   "source": [
    "print(df_model_afe.columns)\n",
    "print(features_x)"
   ]
  },
  {
   "cell_type": "code",
   "execution_count": 49,
   "id": "6b39ee5e",
   "metadata": {},
   "outputs": [],
   "source": [
    "features_x = ['open', 'store', 'storetype', 'holidayslastweek', '0_prominterval', 'stateholiday', 'assortment', 'dateint', 'holidaysthisweek', 'holidaysnextweek', 'promo', 'promosince', 'dayofweek', 'competitionopen', 'schoolholiday', 'competitiondistance']"
   ]
  },
  {
   "cell_type": "code",
   "execution_count": 50,
   "id": "67438981",
   "metadata": {},
   "outputs": [
    {
     "name": "stdout",
     "output_type": "stream",
     "text": [
      "Stored 'df_model_afe' (DataFrame)\n",
      "Stored 'features_x' (list)\n"
     ]
    }
   ],
   "source": [
    "%store df_model_afe features_x"
   ]
  }
 ],
 "metadata": {
  "kernelspec": {
   "display_name": "Python 3",
   "language": "python",
   "name": "python3"
  },
  "language_info": {
   "codemirror_mode": {
    "name": "ipython",
    "version": 3
   },
   "file_extension": ".py",
   "mimetype": "text/x-python",
   "name": "python",
   "nbconvert_exporter": "python",
   "pygments_lexer": "ipython3",
   "version": "3.8.5"
  }
 },
 "nbformat": 4,
 "nbformat_minor": 5
}
