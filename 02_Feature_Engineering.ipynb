{
 "cells": [
  {
   "cell_type": "markdown",
   "id": "ca1774f7",
   "metadata": {},
   "source": [
    "# Feature Engineering"
   ]
  },
  {
   "cell_type": "code",
   "execution_count": 15,
   "id": "87890939",
   "metadata": {},
   "outputs": [],
   "source": [
    "# Load the Dataframe from Nootbook 01\n",
    "\n",
    "%store -r df_model df_store"
   ]
  },
  {
   "cell_type": "code",
   "execution_count": 16,
   "id": "7a364f65",
   "metadata": {},
   "outputs": [],
   "source": [
    "#Data handling\n",
    "\n",
    "import pandas as pd\n",
    "import numpy as np\n",
    "import calendar\n",
    "import datetime"
   ]
  },
  {
   "cell_type": "markdown",
   "id": "b6644e81",
   "metadata": {},
   "source": [
    "### Feature Engineering with \"df_store\" Dataframe"
   ]
  },
  {
   "cell_type": "markdown",
   "id": "a7d29be4",
   "metadata": {},
   "source": [
    "Feature Engineering with \"promointerval\""
   ]
  },
  {
   "cell_type": "code",
   "execution_count": 17,
   "id": "87854de8",
   "metadata": {},
   "outputs": [],
   "source": [
    "# splitting 'Promointerval' string into individual strings and get the month\n",
    "\n",
    "prom_interval = df_store['promointerval'].str.split(',').apply(pd.Series)"
   ]
  },
  {
   "cell_type": "code",
   "execution_count": 18,
   "id": "a58869f1",
   "metadata": {},
   "outputs": [],
   "source": [
    "prom_interval.columns = prom_interval.columns.map(lambda x: str(x) + '_prominterval')\n",
    "df_store = df_store.join(prom_interval)"
   ]
  },
  {
   "cell_type": "code",
   "execution_count": 19,
   "id": "003c4234",
   "metadata": {},
   "outputs": [],
   "source": [
    "def monthToNum(value):\n",
    "    if(value=='Sept'):\n",
    "        value='Sep'\n",
    "    return list(calendar.month_abbr).index(value)\n",
    "\n",
    "#mapping month abbr to month number\n",
    "\n",
    "df_store['0_prominterval'] = df_store['0_prominterval'].map(lambda x: monthToNum(x) if str(x) != 'nan' else np.nan)\n",
    "df_store['1_prominterval'] = df_store['1_prominterval'].map(lambda x: monthToNum(x) if str(x) != 'nan' else np.nan)\n",
    "df_store['2_prominterval'] = df_store['2_prominterval'].map(lambda x: monthToNum(x) if str(x) != 'nan' else np.nan)\n",
    "df_store['3_prominterval'] = df_store['3_prominterval'].map(lambda x: monthToNum(x) if str(x) != 'nan' else np.nan)"
   ]
  },
  {
   "cell_type": "markdown",
   "id": "9cb6b180",
   "metadata": {},
   "source": [
    "Feature Engineering with \"promo\" "
   ]
  },
  {
   "cell_type": "code",
   "execution_count": 20,
   "id": "c7bf75fe",
   "metadata": {},
   "outputs": [
    {
     "data": {
      "text/plain": [
       "(1115,)"
      ]
     },
     "execution_count": 20,
     "metadata": {},
     "output_type": "execute_result"
    }
   ],
   "source": [
    "promo = []\n",
    "for index, value in df_store[['promo2sinceweek', 'promo2sinceyear']].iterrows():\n",
    "    try:\n",
    "        year, week = int(value['promo2sinceyear']), int(value['promo2sinceweek'])\n",
    "        date = pd.to_datetime(\"{}-{}-01\".format(year, week), format='%Y%W')\n",
    "        promo.append(date)\n",
    "    except:\n",
    "        promo.append(np.nan)\n",
    "promo = pd.to_datetime(pd.Series(promo))\n",
    "promo.shape"
   ]
  },
  {
   "cell_type": "code",
   "execution_count": 21,
   "id": "6b9765e9",
   "metadata": {},
   "outputs": [],
   "source": [
    "df_store['promosince'] = promo #converted int to datetime\n",
    "df_store['promosince'] = df_store.promosince.dt.strftime('%Y%m%d')"
   ]
  },
  {
   "cell_type": "markdown",
   "id": "f9ab8d80",
   "metadata": {},
   "source": [
    "Feature Engineering with \"competition\" "
   ]
  },
  {
   "cell_type": "code",
   "execution_count": 22,
   "id": "a5cc149a",
   "metadata": {},
   "outputs": [
    {
     "data": {
      "text/plain": [
       "(1115,)"
      ]
     },
     "execution_count": 22,
     "metadata": {},
     "output_type": "execute_result"
    }
   ],
   "source": [
    "competition_open = []\n",
    "for index, value in df_store[['competitionopensincemonth', 'competitionopensinceyear']].iterrows():\n",
    "    try:\n",
    "        year, month = int(value['competitionopensinceyear']), int(value['competitionopensincemonth'])\n",
    "        date = pd.to_datetime(\"{}-{}-01\".format(year, month), format='%Y-%m')\n",
    "        competition_open.append(date)\n",
    "    except:\n",
    "        competition_open.append(np.nan)\n",
    "competition_open = pd.Series(competition_open)\n",
    "competition_open.shape"
   ]
  },
  {
   "cell_type": "code",
   "execution_count": 23,
   "id": "fae361f6",
   "metadata": {},
   "outputs": [],
   "source": [
    "df_store['competitionopen'] = competition_open #converted int to datetime\n",
    "df_store['competitionopen'] = df_store['competitionopen'].dt.strftime('%Y%m%d')"
   ]
  },
  {
   "cell_type": "markdown",
   "id": "3c7d3dd4",
   "metadata": {},
   "source": [
    "This concludes the Feature Engineering from df_store.\n",
    "The newly created features are put into store_features."
   ]
  },
  {
   "cell_type": "code",
   "execution_count": 24,
   "id": "79a29ddd",
   "metadata": {},
   "outputs": [],
   "source": [
    "store_features = ['store', 'storetype', 'assortment', 'competitiondistance', 'competitionopen', \n",
    "                  'promosince', '0_prominterval']"
   ]
  },
  {
   "cell_type": "code",
   "execution_count": 25,
   "id": "aebb3521",
   "metadata": {},
   "outputs": [],
   "source": [
    "features_x = ['store', 'timestamp', 'dayofweek', 'open', 'promo', 'schoolholiday', 'stateholiday']\n",
    "features_y = ['saleslog']"
   ]
  },
  {
   "cell_type": "code",
   "execution_count": 26,
   "id": "062a5ce6",
   "metadata": {},
   "outputs": [],
   "source": [
    "df_model = pd.merge(df_model, df_store[store_features], how='left', on=['store'])"
   ]
  },
  {
   "cell_type": "code",
   "execution_count": 27,
   "id": "c3ee6564",
   "metadata": {},
   "outputs": [],
   "source": [
    "# put new features into feature-list\n",
    "\n",
    "features_x = list(set(features_x + store_features))\n",
    "\n",
    "for feature in features_x:\n",
    "    df_model[feature] = df_model[feature].fillna(-999) #out of range value for model"
   ]
  },
  {
   "cell_type": "code",
   "execution_count": 28,
   "id": "40b8d4c6",
   "metadata": {},
   "outputs": [],
   "source": [
    "df_model['dateint'] = df_model.timestamp.dt.strftime('%Y%m%d').map(int) #mapping to Int\n",
    "df_model['competitionopen'] = df_model.competitionopen.map(int)\n",
    "df_model['promosince'] = df_model.promosince.map(int)"
   ]
  },
  {
   "cell_type": "markdown",
   "id": "cf5c793e",
   "metadata": {},
   "source": [
    "### Feature Engineering from \"df_train\" Dataframe"
   ]
  },
  {
   "cell_type": "markdown",
   "id": "5b901ff3",
   "metadata": {},
   "source": [
    "### Promo feature engineering\n"
   ]
  },
  {
   "cell_type": "code",
   "execution_count": 29,
   "id": "2bf4726d",
   "metadata": {},
   "outputs": [],
   "source": [
    "df_model['promotomorrow'] = df_model.promo.shift(-1)\n",
    "df_model['promoyesterday'] = df_model.promo.shift(1)"
   ]
  },
  {
   "cell_type": "code",
   "execution_count": 30,
   "id": "81e7be8c",
   "metadata": {},
   "outputs": [],
   "source": [
    "promo_features = ['promotomorrow', 'promoyesterday']\n",
    "\n",
    "features_x = list(set(features_x + promo_features))"
   ]
  },
  {
   "cell_type": "code",
   "execution_count": 31,
   "id": "962a9c92",
   "metadata": {},
   "outputs": [],
   "source": [
    "# Sales and Customer FE\n",
    "\n",
    "store_data_sales = df_model.groupby([df_model['store']])['sales'].sum()\n",
    "store_data_customers = df_model.groupby([df_model['store']])['customers'].sum()\n",
    "store_data_open = df_model.groupby([df_model['store']])['open'].count()\n",
    "\n",
    "store_data_sales_per_day = store_data_sales / store_data_open\n",
    "store_data_customers_per_day = store_data_customers / store_data_open\n",
    "store_data_sales_per_customer_per_day = store_data_sales_per_day / store_data_customers_per_day\n",
    "\n",
    "df_sales_cust = pd.merge(df_store, store_data_sales_per_day.reset_index(name='salesperday'), how='left', on=['store'])\n",
    "df_sales_cust = pd.merge(df_sales_cust, store_data_customers_per_day.reset_index(name='customersperday'), how='left', on=['store'])\n",
    "df_sales_cust = pd.merge(df_sales_cust, store_data_sales_per_customer_per_day.reset_index(name='salespercustomersperday'), how='left', on=['store'])"
   ]
  },
  {
   "cell_type": "code",
   "execution_count": 32,
   "id": "5e1bf6a4",
   "metadata": {},
   "outputs": [],
   "source": [
    "store_features = ['store', 'salesperday', 'customersperday', 'salespercustomersperday']\n",
    "\n",
    "features_x = list(set(features_x + store_features))\n",
    "df_model = pd.merge(df_model, df_sales_cust[store_features], how='left', on=['store'])"
   ]
  },
  {
   "cell_type": "markdown",
   "id": "ea0d0df1",
   "metadata": {},
   "source": [
    "Feature Engineering with \"holiday\""
   ]
  },
  {
   "cell_type": "code",
   "execution_count": 33,
   "id": "4ed0fa96",
   "metadata": {},
   "outputs": [
    {
     "data": {
      "text/plain": [
       "(990,)"
      ]
     },
     "execution_count": 33,
     "metadata": {},
     "output_type": "execute_result"
    }
   ],
   "source": [
    "holidays_next_week=[]\n",
    "holidays_next_week_index=[]\n",
    "for index, value in df_model.groupby(df_model['timestamp']).sum().iterrows():\n",
    "    start_range = index + datetime.timedelta(days=7)\n",
    "    end_range = index + datetime.timedelta(days=15)\n",
    "    school_holidays = sum((df_model.groupby(df_model['timestamp']).sum()[start_range:end_range]).schoolholiday)\n",
    "    state_holidays = sum((df_model.groupby(df_model['timestamp']).sum()[start_range:end_range]).stateholiday)\n",
    "    holidays_next_week.append(school_holidays+state_holidays)\n",
    "    holidays_next_week_index.append(index)\n",
    "    \n",
    "holidays_next_week = pd.Series(holidays_next_week)\n",
    "holidays_next_week.shape"
   ]
  },
  {
   "cell_type": "code",
   "execution_count": 34,
   "id": "25632a2e",
   "metadata": {},
   "outputs": [
    {
     "data": {
      "text/plain": [
       "(990,)"
      ]
     },
     "execution_count": 34,
     "metadata": {},
     "output_type": "execute_result"
    }
   ],
   "source": [
    "holidays_this_week=[]\n",
    "index_list = []\n",
    "for index, value in df_model.groupby(df_model['timestamp']).sum().iterrows():\n",
    "    start_range = index \n",
    "    end_range = index + datetime.timedelta(days=7)\n",
    "    school_holidays = sum((df_model.groupby(df_model['timestamp']).sum()[start_range:end_range]).schoolholiday)\n",
    "    state_holidays = sum((df_model.groupby(df_model['timestamp']).sum()[start_range:end_range]).stateholiday)\n",
    "    holidays_this_week.append(school_holidays+state_holidays)\n",
    "    index_list.append(index)\n",
    "    \n",
    "holidays_this_week = pd.Series(holidays_this_week)\n",
    "holidays_this_week.shape"
   ]
  },
  {
   "cell_type": "code",
   "execution_count": 35,
   "id": "e196be9d",
   "metadata": {},
   "outputs": [
    {
     "data": {
      "text/plain": [
       "(990,)"
      ]
     },
     "execution_count": 35,
     "metadata": {},
     "output_type": "execute_result"
    }
   ],
   "source": [
    "holidays_last_week=[]\n",
    "holidays_last_week_index=[]\n",
    "for index, value in df_model.groupby(df_model['timestamp']).sum().iterrows():\n",
    "    start_range = index - datetime.timedelta(days=7)\n",
    "    end_range = index + datetime.timedelta(days=1)\n",
    "    school_holidays = sum((df_model.groupby(df_model['timestamp']).sum()[start_range:end_range]).schoolholiday)\n",
    "    state_holidays = sum((df_model.groupby(df_model['timestamp']).sum()[start_range:end_range]).stateholiday)\n",
    "    holidays_last_week.append(school_holidays+state_holidays)\n",
    "    holidays_last_week_index.append(index)\n",
    "    \n",
    "holidays_last_week = pd.Series(holidays_next_week)\n",
    "holidays_last_week.shape"
   ]
  },
  {
   "cell_type": "code",
   "execution_count": 36,
   "id": "d000f2dc",
   "metadata": {},
   "outputs": [],
   "source": [
    "temp_df = pd.DataFrame({'holidaysnextweek':holidays_next_week, 'timestamp': holidays_next_week_index})\n",
    "df_model = pd.merge(df_model, temp_df, on=['timestamp'])"
   ]
  },
  {
   "cell_type": "code",
   "execution_count": 37,
   "id": "5cff07b6",
   "metadata": {},
   "outputs": [],
   "source": [
    "temp_df = pd.DataFrame({'holidaysthisweek':holidays_this_week, 'timestamp': index_list})\n",
    "df_model = pd.merge(df_model, temp_df, on=['timestamp'])"
   ]
  },
  {
   "cell_type": "code",
   "execution_count": 38,
   "id": "3e2f0959",
   "metadata": {},
   "outputs": [],
   "source": [
    "temp_df = pd.DataFrame({'holidayslastweek':holidays_last_week, 'timestamp': holidays_last_week_index})\n",
    "df_model = pd.merge(df_model, temp_df, on=['timestamp'])"
   ]
  },
  {
   "cell_type": "code",
   "execution_count": 39,
   "id": "43d233eb",
   "metadata": {},
   "outputs": [],
   "source": [
    "holidays_features = ['holidaysnextweek', 'holidaysthisweek', 'holidayslastweek']\n",
    "\n",
    "features_x = list(set(features_x + holidays_features))"
   ]
  },
  {
   "cell_type": "code",
   "execution_count": 40,
   "id": "5382ada7",
   "metadata": {},
   "outputs": [
    {
     "name": "stdout",
     "output_type": "stream",
     "text": [
      "(885426, 30)\n"
     ]
    },
    {
     "data": {
      "text/html": [
       "<div>\n",
       "<style scoped>\n",
       "    .dataframe tbody tr th:only-of-type {\n",
       "        vertical-align: middle;\n",
       "    }\n",
       "\n",
       "    .dataframe tbody tr th {\n",
       "        vertical-align: top;\n",
       "    }\n",
       "\n",
       "    .dataframe thead th {\n",
       "        text-align: right;\n",
       "    }\n",
       "</style>\n",
       "<table border=\"1\" class=\"dataframe\">\n",
       "  <thead>\n",
       "    <tr style=\"text-align: right;\">\n",
       "      <th></th>\n",
       "      <th>store</th>\n",
       "      <th>dayofweek</th>\n",
       "      <th>sales</th>\n",
       "      <th>customers</th>\n",
       "      <th>open</th>\n",
       "      <th>promo</th>\n",
       "      <th>stateholiday</th>\n",
       "      <th>schoolholiday</th>\n",
       "      <th>timestamp</th>\n",
       "      <th>year</th>\n",
       "      <th>...</th>\n",
       "      <th>0_prominterval</th>\n",
       "      <th>dateint</th>\n",
       "      <th>promotomorrow</th>\n",
       "      <th>promoyesterday</th>\n",
       "      <th>salesperday</th>\n",
       "      <th>customersperday</th>\n",
       "      <th>salespercustomersperday</th>\n",
       "      <th>holidaysnextweek</th>\n",
       "      <th>holidaysthisweek</th>\n",
       "      <th>holidayslastweek</th>\n",
       "    </tr>\n",
       "  </thead>\n",
       "  <tbody>\n",
       "    <tr>\n",
       "      <th>0</th>\n",
       "      <td>1</td>\n",
       "      <td>5</td>\n",
       "      <td>5263.0</td>\n",
       "      <td>555.0</td>\n",
       "      <td>1</td>\n",
       "      <td>1</td>\n",
       "      <td>0</td>\n",
       "      <td>1</td>\n",
       "      <td>2015-07-31</td>\n",
       "      <td>2015</td>\n",
       "      <td>...</td>\n",
       "      <td>-999.0</td>\n",
       "      <td>20150731</td>\n",
       "      <td>1.0</td>\n",
       "      <td>NaN</td>\n",
       "      <td>4483.539204</td>\n",
       "      <td>531.390832</td>\n",
       "      <td>8.437366</td>\n",
       "      <td>4860</td>\n",
       "      <td>5481</td>\n",
       "      <td>4860</td>\n",
       "    </tr>\n",
       "    <tr>\n",
       "      <th>1</th>\n",
       "      <td>2</td>\n",
       "      <td>5</td>\n",
       "      <td>6064.0</td>\n",
       "      <td>625.0</td>\n",
       "      <td>1</td>\n",
       "      <td>1</td>\n",
       "      <td>0</td>\n",
       "      <td>1</td>\n",
       "      <td>2015-07-31</td>\n",
       "      <td>2015</td>\n",
       "      <td>...</td>\n",
       "      <td>1.0</td>\n",
       "      <td>20150731</td>\n",
       "      <td>1.0</td>\n",
       "      <td>1.0</td>\n",
       "      <td>4953.900510</td>\n",
       "      <td>583.998724</td>\n",
       "      <td>8.482725</td>\n",
       "      <td>4860</td>\n",
       "      <td>5481</td>\n",
       "      <td>4860</td>\n",
       "    </tr>\n",
       "    <tr>\n",
       "      <th>2</th>\n",
       "      <td>3</td>\n",
       "      <td>5</td>\n",
       "      <td>8314.0</td>\n",
       "      <td>821.0</td>\n",
       "      <td>1</td>\n",
       "      <td>1</td>\n",
       "      <td>0</td>\n",
       "      <td>1</td>\n",
       "      <td>2015-07-31</td>\n",
       "      <td>2015</td>\n",
       "      <td>...</td>\n",
       "      <td>1.0</td>\n",
       "      <td>20150731</td>\n",
       "      <td>1.0</td>\n",
       "      <td>1.0</td>\n",
       "      <td>6539.614268</td>\n",
       "      <td>706.541717</td>\n",
       "      <td>9.255808</td>\n",
       "      <td>4860</td>\n",
       "      <td>5481</td>\n",
       "      <td>4860</td>\n",
       "    </tr>\n",
       "    <tr>\n",
       "      <th>3</th>\n",
       "      <td>4</td>\n",
       "      <td>5</td>\n",
       "      <td>13995.0</td>\n",
       "      <td>1498.0</td>\n",
       "      <td>1</td>\n",
       "      <td>1</td>\n",
       "      <td>0</td>\n",
       "      <td>1</td>\n",
       "      <td>2015-07-31</td>\n",
       "      <td>2015</td>\n",
       "      <td>...</td>\n",
       "      <td>-999.0</td>\n",
       "      <td>20150731</td>\n",
       "      <td>1.0</td>\n",
       "      <td>1.0</td>\n",
       "      <td>9638.401786</td>\n",
       "      <td>1321.752551</td>\n",
       "      <td>7.292138</td>\n",
       "      <td>4860</td>\n",
       "      <td>5481</td>\n",
       "      <td>4860</td>\n",
       "    </tr>\n",
       "    <tr>\n",
       "      <th>4</th>\n",
       "      <td>5</td>\n",
       "      <td>5</td>\n",
       "      <td>4822.0</td>\n",
       "      <td>559.0</td>\n",
       "      <td>1</td>\n",
       "      <td>1</td>\n",
       "      <td>0</td>\n",
       "      <td>1</td>\n",
       "      <td>2015-07-31</td>\n",
       "      <td>2015</td>\n",
       "      <td>...</td>\n",
       "      <td>-999.0</td>\n",
       "      <td>20150731</td>\n",
       "      <td>1.0</td>\n",
       "      <td>1.0</td>\n",
       "      <td>4676.274711</td>\n",
       "      <td>537.340180</td>\n",
       "      <td>8.702634</td>\n",
       "      <td>4860</td>\n",
       "      <td>5481</td>\n",
       "      <td>4860</td>\n",
       "    </tr>\n",
       "  </tbody>\n",
       "</table>\n",
       "<p>5 rows × 30 columns</p>\n",
       "</div>"
      ],
      "text/plain": [
       "   store  dayofweek    sales  customers  open  promo  stateholiday  \\\n",
       "0      1          5   5263.0      555.0     1      1             0   \n",
       "1      2          5   6064.0      625.0     1      1             0   \n",
       "2      3          5   8314.0      821.0     1      1             0   \n",
       "3      4          5  13995.0     1498.0     1      1             0   \n",
       "4      5          5   4822.0      559.0     1      1             0   \n",
       "\n",
       "   schoolholiday  timestamp  year  ...  0_prominterval   dateint  \\\n",
       "0              1 2015-07-31  2015  ...          -999.0  20150731   \n",
       "1              1 2015-07-31  2015  ...             1.0  20150731   \n",
       "2              1 2015-07-31  2015  ...             1.0  20150731   \n",
       "3              1 2015-07-31  2015  ...          -999.0  20150731   \n",
       "4              1 2015-07-31  2015  ...          -999.0  20150731   \n",
       "\n",
       "   promotomorrow  promoyesterday  salesperday  customersperday  \\\n",
       "0            1.0             NaN  4483.539204       531.390832   \n",
       "1            1.0             1.0  4953.900510       583.998724   \n",
       "2            1.0             1.0  6539.614268       706.541717   \n",
       "3            1.0             1.0  9638.401786      1321.752551   \n",
       "4            1.0             1.0  4676.274711       537.340180   \n",
       "\n",
       "   salespercustomersperday  holidaysnextweek  holidaysthisweek  \\\n",
       "0                 8.437366              4860              5481   \n",
       "1                 8.482725              4860              5481   \n",
       "2                 9.255808              4860              5481   \n",
       "3                 7.292138              4860              5481   \n",
       "4                 8.702634              4860              5481   \n",
       "\n",
       "   holidayslastweek  \n",
       "0              4860  \n",
       "1              4860  \n",
       "2              4860  \n",
       "3              4860  \n",
       "4              4860  \n",
       "\n",
       "[5 rows x 30 columns]"
      ]
     },
     "execution_count": 40,
     "metadata": {},
     "output_type": "execute_result"
    }
   ],
   "source": [
    "print(df_model.shape)\n",
    "df_model.head()"
   ]
  },
  {
   "cell_type": "code",
   "execution_count": 41,
   "id": "2b289208",
   "metadata": {},
   "outputs": [
    {
     "name": "stdout",
     "output_type": "stream",
     "text": [
      "Index(['store', 'dayofweek', 'sales', 'customers', 'open', 'promo',\n",
      "       'stateholiday', 'schoolholiday', 'timestamp', 'year', 'month', 'day',\n",
      "       'dayofyear', 'is_train', 'id', 'storetype', 'assortment',\n",
      "       'competitiondistance', 'competitionopen', 'promosince',\n",
      "       '0_prominterval', 'dateint', 'promotomorrow', 'promoyesterday',\n",
      "       'salesperday', 'customersperday', 'salespercustomersperday',\n",
      "       'holidaysnextweek', 'holidaysthisweek', 'holidayslastweek'],\n",
      "      dtype='object')\n",
      "['promosince', 'promotomorrow', 'store', 'holidayslastweek', 'storetype', 'dayofweek', 'timestamp', 'promo', 'schoolholiday', 'customersperday', 'salespercustomersperday', 'assortment', 'promoyesterday', 'salesperday', '0_prominterval', 'open', 'competitiondistance', 'stateholiday', 'competitionopen', 'holidaysthisweek', 'holidaysnextweek']\n"
     ]
    }
   ],
   "source": [
    "print(df_model.columns)\n",
    "print(features_x)"
   ]
  },
  {
   "cell_type": "code",
   "execution_count": 42,
   "id": "1cdcc818",
   "metadata": {},
   "outputs": [],
   "source": [
    "features_x = ['open', 'store', 'storetype', 'holidayslastweek', '0_prominterval', 'stateholiday', 'assortment', 'dateint', 'holidaysthisweek', 'holidaysnextweek', 'promo', 'promosince', 'dayofweek', 'competitionopen', 'schoolholiday', 'competitiondistance']"
   ]
  },
  {
   "cell_type": "code",
   "execution_count": 43,
   "id": "0973ccab",
   "metadata": {},
   "outputs": [
    {
     "name": "stdout",
     "output_type": "stream",
     "text": [
      "Stored 'features_x' (list)\n",
      "Stored 'features_y' (list)\n",
      "Stored 'df_model' (DataFrame)\n"
     ]
    }
   ],
   "source": [
    "%store  features_x features_y df_model"
   ]
  },
  {
   "cell_type": "code",
   "execution_count": 44,
   "id": "7fc9e5cd",
   "metadata": {},
   "outputs": [
    {
     "data": {
      "text/plain": [
       "['open',\n",
       " 'store',\n",
       " 'storetype',\n",
       " 'holidayslastweek',\n",
       " '0_prominterval',\n",
       " 'stateholiday',\n",
       " 'assortment',\n",
       " 'dateint',\n",
       " 'holidaysthisweek',\n",
       " 'holidaysnextweek',\n",
       " 'promo',\n",
       " 'promosince',\n",
       " 'dayofweek',\n",
       " 'competitionopen',\n",
       " 'schoolholiday',\n",
       " 'competitiondistance']"
      ]
     },
     "execution_count": 44,
     "metadata": {},
     "output_type": "execute_result"
    }
   ],
   "source": [
    "features_x"
   ]
  },
  {
   "cell_type": "code",
   "execution_count": 45,
   "id": "d8dc71b2",
   "metadata": {},
   "outputs": [
    {
     "data": {
      "text/plain": [
       "Index(['store', 'dayofweek', 'sales', 'customers', 'open', 'promo',\n",
       "       'stateholiday', 'schoolholiday', 'timestamp', 'year', 'month', 'day',\n",
       "       'dayofyear', 'is_train', 'id', 'storetype', 'assortment',\n",
       "       'competitiondistance', 'competitionopen', 'promosince',\n",
       "       '0_prominterval', 'dateint', 'promotomorrow', 'promoyesterday',\n",
       "       'salesperday', 'customersperday', 'salespercustomersperday',\n",
       "       'holidaysnextweek', 'holidaysthisweek', 'holidayslastweek'],\n",
       "      dtype='object')"
      ]
     },
     "execution_count": 45,
     "metadata": {},
     "output_type": "execute_result"
    }
   ],
   "source": [
    "df_model.columns\n"
   ]
  },
  {
   "cell_type": "code",
   "execution_count": null,
   "id": "ade23075",
   "metadata": {},
   "outputs": [],
   "source": []
  }
 ],
 "metadata": {
  "kernelspec": {
   "display_name": "Python 3",
   "language": "python",
   "name": "python3"
  },
  "language_info": {
   "codemirror_mode": {
    "name": "ipython",
    "version": 3
   },
   "file_extension": ".py",
   "mimetype": "text/x-python",
   "name": "python",
   "nbconvert_exporter": "python",
   "pygments_lexer": "ipython3",
   "version": "3.8.5"
  }
 },
 "nbformat": 4,
 "nbformat_minor": 5
}
