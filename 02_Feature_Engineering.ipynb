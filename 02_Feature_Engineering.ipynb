{
 "cells": [
  {
   "cell_type": "markdown",
   "id": "317ba974",
   "metadata": {},
   "source": [
    "# Feature Engineering"
   ]
  },
  {
   "cell_type": "code",
   "execution_count": 1,
   "id": "537b29e3",
   "metadata": {},
   "outputs": [],
   "source": [
    "# Load the Dataframe from Notebook 01\n",
    "\n",
    "%store -r df df_store"
   ]
  },
  {
   "cell_type": "code",
   "execution_count": 2,
   "id": "1fa8d9d2",
   "metadata": {},
   "outputs": [],
   "source": [
    "#Data handling\n",
    "\n",
    "import pandas as pd\n",
    "import numpy as np\n",
    "import calendar\n",
    "import datetime\n",
    "from sklearn.preprocessing import LabelEncoder"
   ]
  },
  {
   "cell_type": "code",
   "execution_count": 3,
   "id": "afc03566",
   "metadata": {},
   "outputs": [],
   "source": [
    "df_model = df.copy()"
   ]
  },
  {
   "cell_type": "markdown",
   "id": "02ac9b3a",
   "metadata": {},
   "source": [
    "### Handling Categorical Data"
   ]
  },
  {
   "cell_type": "code",
   "execution_count": 4,
   "id": "ed65622f",
   "metadata": {},
   "outputs": [],
   "source": [
    "# Encoding categorical features\n",
    "\n",
    "df_model['stateholiday_cat'] = LabelEncoder().fit_transform(df_model['stateholiday']) \n",
    "df_store['storetype_cat'] = LabelEncoder().fit_transform(df_store['storetype'])\n",
    "df_store['assortment_cat'] = LabelEncoder().fit_transform(df_store['assortment'])"
   ]
  },
  {
   "cell_type": "code",
   "execution_count": 5,
   "id": "667ffe53",
   "metadata": {},
   "outputs": [],
   "source": [
    "df_store.drop(['storetype', 'assortment'], axis = 1, inplace=True)\n",
    "df_store = df_store.rename(columns={'storetype_cat': 'storetype', 'assortment_cat':'assortment'})"
   ]
  },
  {
   "cell_type": "code",
   "execution_count": 6,
   "id": "558b1a69",
   "metadata": {},
   "outputs": [],
   "source": [
    "df_model.drop(['stateholiday'], axis = 1, inplace=True)\n",
    "df_model = df_model.rename(columns={'stateholiday_cat': 'stateholiday'})"
   ]
  },
  {
   "cell_type": "markdown",
   "id": "c58bb615",
   "metadata": {},
   "source": [
    "#### Feature engineering with \"df_store\" dataframe features"
   ]
  },
  {
   "cell_type": "markdown",
   "id": "5da8eb4a",
   "metadata": {},
   "source": [
    " Splitting 'Promointerval' string into individual strings and get each month value.\n"
   ]
  },
  {
   "cell_type": "code",
   "execution_count": 7,
   "id": "b9403ccb",
   "metadata": {},
   "outputs": [],
   "source": [
    "prom_interval = df_store['promointerval'].str.split(',').apply(pd.Series)"
   ]
  },
  {
   "cell_type": "code",
   "execution_count": 8,
   "id": "29bf2f35",
   "metadata": {},
   "outputs": [],
   "source": [
    "prom_interval.columns = prom_interval.columns.map(lambda x: str(x) + '_prominterval')\n",
    "df_store = df_store.join(prom_interval)"
   ]
  },
  {
   "cell_type": "code",
   "execution_count": 9,
   "id": "13c66f9f",
   "metadata": {},
   "outputs": [],
   "source": [
    "def monthToNum(value):\n",
    "    if(value=='Sept'):\n",
    "        value='Sep'\n",
    "    return list(calendar.month_abbr).index(value)\n",
    "\n",
    "# Mapping month abbrevation to month number\n",
    "\n",
    "df_store['0_prominterval'] = df_store['0_prominterval'].map(lambda x: monthToNum(x) if str(x) != 'nan' else np.nan)\n",
    "df_store['1_prominterval'] = df_store['1_prominterval'].map(lambda x: monthToNum(x) if str(x) != 'nan' else np.nan)\n",
    "df_store['2_prominterval'] = df_store['2_prominterval'].map(lambda x: monthToNum(x) if str(x) != 'nan' else np.nan)\n",
    "df_store['3_prominterval'] = df_store['3_prominterval'].map(lambda x: monthToNum(x) if str(x) != 'nan' else np.nan)"
   ]
  },
  {
   "cell_type": "markdown",
   "id": "a995187a",
   "metadata": {},
   "source": [
    "Combine the beginning of the Promo2 week and year values into a single date."
   ]
  },
  {
   "cell_type": "code",
   "execution_count": 10,
   "id": "2d990a55",
   "metadata": {},
   "outputs": [
    {
     "data": {
      "text/plain": [
       "(1115,)"
      ]
     },
     "execution_count": 10,
     "metadata": {},
     "output_type": "execute_result"
    }
   ],
   "source": [
    "promo = []\n",
    "for index, value in df_store[['promo2sinceweek', 'promo2sinceyear']].iterrows():\n",
    "    try:\n",
    "        year, week = int(value['promo2sinceyear']), int(value['promo2sinceweek'])\n",
    "        date = pd.to_datetime(\"{}-{}-01\".format(year, week), format='%Y%W')\n",
    "        promo.append(date)\n",
    "    except:\n",
    "        promo.append(np.nan)\n",
    "promo = pd.to_datetime(pd.Series(promo))\n",
    "promo.shape"
   ]
  },
  {
   "cell_type": "code",
   "execution_count": 11,
   "id": "0c081259",
   "metadata": {},
   "outputs": [],
   "source": [
    "df_store['promosince'] = promo # Convert integer to datetime\n",
    "df_store['promosince'] = df_store.promosince.dt.strftime('%Y%m%d')"
   ]
  },
  {
   "cell_type": "markdown",
   "id": "d2beaa38",
   "metadata": {},
   "source": [
    "Combine the competition-open week and year values into a single date."
   ]
  },
  {
   "cell_type": "code",
   "execution_count": 12,
   "id": "ce59a42a",
   "metadata": {},
   "outputs": [
    {
     "data": {
      "text/plain": [
       "(1115,)"
      ]
     },
     "execution_count": 12,
     "metadata": {},
     "output_type": "execute_result"
    }
   ],
   "source": [
    "competition_open = []\n",
    "for index, value in df_store[['competitionopensincemonth', 'competitionopensinceyear']].iterrows():\n",
    "    try:\n",
    "        year, month = int(value['competitionopensinceyear']), int(value['competitionopensincemonth'])\n",
    "        date = pd.to_datetime(\"{}-{}-01\".format(year, month), format='%Y-%m')\n",
    "        competition_open.append(date)\n",
    "    except:\n",
    "        competition_open.append(np.nan)\n",
    "competition_open = pd.Series(competition_open)\n",
    "competition_open.shape"
   ]
  },
  {
   "cell_type": "code",
   "execution_count": 13,
   "id": "584d5998",
   "metadata": {},
   "outputs": [],
   "source": [
    "df_store['competitionopen'] = competition_open # Convert integer to datetime\n",
    "df_store['competitionopen'] = df_store['competitionopen'].dt.strftime('%Y%m%d')"
   ]
  },
  {
   "cell_type": "markdown",
   "id": "8790bf49",
   "metadata": {},
   "source": [
    "This concludes the feature engineering for 'df_store'.\n",
    "\n",
    "The newly created features are put into 'store_features' and merged with 'df_model'."
   ]
  },
  {
   "cell_type": "code",
   "execution_count": 14,
   "id": "6a9a3852",
   "metadata": {},
   "outputs": [],
   "source": [
    "store_features = ['store', 'storetype', 'assortment', 'competitiondistance', 'competitionopen', \n",
    "                  'promosince', '0_prominterval']"
   ]
  },
  {
   "cell_type": "code",
   "execution_count": 15,
   "id": "f6c93f09",
   "metadata": {},
   "outputs": [],
   "source": [
    "features_x = ['store', 'timestamp', 'dayofweek', 'open', 'promo', 'schoolholiday', 'stateholiday']\n",
    "\n",
    "# Seperate target-feature from dataframe\n",
    "features_y = ['saleslog']"
   ]
  },
  {
   "cell_type": "code",
   "execution_count": 16,
   "id": "79cafca7",
   "metadata": {},
   "outputs": [
    {
     "name": "stdout",
     "output_type": "stream",
     "text": [
      "<class 'pandas.core.frame.DataFrame'>\n",
      "Int64Index: 885426 entries, 0 to 885425\n",
      "Data columns (total 21 columns):\n",
      " #   Column               Non-Null Count   Dtype         \n",
      "---  ------               --------------   -----         \n",
      " 0   store                885426 non-null  int64         \n",
      " 1   dayofweek            885426 non-null  int64         \n",
      " 2   sales                844338 non-null  float64       \n",
      " 3   customers            844338 non-null  float64       \n",
      " 4   open                 885426 non-null  int64         \n",
      " 5   promo                885426 non-null  int64         \n",
      " 6   schoolholiday        885426 non-null  int64         \n",
      " 7   timestamp            885426 non-null  datetime64[ns]\n",
      " 8   year                 885426 non-null  int64         \n",
      " 9   month                885426 non-null  int64         \n",
      " 10  day                  885426 non-null  int64         \n",
      " 11  dayofyear            885426 non-null  int64         \n",
      " 12  is_train             885426 non-null  int64         \n",
      " 13  id                   41088 non-null   float64       \n",
      " 14  stateholiday         885426 non-null  int64         \n",
      " 15  storetype            885426 non-null  int64         \n",
      " 16  assortment           885426 non-null  int64         \n",
      " 17  competitiondistance  885426 non-null  float64       \n",
      " 18  competitionopen      601610 non-null  object        \n",
      " 19  promosince           0 non-null       float64       \n",
      " 20  0_prominterval       444902 non-null  float64       \n",
      "dtypes: datetime64[ns](1), float64(6), int64(13), object(1)\n",
      "memory usage: 148.6+ MB\n"
     ]
    }
   ],
   "source": [
    "df_model = pd.merge(df_model, df_store[store_features], how='left', on=['store'])\n",
    "df_model.info()"
   ]
  },
  {
   "cell_type": "code",
   "execution_count": 18,
   "id": "bd419655",
   "metadata": {},
   "outputs": [],
   "source": [
    "# Put new features into feature-list\n",
    "\n",
    "features_x = list(set(features_x + store_features))\n",
    "\n",
    "for feature in features_x:\n",
    "    df_model[feature] = df_model[feature].fillna(-999) # Out of range value for model"
   ]
  },
  {
   "cell_type": "code",
   "execution_count": 19,
   "id": "472411da",
   "metadata": {},
   "outputs": [],
   "source": [
    "# Mapping datetime into integer datatype\n",
    "df_model['dateint'] = df_model.timestamp.dt.strftime('%Y%m%d').map(int)\n",
    "df_model['competitionopen'] = df_model.competitionopen.map(int)\n",
    "df_model['promosince'] = df_model.promosince.map(int)"
   ]
  },
  {
   "cell_type": "code",
   "execution_count": 20,
   "id": "d28239d1",
   "metadata": {},
   "outputs": [],
   "source": [
    "features_x.remove('timestamp')\n",
    "features_x.append('dateint')"
   ]
  },
  {
   "cell_type": "markdown",
   "id": "8d888ba4",
   "metadata": {},
   "source": [
    "#### Feature engineering with \"df_train\" dataframe feature"
   ]
  },
  {
   "cell_type": "markdown",
   "id": "5b762430",
   "metadata": {},
   "source": [
    "Create new columns for whether or not a promo was run the day before or after."
   ]
  },
  {
   "cell_type": "code",
   "execution_count": 21,
   "id": "efe0ee74",
   "metadata": {},
   "outputs": [],
   "source": [
    "df_model['promotomorrow'] = df_model.promo.shift(-1)\n",
    "df_model['promoyesterday'] = df_model.promo.shift(1)"
   ]
  },
  {
   "cell_type": "code",
   "execution_count": 22,
   "id": "0b45bb3c",
   "metadata": {},
   "outputs": [],
   "source": [
    "promo_features = ['promotomorrow', 'promoyesterday']\n",
    "\n",
    "features_x = list(set(features_x + promo_features))"
   ]
  },
  {
   "cell_type": "markdown",
   "id": "43f68e0b",
   "metadata": {},
   "source": [
    "Another feature to be looked at is the difference in sales and customer number between each store. This information could have an effect on the predicted sales number.\n",
    "\n",
    "Therefore sales per day, customers per day and the number of sales per customers per day are calculated."
   ]
  },
  {
   "cell_type": "code",
   "execution_count": 23,
   "id": "3c02dfb7",
   "metadata": {},
   "outputs": [],
   "source": [
    "store_data_sales = df_model.groupby([df_model['store']])['sales'].sum()\n",
    "store_data_customers = df_model.groupby([df_model['store']])['customers'].sum()\n",
    "store_data_open = df_model.groupby([df_model['store']])['open'].count()\n",
    "\n",
    "store_data_sales_per_day = store_data_sales / store_data_open\n",
    "store_data_customers_per_day = store_data_customers / store_data_open\n",
    "store_data_sales_per_customer_per_day = store_data_sales_per_day / store_data_customers_per_day\n",
    "\n",
    "df_sales_cust = pd.merge(df_store, store_data_sales_per_day.reset_index(name='salesperday'), how='left', on=['store'])\n",
    "df_sales_cust = pd.merge(df_sales_cust, store_data_customers_per_day.reset_index(name='customersperday'), how='left', on=['store'])\n",
    "df_sales_cust = pd.merge(df_sales_cust, store_data_sales_per_customer_per_day.reset_index(name='salespercustomersperday'), how='left', on=['store'])"
   ]
  },
  {
   "cell_type": "code",
   "execution_count": 24,
   "id": "58e326f8",
   "metadata": {},
   "outputs": [],
   "source": [
    "store_features = ['store', 'salesperday', 'customersperday', 'salespercustomersperday']\n",
    "\n",
    "features_x = list(set(features_x + store_features))\n",
    "df_model = pd.merge(df_model, df_sales_cust[store_features], how='left', on=['store'])"
   ]
  },
  {
   "cell_type": "markdown",
   "id": "51131a10",
   "metadata": {},
   "source": [
    "Customers could have different shopping needs depending on the holiday situation. Shopping for drug-store items prior or after a holiday might result in different customer behaviour and therefore different sales number.\n",
    "\n",
    "An indicator for whether the next, current or previous week is marked as a holiday, is created."
   ]
  },
  {
   "cell_type": "code",
   "execution_count": 25,
   "id": "2e621155",
   "metadata": {},
   "outputs": [
    {
     "data": {
      "text/plain": [
       "(990,)"
      ]
     },
     "execution_count": 25,
     "metadata": {},
     "output_type": "execute_result"
    }
   ],
   "source": [
    "holidays_next_week=[]\n",
    "holidays_next_week_index=[]\n",
    "for index, value in df_model.groupby(df_model['timestamp']).sum().iterrows():\n",
    "    start_range = index + datetime.timedelta(days=7)\n",
    "    end_range = index + datetime.timedelta(days=15)\n",
    "    school_holidays = sum((df_model.groupby(df_model['timestamp']).sum()[start_range:end_range]).schoolholiday)\n",
    "    state_holidays = sum((df_model.groupby(df_model['timestamp']).sum()[start_range:end_range]).stateholiday)\n",
    "    holidays_next_week.append(school_holidays+state_holidays)\n",
    "    holidays_next_week_index.append(index)\n",
    "    \n",
    "holidays_next_week = pd.Series(holidays_next_week)\n",
    "holidays_next_week.shape"
   ]
  },
  {
   "cell_type": "code",
   "execution_count": 26,
   "id": "a8e00e9d",
   "metadata": {},
   "outputs": [
    {
     "data": {
      "text/plain": [
       "(990,)"
      ]
     },
     "execution_count": 26,
     "metadata": {},
     "output_type": "execute_result"
    }
   ],
   "source": [
    "holidays_this_week=[]\n",
    "index_list = []\n",
    "for index, value in df_model.groupby(df_model['timestamp']).sum().iterrows():\n",
    "    start_range = index \n",
    "    end_range = index + datetime.timedelta(days=7)\n",
    "    school_holidays = sum((df_model.groupby(df_model['timestamp']).sum()[start_range:end_range]).schoolholiday)\n",
    "    state_holidays = sum((df_model.groupby(df_model['timestamp']).sum()[start_range:end_range]).stateholiday)\n",
    "    holidays_this_week.append(school_holidays+state_holidays)\n",
    "    index_list.append(index)\n",
    "    \n",
    "holidays_this_week = pd.Series(holidays_this_week)\n",
    "holidays_this_week.shape"
   ]
  },
  {
   "cell_type": "code",
   "execution_count": 27,
   "id": "611333ca",
   "metadata": {},
   "outputs": [
    {
     "data": {
      "text/plain": [
       "(990,)"
      ]
     },
     "execution_count": 27,
     "metadata": {},
     "output_type": "execute_result"
    }
   ],
   "source": [
    "holidays_last_week=[]\n",
    "holidays_last_week_index=[]\n",
    "for index, value in df_model.groupby(df_model['timestamp']).sum().iterrows():\n",
    "    start_range = index - datetime.timedelta(days=7)\n",
    "    end_range = index + datetime.timedelta(days=1)\n",
    "    school_holidays = sum((df_model.groupby(df_model['timestamp']).sum()[start_range:end_range]).schoolholiday)\n",
    "    state_holidays = sum((df_model.groupby(df_model['timestamp']).sum()[start_range:end_range]).stateholiday)\n",
    "    holidays_last_week.append(school_holidays+state_holidays)\n",
    "    holidays_last_week_index.append(index)\n",
    "    \n",
    "holidays_last_week = pd.Series(holidays_next_week)\n",
    "holidays_last_week.shape"
   ]
  },
  {
   "cell_type": "code",
   "execution_count": 28,
   "id": "da43a6c5",
   "metadata": {},
   "outputs": [],
   "source": [
    "# Temporary dataframe as helper to merge\n",
    "\n",
    "temp_df = pd.DataFrame({'holidaysnextweek':holidays_next_week, 'timestamp': holidays_next_week_index})\n",
    "df_model = pd.merge(df_model, temp_df, on=['timestamp'])"
   ]
  },
  {
   "cell_type": "code",
   "execution_count": 29,
   "id": "2efa80b7",
   "metadata": {},
   "outputs": [],
   "source": [
    "temp_df = pd.DataFrame({'holidaysthisweek':holidays_this_week, 'timestamp': index_list})\n",
    "df_model = pd.merge(df_model, temp_df, on=['timestamp'])"
   ]
  },
  {
   "cell_type": "code",
   "execution_count": 30,
   "id": "c16cf050",
   "metadata": {},
   "outputs": [],
   "source": [
    "temp_df = pd.DataFrame({'holidayslastweek':holidays_last_week, 'timestamp': holidays_last_week_index})\n",
    "df_model = pd.merge(df_model, temp_df, on=['timestamp'])"
   ]
  },
  {
   "cell_type": "code",
   "execution_count": 31,
   "id": "d3f8d894",
   "metadata": {},
   "outputs": [],
   "source": [
    "holidays_features = ['holidaysnextweek', 'holidaysthisweek', 'holidayslastweek']\n",
    "\n",
    "features_x = list(set(features_x + holidays_features))"
   ]
  },
  {
   "cell_type": "code",
   "execution_count": 32,
   "id": "f5d9649f",
   "metadata": {},
   "outputs": [
    {
     "name": "stdout",
     "output_type": "stream",
     "text": [
      "(885426, 30)\n",
      "<class 'pandas.core.frame.DataFrame'>\n",
      "Int64Index: 885426 entries, 0 to 885425\n",
      "Data columns (total 30 columns):\n",
      " #   Column                   Non-Null Count   Dtype         \n",
      "---  ------                   --------------   -----         \n",
      " 0   store                    885426 non-null  int64         \n",
      " 1   dayofweek                885426 non-null  int64         \n",
      " 2   sales                    844338 non-null  float64       \n",
      " 3   customers                844338 non-null  float64       \n",
      " 4   open                     885426 non-null  int64         \n",
      " 5   promo                    885426 non-null  int64         \n",
      " 6   schoolholiday            885426 non-null  int64         \n",
      " 7   timestamp                885426 non-null  datetime64[ns]\n",
      " 8   year                     885426 non-null  int64         \n",
      " 9   month                    885426 non-null  int64         \n",
      " 10  day                      885426 non-null  int64         \n",
      " 11  dayofyear                885426 non-null  int64         \n",
      " 12  is_train                 885426 non-null  int64         \n",
      " 13  id                       41088 non-null   float64       \n",
      " 14  stateholiday             885426 non-null  int64         \n",
      " 15  storetype                885426 non-null  int64         \n",
      " 16  assortment               885426 non-null  int64         \n",
      " 17  competitiondistance      885426 non-null  float64       \n",
      " 18  competitionopen          885426 non-null  int64         \n",
      " 19  promosince               885426 non-null  int64         \n",
      " 20  0_prominterval           885426 non-null  float64       \n",
      " 21  dateint                  885426 non-null  int64         \n",
      " 22  promotomorrow            885425 non-null  float64       \n",
      " 23  promoyesterday           885425 non-null  float64       \n",
      " 24  salesperday              885426 non-null  float64       \n",
      " 25  customersperday          885426 non-null  float64       \n",
      " 26  salespercustomersperday  885426 non-null  float64       \n",
      " 27  holidaysnextweek         885426 non-null  int64         \n",
      " 28  holidaysthisweek         885426 non-null  int64         \n",
      " 29  holidayslastweek         885426 non-null  int64         \n",
      "dtypes: datetime64[ns](1), float64(10), int64(19)\n",
      "memory usage: 209.4 MB\n"
     ]
    }
   ],
   "source": [
    "print(df_model.shape)\n",
    "df_model.info()"
   ]
  },
  {
   "cell_type": "code",
   "execution_count": 33,
   "id": "6f91892b",
   "metadata": {},
   "outputs": [
    {
     "name": "stdout",
     "output_type": "stream",
     "text": [
      "Index(['store', 'dayofweek', 'sales', 'customers', 'open', 'promo',\n",
      "       'schoolholiday', 'timestamp', 'year', 'month', 'day', 'dayofyear',\n",
      "       'is_train', 'id', 'stateholiday', 'storetype', 'assortment',\n",
      "       'competitiondistance', 'competitionopen', 'promosince',\n",
      "       '0_prominterval', 'dateint', 'promotomorrow', 'promoyesterday',\n",
      "       'salesperday', 'customersperday', 'salespercustomersperday',\n",
      "       'holidaysnextweek', 'holidaysthisweek', 'holidayslastweek'],\n",
      "      dtype='object')\n",
      "['holidaysthisweek', 'salespercustomersperday', 'promoyesterday', 'store', 'stateholiday', 'holidayslastweek', 'competitiondistance', 'dateint', '0_prominterval', 'schoolholiday', 'promo', 'dayofweek', 'salesperday', 'competitionopen', 'customersperday', 'storetype', 'promosince', 'holidaysnextweek', 'open', 'promotomorrow', 'assortment']\n"
     ]
    }
   ],
   "source": [
    "print(df_model.columns)\n",
    "print(features_x)\n"
   ]
  },
  {
   "cell_type": "code",
   "execution_count": 34,
   "id": "1bd012e9",
   "metadata": {},
   "outputs": [
    {
     "name": "stdout",
     "output_type": "stream",
     "text": [
      "Stored 'features_x' (list)\n",
      "Stored 'features_y' (list)\n",
      "Stored 'df_model' (DataFrame)\n"
     ]
    }
   ],
   "source": [
    "%store  features_x features_y df_model"
   ]
  }
 ],
 "metadata": {
  "kernelspec": {
   "display_name": "Python 3 (ipykernel)",
   "language": "python",
   "name": "python3"
  },
  "language_info": {
   "codemirror_mode": {
    "name": "ipython",
    "version": 3
   },
   "file_extension": ".py",
   "mimetype": "text/x-python",
   "name": "python",
   "nbconvert_exporter": "python",
   "pygments_lexer": "ipython3",
   "version": "3.8.5"
  }
 },
 "nbformat": 4,
 "nbformat_minor": 5
}
