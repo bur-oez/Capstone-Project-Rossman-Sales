{
 "cells": [
  {
   "cell_type": "code",
   "execution_count": null,
   "id": "b4b00fba",
   "metadata": {},
   "outputs": [],
   "source": [
    "pip install plotly"
   ]
  },
  {
   "cell_type": "code",
   "execution_count": null,
   "id": "9274b2b8",
   "metadata": {},
   "outputs": [],
   "source": [
    "import warnings\n",
    "warnings.filterwarnings('ignore')\n",
    "\n",
    "import pandas as pd\n",
    "import numpy as np\n",
    "import seaborn as sns\n",
    "from sklearn.preprocessing import LabelEncoder\n",
    "import matplotlib.pyplot as plt\n",
    "import plotly.graph_objects as go\n",
    "import plotly.express as px"
   ]
  },
  {
   "cell_type": "markdown",
   "id": "48dc5281",
   "metadata": {},
   "source": [
    "# Data Cleaning"
   ]
  },
  {
   "cell_type": "code",
   "execution_count": null,
   "id": "e14b1141",
   "metadata": {},
   "outputs": [],
   "source": [
    "df_train = pd.read_csv('data/train.csv')\n",
    "df_test = pd.read_csv('data/test.csv')\n",
    "df_store = pd.read_csv('data/store.csv')"
   ]
  },
  {
   "cell_type": "code",
   "execution_count": null,
   "id": "fb7ffec1",
   "metadata": {},
   "outputs": [],
   "source": [
    "df_train.head()"
   ]
  },
  {
   "cell_type": "code",
   "execution_count": null,
   "id": "9685d6d7",
   "metadata": {},
   "outputs": [],
   "source": [
    "# Merge df_store and df_train\n",
    "df = df_train.merge(df_store, how='left', left_on=df_train.Store, right_on=df_store.Store)\n",
    "df.drop(['key_0', 'Store_y'], axis=1, inplace=True)\n",
    "df = df.rename(columns={'Store_x':'Store'})\n",
    "df.shape"
   ]
  },
  {
   "cell_type": "code",
   "execution_count": null,
   "id": "356422d7",
   "metadata": {},
   "outputs": [],
   "source": [
    "df.head()"
   ]
  },
  {
   "cell_type": "code",
   "execution_count": null,
   "id": "4453044e",
   "metadata": {},
   "outputs": [],
   "source": [
    "cols = df.columns.tolist()\n",
    "cols = [col.lower() for col in cols]\n",
    "df.columns = cols"
   ]
  },
  {
   "cell_type": "code",
   "execution_count": null,
   "id": "fa609b7a",
   "metadata": {},
   "outputs": [],
   "source": [
    "df.info()"
   ]
  },
  {
   "cell_type": "code",
   "execution_count": null,
   "id": "28f04070",
   "metadata": {},
   "outputs": [],
   "source": [
    "df = df.assign(\n",
    "    timestamp = lambda x: pd.to_datetime(x['date']),\n",
    "    year = lambda x: x['timestamp'].dt.year,\n",
    "    month = lambda x: x['timestamp'].dt.month,\n",
    "    day = lambda x: x['timestamp'].dt.day,\n",
    "    dayofyear = lambda x: x['timestamp'].dt.dayofyear\n",
    ")"
   ]
  },
  {
   "cell_type": "code",
   "execution_count": null,
   "id": "0df31f3e",
   "metadata": {},
   "outputs": [],
   "source": [
    "df.head()"
   ]
  },
  {
   "cell_type": "code",
   "execution_count": null,
   "id": "74da4bd8",
   "metadata": {},
   "outputs": [],
   "source": [
    "df['stateholiday'].unique()"
   ]
  },
  {
   "cell_type": "code",
   "execution_count": null,
   "id": "ce27ec0b",
   "metadata": {},
   "outputs": [],
   "source": [
    "df.stateholiday.value_counts()"
   ]
  },
  {
   "cell_type": "code",
   "execution_count": null,
   "id": "06bc85ed",
   "metadata": {},
   "outputs": [],
   "source": [
    "df['stateholiday'].replace({0:'0'}, inplace=True)"
   ]
  },
  {
   "cell_type": "code",
   "execution_count": null,
   "id": "c7ddc3ce",
   "metadata": {},
   "outputs": [],
   "source": [
    "df.stateholiday.value_counts()"
   ]
  },
  {
   "cell_type": "code",
   "execution_count": null,
   "id": "5b18174a",
   "metadata": {},
   "outputs": [],
   "source": [
    "round(df.describe().T,2)"
   ]
  },
  {
   "cell_type": "markdown",
   "id": "3d09256f",
   "metadata": {},
   "source": [
    "### Handling NaN's"
   ]
  },
  {
   "cell_type": "code",
   "execution_count": null,
   "id": "a5181d64",
   "metadata": {},
   "outputs": [],
   "source": [
    "df.isnull().sum()"
   ]
  },
  {
   "cell_type": "code",
   "execution_count": null,
   "id": "d7449722",
   "metadata": {},
   "outputs": [],
   "source": [
    "df_store[pd.isnull(df_store.CompetitionDistance)]"
   ]
  },
  {
   "cell_type": "code",
   "execution_count": null,
   "id": "9f480442",
   "metadata": {},
   "outputs": [],
   "source": [
    "# fill NaN with a median value\n",
    "df['competitiondistance'].fillna(df['competitiondistance'].median(), inplace = True)\n",
    "df['competitiondistance'].isnull().sum()"
   ]
  },
  {
   "cell_type": "code",
   "execution_count": null,
   "id": "22198260",
   "metadata": {},
   "outputs": [],
   "source": [
    "tmp = df_store[pd.isnull(df_store.CompetitionOpenSinceYear  )]\n",
    "tmp[tmp.CompetitionDistance != 0].shape"
   ]
  },
  {
   "cell_type": "code",
   "execution_count": null,
   "id": "5c96eebf",
   "metadata": {},
   "outputs": [],
   "source": [
    "tmp = df[pd.isnull(df.promo2sinceweek)]\n",
    "tmp[tmp.promo2 != 0].shape"
   ]
  },
  {
   "cell_type": "code",
   "execution_count": null,
   "id": "83d5944f",
   "metadata": {},
   "outputs": [],
   "source": [
    "# replace NA's by 0\n",
    "df.fillna(0, inplace = True)"
   ]
  },
  {
   "cell_type": "code",
   "execution_count": null,
   "id": "ea1f1a66",
   "metadata": {},
   "outputs": [],
   "source": [
    "df.isnull().sum()"
   ]
  },
  {
   "cell_type": "code",
   "execution_count": null,
   "id": "e762bd49",
   "metadata": {},
   "outputs": [],
   "source": [
    "df.info()"
   ]
  },
  {
   "cell_type": "code",
   "execution_count": null,
   "id": "0ca8b2d1",
   "metadata": {},
   "outputs": [],
   "source": [
    "df_test.isnull().sum()"
   ]
  },
  {
   "cell_type": "code",
   "execution_count": null,
   "id": "944bed66",
   "metadata": {},
   "outputs": [],
   "source": [
    "df_test[df_test[\"Open\"].isnull()]"
   ]
  },
  {
   "cell_type": "code",
   "execution_count": null,
   "id": "f85ecf46",
   "metadata": {},
   "outputs": [],
   "source": [
    "df_test.fillna(1, inplace=True)"
   ]
  },
  {
   "cell_type": "code",
   "execution_count": null,
   "id": "a63f765d",
   "metadata": {},
   "outputs": [],
   "source": [
    "df_test.isnull().sum()"
   ]
  },
  {
   "cell_type": "markdown",
   "id": "87a6156c",
   "metadata": {},
   "source": [
    "### Handling Datatyp"
   ]
  },
  {
   "cell_type": "code",
   "execution_count": null,
   "id": "83b82290",
   "metadata": {},
   "outputs": [],
   "source": [
    "df_test[\"Open\"]= df_test[\"Open\"].astype(int)"
   ]
  },
  {
   "cell_type": "code",
   "execution_count": null,
   "id": "0eeebde3",
   "metadata": {},
   "outputs": [],
   "source": [
    "df_test.info()"
   ]
  },
  {
   "cell_type": "markdown",
   "id": "34d31f75",
   "metadata": {},
   "source": [
    "### Handling Categorical Data"
   ]
  },
  {
   "cell_type": "code",
   "execution_count": null,
   "id": "83f8e630",
   "metadata": {},
   "outputs": [],
   "source": [
    "le = LabelEncoder()"
   ]
  },
  {
   "cell_type": "code",
   "execution_count": null,
   "id": "f721e795",
   "metadata": {},
   "outputs": [],
   "source": [
    "ass_typ = pd.get_dummies(df[\"assortment\"], drop_first=True)\n",
    "df = pd.concat([df,ass_typ], axis=1)\n"
   ]
  },
  {
   "cell_type": "code",
   "execution_count": null,
   "id": "987b1146",
   "metadata": {},
   "outputs": [],
   "source": [
    "df[\"storetype_cat\"] = le.fit_transform(df[\"storetype\"])"
   ]
  },
  {
   "cell_type": "code",
   "execution_count": null,
   "id": "41ed8905",
   "metadata": {},
   "outputs": [],
   "source": [
    "df[\"stateholiday_cat\"] = le.fit_transform(df[\"stateholiday\"])"
   ]
  },
  {
   "cell_type": "code",
   "execution_count": null,
   "id": "e7c7587a",
   "metadata": {},
   "outputs": [],
   "source": [
    "df =df.rename(columns={\"b\" : \"ass_extra\"})"
   ]
  },
  {
   "cell_type": "code",
   "execution_count": null,
   "id": "9e68a775",
   "metadata": {},
   "outputs": [],
   "source": [
    "df =df.rename(columns={\"c\" : \"ass_extended\"})"
   ]
  },
  {
   "cell_type": "code",
   "execution_count": null,
   "id": "b093587c",
   "metadata": {},
   "outputs": [],
   "source": [
    "df[\"stateholiday_cat\"].unique()"
   ]
  },
  {
   "cell_type": "code",
   "execution_count": null,
   "id": "699e8739",
   "metadata": {},
   "outputs": [],
   "source": [
    "df.info()"
   ]
  },
  {
   "cell_type": "code",
   "execution_count": null,
   "id": "9f63e6f9",
   "metadata": {},
   "outputs": [],
   "source": [
    "df.stateholiday.value_counts()"
   ]
  },
  {
   "cell_type": "code",
   "execution_count": null,
   "id": "62d4b459",
   "metadata": {},
   "outputs": [],
   "source": [
    "df.stateholiday_cat.value_counts()"
   ]
  },
  {
   "cell_type": "markdown",
   "id": "a03666d3",
   "metadata": {},
   "source": [
    "# Eda"
   ]
  },
  {
   "cell_type": "markdown",
   "id": "025ec467",
   "metadata": {},
   "source": [
    "## Question: Are the Promos effective?"
   ]
  },
  {
   "cell_type": "code",
   "execution_count": null,
   "id": "87a69304",
   "metadata": {},
   "outputs": [],
   "source": [
    "df.groupby('storetype')['sales'].describe()"
   ]
  },
  {
   "cell_type": "code",
   "execution_count": null,
   "id": "72918196",
   "metadata": {},
   "outputs": [],
   "source": [
    "df.groupby('storetype')['customers', 'sales'].sum()"
   ]
  },
  {
   "cell_type": "code",
   "execution_count": null,
   "id": "3d81fc2e",
   "metadata": {},
   "outputs": [],
   "source": [
    "# sales trends\n",
    "sns.factorplot(data = df, x = 'month', y = \"sales\", \n",
    "               col = 'storetype',\n",
    "               palette = 'plasma',\n",
    "               hue = 'storetype',\n",
    "               row = 'promo', \n",
    "               ) "
   ]
  },
  {
   "cell_type": "markdown",
   "id": "c7032edb",
   "metadata": {},
   "source": [
    "## Finding"
   ]
  },
  {
   "cell_type": "markdown",
   "id": "edb21b5c",
   "metadata": {},
   "source": [
    "Storetype B has the highest sales numbers, with the largest variance. All storetypes show increased sales numbers towards christmas. \n",
    "\n",
    "Stores which have run a promo, show higher sales. But storetypes a,c and d show a dip towards easter, if they have run a promo, which is not the case for stores without a promo."
   ]
  },
  {
   "cell_type": "code",
   "execution_count": null,
   "id": "81f553b9",
   "metadata": {},
   "outputs": [],
   "source": [
    "# customers trends\n",
    "sns.factorplot(data = df, x = 'month', y = \"customers\", \n",
    "               col = 'storetype',\n",
    "               palette = 'plasma',\n",
    "               hue = 'storetype',\n",
    "               row = 'promo',\n",
    "               ) "
   ]
  },
  {
   "cell_type": "markdown",
   "id": "387542a8",
   "metadata": {},
   "source": [
    "## Finding"
   ]
  },
  {
   "cell_type": "markdown",
   "id": "1c3db06a",
   "metadata": {},
   "source": [
    "Storetype B has the highest number of customers, with the largest variance. All storetypes show an increase of customers towards christmas. This trend is higher, if they have run a promo.\n",
    "\n",
    "Same effect of a dip for storetypes a,c and d in customers towards easter can be also be seen here."
   ]
  },
  {
   "cell_type": "code",
   "execution_count": null,
   "id": "723cfade",
   "metadata": {},
   "outputs": [],
   "source": [
    "# sale per customer trends\n",
    "df['salepercustomer'] = df['sales']/df['customers']\n",
    "sns.factorplot(data = df, x = 'month', y = \"salepercustomer\", \n",
    "               col = 'storetype',\n",
    "               palette = 'plasma',\n",
    "               hue = 'storetype',\n",
    "               row = 'promo', \n",
    "               ) "
   ]
  },
  {
   "cell_type": "markdown",
   "id": "577f9ff5",
   "metadata": {},
   "source": [
    "## Finding"
   ]
  },
  {
   "cell_type": "markdown",
   "id": "22f299e1",
   "metadata": {},
   "source": [
    "Sales per customer:\n",
    "storetype b seems to be where customers only buy small items in low numbers (possible trainstation location?)\n",
    "storetype d customers buy the largest quantity\n",
    "a und c are very similar"
   ]
  },
  {
   "cell_type": "code",
   "execution_count": null,
   "id": "f89bcac1",
   "metadata": {
    "tags": []
   },
   "outputs": [],
   "source": [
    "# weekday trends\n",
    "sns.factorplot(data = df, x = 'dayofweek', y = \"customers\", \n",
    "               col = 'storetype',\n",
    "               palette = 'plasma',\n",
    "               hue = 'storetype',\n",
    "               row = 'promo',\n",
    "               ) "
   ]
  },
  {
   "cell_type": "markdown",
   "id": "cc35fd92",
   "metadata": {},
   "source": [
    "## Finding"
   ]
  },
  {
   "cell_type": "markdown",
   "id": "0a5b4b80",
   "metadata": {},
   "source": [
    "Promos are run only during the work-week, no promo on saturday/sunday.\n",
    "\n",
    "Storetype b also open on sundays -> trainstation, fo sho\n",
    "storetyp a lower number of customers on saturday, c and d increased"
   ]
  },
  {
   "cell_type": "code",
   "execution_count": null,
   "id": "f6284727",
   "metadata": {},
   "outputs": [],
   "source": [
    "# weekday trends\n",
    "sns.factorplot(data = df, x = 'dayofweek', y = \"sales\", \n",
    "               col = 'storetype',\n",
    "               palette = 'plasma',\n",
    "               hue = 'storetype',\n",
    "               row = 'promo',\n",
    "               ) "
   ]
  },
  {
   "cell_type": "markdown",
   "id": "aaac978c",
   "metadata": {},
   "source": [
    "Similar trends regarding sales numbers and customers.\n",
    "Highest number of sales and customers on mondays, if a promo was run"
   ]
  },
  {
   "cell_type": "markdown",
   "id": "2d6924b9",
   "metadata": {},
   "source": [
    "## Conclusion : Question: Are the Promos effective?\"\n",
    "- Promos are run only during the work-week, no promo on saturday/sunday\\n\",\n",
    "- Storetype B has the highest number of customers, with the largest variance\\n\",\n",
    "- Storetype B has the highest sales numbers, with the largest variance\\n\",\n",
    "- All storetypes show increased sales numbers towards christmas\\n\",\n",
    "- Stores which have run a promo, show higher sales. But storetypes a, c and d show a dip towards easter, if they have run a promo, which is not the case for stores without a promo.\""
   ]
  },
  {
   "cell_type": "code",
   "execution_count": null,
   "id": "037b07a3",
   "metadata": {},
   "outputs": [],
   "source": [
    "## beachte: date, (assortment, storetype und stateholiday,assortment) müssen noch raus. die in der klammer sind schon durch kategorische Variablen ersetzt"
   ]
  },
  {
   "cell_type": "code",
   "execution_count": null,
   "id": "902e7243",
   "metadata": {},
   "outputs": [],
   "source": [
    "sns.factorplot(data = df, x = 'month', y = \"sales\", \n",
    "               col = 'dayofweek', \n",
    "               palette = 'plasma',\n",
    "               hue = 'storetype',\n",
    "               row = 'storetype',\n",
    "               ) "
   ]
  },
  {
   "cell_type": "markdown",
   "id": "66a7df2b",
   "metadata": {},
   "source": [
    "This shows the sales per storetyp across all months for each weekday."
   ]
  },
  {
   "cell_type": "code",
   "execution_count": null,
   "id": "d4db0246",
   "metadata": {},
   "outputs": [],
   "source": [
    "# stores which are opened on Sundays\n",
    "df[(df.open == 1) & (df.dayofweek == 7)]['store'].unique()"
   ]
  },
  {
   "cell_type": "markdown",
   "id": "651900f7",
   "metadata": {},
   "source": [
    "These are the stores, which are open on sundays."
   ]
  },
  {
   "cell_type": "code",
   "execution_count": null,
   "id": "7a3ab0d5",
   "metadata": {},
   "outputs": [],
   "source": [
    "fig, axes = plt.subplots(nrows=2, ncols=1, figsize=(18,8))\n",
    "sns.lineplot(x = \"date\", y = df.groupby(df.index).mean()[\"competitiondistance\"] , data=df, ax=axes[0])\n",
    "sns.lineplot(x = \"date\", y = df.groupby(df.index).mean()[\"competitionopensincemonth\"]  , data=df, ax=axes[1])\n",
    "\n",
    "axes[0].set_title(\"Date vs Competiton Distance (on average)\")\n",
    "axes[1].set_title(\"Date vs Competiton Open Since Month (on average)\")\n",
    "plt.show()"
   ]
  },
  {
   "cell_type": "code",
   "execution_count": null,
   "id": "f512a525",
   "metadata": {},
   "outputs": [],
   "source": [
    "temp_df = df.copy()\n",
    "temp_df.index = temp_df.date\n",
    "temp_df = temp_df.groupby(temp_df.index).mean()\n",
    "\n",
    "fig, axes = plt.subplots(nrows=1, ncols=2, figsize=(18,8))\n",
    "sns.lineplot(x = \"date\", y = \"competitiondistance\" , data=temp_df, ax=axes[0])\n",
    "sns.lineplot(x = \"date\", y = \"competitionopensincemonth\"  , data=df, ax=axes[1])\n",
    "\n",
    "axes[0].set_title(\"Date vs Competiton Distance (on average)\")\n",
    "axes[1].set_title(\"Date vs Competiton Open Since Month (on average)\")\n",
    "plt.show()\n",
    "\n"
   ]
  },
  {
   "cell_type": "code",
   "execution_count": null,
   "id": "28d0317e",
   "metadata": {},
   "outputs": [],
   "source": [
    "df_store.describe().T"
   ]
  },
  {
   "cell_type": "code",
   "execution_count": null,
   "id": "e602570c",
   "metadata": {},
   "outputs": [],
   "source": [
    "fig, axes = plt.subplots(nrows=2, ncols=1, figsize=(18,8))\n",
    "sns.lineplot(x = \"Store\", y = \"CompetitionDistance\" , data=df_store, ax=axes[0])\n",
    "sns.lineplot(x = \"Store\", y = \"CompetitionOpenSinceMonth\"  , data=df_store, ax=axes[1])"
   ]
  },
  {
   "cell_type": "code",
   "execution_count": null,
   "id": "e32aa988",
   "metadata": {},
   "outputs": [],
   "source": [
    "sns.set_style(\"dark\")\n",
    "sns.histplot(data=df_store, x=\"CompetitionDistance\")\n"
   ]
  },
  {
   "cell_type": "code",
   "execution_count": null,
   "id": "0e39065e",
   "metadata": {},
   "outputs": [],
   "source": [
    "sns.countplot(x=\"StoreType\",hue=\"Assortment\",order=[\"a\",\"b\",\"c\",\"d\"], \n",
    "                                     data=df_store,palette=\"rocket_r\").set_title(\"Number of Different Assortments per Store Type\")"
   ]
  },
  {
   "cell_type": "code",
   "execution_count": null,
   "id": "852ee76d",
   "metadata": {},
   "outputs": [],
   "source": [
    "df.columns"
   ]
  },
  {
   "cell_type": "code",
   "execution_count": null,
   "id": "f7bfd5ee",
   "metadata": {},
   "outputs": [],
   "source": [
    "df['assperstoretype'] = df['assortment'] + df['storetype']"
   ]
  },
  {
   "cell_type": "code",
   "execution_count": null,
   "id": "b51bf993",
   "metadata": {},
   "outputs": [],
   "source": [
    "temp = df.groupby('assperstoretype')['sales'].agg(['mean'])\n",
    "temp"
   ]
  },
  {
   "cell_type": "code",
   "execution_count": null,
   "id": "027144a3",
   "metadata": {},
   "outputs": [],
   "source": [
    "#fig2 = px.scatter(df, x='store', y='sales', color='assperstoretype')\n",
    "#fig2.show()"
   ]
  },
  {
   "cell_type": "code",
   "execution_count": null,
   "id": "d2c84243",
   "metadata": {},
   "outputs": [],
   "source": [
    "#fig3 = px.scatter(df, x='store', y='sales', color='extraperstoretype')\n",
    "#fig3.show()"
   ]
  },
  {
   "cell_type": "code",
   "execution_count": null,
   "id": "2eb849e9",
   "metadata": {},
   "outputs": [],
   "source": [
    "df['extendedperstoretype'] = (df['ass_extended']==1).astype(str) + '_' + df['storetype']"
   ]
  },
  {
   "cell_type": "code",
   "execution_count": null,
   "id": "c064c03a",
   "metadata": {},
   "outputs": [],
   "source": [
    "#fig4 = px.scatter(df, x='store', y='sales', color='extendedperstoretype')\n",
    "#fig4.show()"
   ]
  },
  {
   "cell_type": "code",
   "execution_count": null,
   "id": "48f6eb5e",
   "metadata": {},
   "outputs": [],
   "source": [
    "#fig2.write_html(\"images/sales_store.html\")\n",
    "#fig3.write_html(\"images/sales_extraperstoretype.html\")\n",
    "#fig4.write_html(\"images/sales_extendedperstoretype.html\")"
   ]
  },
  {
   "cell_type": "code",
   "execution_count": null,
   "id": "d95bdf88",
   "metadata": {},
   "outputs": [],
   "source": []
  }
 ],
 "metadata": {
  "kernelspec": {
   "display_name": "Python 3 (ipykernel)",
   "language": "python",
   "name": "python3"
  },
  "language_info": {
   "codemirror_mode": {
    "name": "ipython",
    "version": 3
   },
   "file_extension": ".py",
   "mimetype": "text/x-python",
   "name": "python",
   "nbconvert_exporter": "python",
   "pygments_lexer": "ipython3",
   "version": "3.8.5"
  }
 },
 "nbformat": 4,
 "nbformat_minor": 5
}
